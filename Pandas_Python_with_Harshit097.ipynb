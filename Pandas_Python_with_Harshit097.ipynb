{
  "nbformat": 4,
  "nbformat_minor": 0,
  "metadata": {
    "colab": {
      "provenance": [],
      "authorship_tag": "ABX9TyO+Q5B8caMcbj7HwlbSXK7/",
      "include_colab_link": true
    },
    "kernelspec": {
      "name": "python3",
      "display_name": "Python 3"
    },
    "language_info": {
      "name": "python"
    }
  },
  "cells": [
    {
      "cell_type": "markdown",
      "metadata": {
        "id": "view-in-github",
        "colab_type": "text"
      },
      "source": [
        "<a href=\"https://colab.research.google.com/github/HARSHIT097/100_DAYS_pYTHON/blob/main/Pandas_Python_with_Harshit097.ipynb\" target=\"_parent\"><img src=\"https://colab.research.google.com/assets/colab-badge.svg\" alt=\"Open In Colab\"/></a>"
      ]
    },
    {
      "cell_type": "markdown",
      "source": [
        "\n",
        "Pandas is a powerful data manipulation and analysis library for Python. Let's start with the basics and gradually move to more advanced topics.\n",
        "\n",
        "\n"
      ],
      "metadata": {
        "id": "I_ZQiJaeUr0M"
      }
    },
    {
      "cell_type": "markdown",
      "source": [
        "#Install the libraries"
      ],
      "metadata": {
        "id": "zI6AWp1QUz1s"
      }
    },
    {
      "cell_type": "code",
      "source": [
        "!pip install pandas"
      ],
      "metadata": {
        "id": "f3JhQ9xbU3mb"
      },
      "execution_count": null,
      "outputs": []
    },
    {
      "cell_type": "markdown",
      "source": [
        "#Import the Libraries"
      ],
      "metadata": {
        "id": "PEsa1qT-KTZW"
      }
    },
    {
      "cell_type": "code",
      "source": [
        "import pandas as pd"
      ],
      "metadata": {
        "id": "9DxoCPdAKZjs"
      },
      "execution_count": 2,
      "outputs": []
    },
    {
      "cell_type": "markdown",
      "source": [
        "#Creating DataFrame\n",
        "\n",
        "A DataFrame is a 2-dimensional labeled data structure with columns of potentially different types. You can think of it as a table or a spreadsheet."
      ],
      "metadata": {
        "id": "Qj-KeiqbI_nK"
      }
    },
    {
      "cell_type": "code",
      "execution_count": 6,
      "metadata": {
        "colab": {
          "base_uri": "https://localhost:8080/",
          "height": 0
        },
        "id": "oijGJqzmI5ao",
        "outputId": "1ed17f12-050c-42a5-e7b5-5dd574b12638"
      },
      "outputs": [
        {
          "output_type": "stream",
          "name": "stdout",
          "text": [
            "          Name  Age    City\n",
            "0          Ram   28   Delhi\n",
            "1        Shyam   30    Pune\n",
            "2  Babu Bhaiya   55  Mumbai\n"
          ]
        }
      ],
      "source": [
        "#From List\n",
        "data = [\n",
        "    ['Ram', 28, 'Delhi'],\n",
        "    ['Shyam', 30, 'Pune'],\n",
        "    ['Babu Bhaiya', 55, 'Mumbai']\n",
        "]\n",
        "\n",
        "df = pd.DataFrame(data, columns=['Name', 'Age', 'City'])\n",
        "print(df)"
      ]
    },
    {
      "cell_type": "code",
      "source": [
        "#From Dictionaries\n",
        "data = {\n",
        "    'Name': ['Ram', 'Shyam', 'Babu bhaiya'],\n",
        "    'Age': [28, 30, 55],\n",
        "    'City': ['Delhi', 'Pune', 'Mumbai']\n",
        "}\n",
        "\n",
        "df = pd.DataFrame(data)\n",
        "print(df)"
      ],
      "metadata": {
        "colab": {
          "base_uri": "https://localhost:8080/",
          "height": 0
        },
        "id": "JDolMg_yKcUy",
        "outputId": "5acee132-4f2b-4ca6-aaa8-05ea6b69555a"
      },
      "execution_count": 7,
      "outputs": [
        {
          "output_type": "stream",
          "name": "stdout",
          "text": [
            "          Name  Age    City\n",
            "0          Ram   28   Delhi\n",
            "1        Shyam   30    Pune\n",
            "2  Babu bhaiya   55  Mumbai\n"
          ]
        }
      ]
    },
    {
      "cell_type": "markdown",
      "source": [
        "## Reading the data frame\n",
        "Pandas can read data from various file formats, such as CSV, Excel, SQL, and more.\n"
      ],
      "metadata": {
        "id": "bI97GtIZLLnh"
      }
    },
    {
      "cell_type": "code",
      "source": [
        "f = pd.read_csv('filename.csv')\n",
        "print(df.head())  # Display the first 5 rows"
      ],
      "metadata": {
        "colab": {
          "base_uri": "https://localhost:8080/",
          "height": 0
        },
        "collapsed": true,
        "id": "wcyZmY5cLWkl",
        "outputId": "41437e4d-45bb-4303-af78-d239500209d5"
      },
      "execution_count": 10,
      "outputs": [
        {
          "output_type": "stream",
          "name": "stdout",
          "text": [
            "          Name  Age    City\n",
            "0          Ram   28   Delhi\n",
            "1        Shyam   30    Pune\n",
            "2  Babu bhaiya   55  Mumbai\n"
          ]
        }
      ]
    },
    {
      "cell_type": "markdown",
      "source": [
        "## Data Exploration or inspection"
      ],
      "metadata": {
        "id": "7W6MY91bLQct"
      }
    },
    {
      "cell_type": "code",
      "source": [
        "#Inspecting Data\n",
        "\n",
        "print(df.head())  # First 5 rows\n",
        "print(df.tail())  # Last 5 rows\n",
        "print(df.shape)   # Shape of the DataFrame (rows, columns)\n",
        "print(df.info())  # Summary of the DataFrame\n",
        "print(df.describe())  # Statistical summary"
      ],
      "metadata": {
        "colab": {
          "base_uri": "https://localhost:8080/",
          "height": 0
        },
        "collapsed": true,
        "id": "1gH87yDRLVsx",
        "outputId": "4c13f3b6-64fc-4c39-f360-dd5b8eb08e23"
      },
      "execution_count": 8,
      "outputs": [
        {
          "output_type": "stream",
          "name": "stdout",
          "text": [
            "          Name  Age    City\n",
            "0          Ram   28   Delhi\n",
            "1        Shyam   30    Pune\n",
            "2  Babu bhaiya   55  Mumbai\n",
            "          Name  Age    City\n",
            "0          Ram   28   Delhi\n",
            "1        Shyam   30    Pune\n",
            "2  Babu bhaiya   55  Mumbai\n",
            "(3, 3)\n",
            "<class 'pandas.core.frame.DataFrame'>\n",
            "RangeIndex: 3 entries, 0 to 2\n",
            "Data columns (total 3 columns):\n",
            " #   Column  Non-Null Count  Dtype \n",
            "---  ------  --------------  ----- \n",
            " 0   Name    3 non-null      object\n",
            " 1   Age     3 non-null      int64 \n",
            " 2   City    3 non-null      object\n",
            "dtypes: int64(1), object(2)\n",
            "memory usage: 200.0+ bytes\n",
            "None\n",
            "             Age\n",
            "count   3.000000\n",
            "mean   37.666667\n",
            "std    15.044379\n",
            "min    28.000000\n",
            "25%    29.000000\n",
            "50%    30.000000\n",
            "75%    42.500000\n",
            "max    55.000000\n"
          ]
        }
      ]
    },
    {
      "cell_type": "code",
      "source": [
        "#Choosing columns\n",
        "print(df['Name'])  # Single column\n",
        "print(df[['Name', 'City']])  # Multiple columns"
      ],
      "metadata": {
        "id": "YcILDO-KLY_x"
      },
      "execution_count": null,
      "outputs": []
    },
    {
      "cell_type": "code",
      "source": [
        "#Selecting rows:\n",
        "print(df.iloc[0])  # First row by position\n",
        "print(df.loc[0])  # First row by label (if you have a custom index)\n",
        "\n",
        "#Slicing:\n",
        "print(df[0:2])  # First two rows\n",
        "\n",
        "#Conditional selection:\n",
        "print(df[df['Age'] > 30])  # Rows where Age is greater than 30"
      ],
      "metadata": {
        "id": "RjBlPtGLWgpw"
      },
      "execution_count": null,
      "outputs": []
    },
    {
      "cell_type": "markdown",
      "source": [
        "## Data Manipulation"
      ],
      "metadata": {
        "id": "uurd3QXXLZyc"
      }
    },
    {
      "cell_type": "code",
      "source": [
        "# Modifying Data\n",
        "\n",
        "#Adding a new column:\n",
        "df['Country'] = 'India'  # Adds a new column with the same value\n",
        "df['Salary'] = [70000, 80000, 90000]  # Adds a new column with different values\n",
        "\n",
        "#Modifying values:\n",
        "df.loc[0, 'Age'] = 26  # Modify a single value\n",
        "df['Age'] = df['Age'] + 1  # Modify an entire column\n",
        "\n",
        "#Deleting a column:\n",
        "df = df.drop('Country', axis=1)  # Drop a column\n"
      ],
      "metadata": {
        "id": "_q6X2w4oLdyj"
      },
      "execution_count": null,
      "outputs": []
    },
    {
      "cell_type": "code",
      "source": [
        "#Checking for missing values:\n",
        "print(df.isnull())  # Returns a DataFrame with True for missing values\n",
        "print(df.isnull().sum())  # Sum of missing values for each column\n",
        "\n",
        "#Dropping missing values:\n",
        "df = df.dropna()  # Drops rows with any missing values\n",
        "df = df.dropna(axis=1)  # Drops columns with any missing values\n",
        "\n",
        "\n",
        "#Filling missing values:\n",
        "df = df.fillna(0)  # Fill missing values with 0\n",
        "df = df.fillna(method='ffill')  # Forward fill\n",
        "df = df.fillna(method='bfill')  # Backward fill"
      ],
      "metadata": {
        "id": "oYR106pzLerp"
      },
      "execution_count": null,
      "outputs": []
    },
    {
      "cell_type": "code",
      "source": [
        "#Grouping and Aggregating Data\n",
        "\n",
        "grouped = df.groupby('City')\n",
        "print(grouped['Age'].mean())  # Average age per city\n",
        "\n",
        "# Multiple aggregations\n",
        "print(grouped.agg({\n",
        "    'Age': ['mean', 'max'],\n",
        "    'Salary': ['mean', 'sum']\n",
        "}))"
      ],
      "metadata": {
        "id": "hn1To2-HXSIk"
      },
      "execution_count": null,
      "outputs": []
    },
    {
      "cell_type": "code",
      "source": [
        "# Merging and Joining DataFrames\n",
        "\n",
        "#Merging:\n",
        "df1 = pd.DataFrame({'key': ['A', 'B', 'C'], 'value1': [1, 2, 3]})\n",
        "df2 = pd.DataFrame({'key': ['A', 'B', 'D'], 'value2': [4, 5, 6]})\n",
        "\n",
        "merged = pd.merge(df1, df2, on='key', how='inner')  # Inner join on key\n",
        "print(merged)\n",
        "\n",
        "\n",
        "#Concatenating:\n",
        "df1 = pd.DataFrame({'A': [1, 2, 3]})\n",
        "df2 = pd.DataFrame({'B': [4, 5, 6]})\n",
        "\n",
        "concat = pd.concat([df1, df2], axis=1)  # Concatenate along columns\n",
        "print(concat)"
      ],
      "metadata": {
        "id": "tNpDYZaIXa0Q"
      },
      "execution_count": null,
      "outputs": []
    },
    {
      "cell_type": "markdown",
      "source": [
        "#Saving Data"
      ],
      "metadata": {
        "id": "P3k3Olw3Xqp3"
      }
    },
    {
      "cell_type": "code",
      "source": [
        "df.to_csv('filename.csv', index=False)  # Save to CSV\n",
        "df.to_excel('filename.xlsx', index=False)  # Save to Excel"
      ],
      "metadata": {
        "id": "484QrJPEXpvF"
      },
      "execution_count": null,
      "outputs": []
    },
    {
      "cell_type": "markdown",
      "source": [
        "🔍 Enhance Your Data Skills with Advanced Pandas Techniques! 🐼\n",
        "\n",
        "Are you comfortable with the basics of Pandas and ready to take your data manipulation and analysis skills to the next level? Here are some advanced topics you can explore"
      ],
      "metadata": {
        "id": "gFOyxunaZnTG"
      }
    },
    {
      "cell_type": "markdown",
      "source": [
        "# There are several advanced topics and techniques in Pandas that you can explore after mastering the basics. Here’s a list of additional topics to cover:\n",
        "\n",
        "#**Advanced Data Selection**\n",
        "##Advanced Indexing and Slicing: Learn more about .loc and .iloc, using boolean indexing, and setting multi-level indexes.\n",
        "##Using .query() Method: A way to query DataFrames using SQL-like expressions.\n",
        "#**Advanced Data Manipulation**\n",
        "##Pivot Tables: Similar to Excel pivot tables, useful for summarizing data.\n",
        "##Reshaping Data: Techniques such as melt and pivot for transforming data layouts.\n",
        "##Handling Dates and Times: Using pd.to_datetime, working with DatetimeIndex, and handling time series data.\n",
        "##String Operations: String methods available for text data in Series.\n",
        "##Categorical Data: Using Pandas' categorical data type to save memory and improve performance.\n",
        "#**Data Cleaning**\n",
        "##Duplicated Data: Methods to identify and remove duplicate rows.\n",
        "##Data Transformation: Techniques such as applying custom functions using .apply(), .map(), and .transform().\n",
        "##Outlier Detection: Identifying and handling outliers.\n",
        "#**Data Aggregation and Group Operations**\n",
        "##Advanced GroupBy: Grouping by multiple columns, performing different aggregations on different columns.\n",
        "##Window Operations: Rolling windows, expanding windows, and exponentially weighted windows for time series data.\n",
        "#**Merging and Joining DataFrames**\n",
        "##Concatenation with Keys: Concatenating DataFrames with multi-level indexes.\n",
        "##Merging on Multiple Keys: Performing complex merges using multiple keys.\n",
        "#**Performance Optimization**\n",
        "##Optimizing Memory Usage: Techniques to reduce memory usage, such as downcasting data types.\n",
        "##Efficient Iteration: Using itertuples and apply for faster row-wise operations.\n",
        "#**Visualization**\n",
        "##Advanced Plotting with Pandas: Using Pandas built-in plotting capabilities for various plot types.\n",
        "##Integration with Seaborn and Matplotlib: Creating more complex visualizations by combining Pandas with other plotting libraries.\n",
        "#**Working with Large Datasets**\n",
        "##Chunking: Reading and processing data in chunks to handle large datasets.\n",
        "##Using Dask: For parallel computing with Pandas-like syntax for big data processing.\n",
        "#**Exporting Data**\n",
        "##Advanced Export Options: Exporting data to various formats such as JSON, HTML, and SQL databases."
      ],
      "metadata": {
        "id": "oBFVD22EYBbJ"
      }
    }
  ]
}
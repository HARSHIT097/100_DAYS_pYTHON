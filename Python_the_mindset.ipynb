{
  "nbformat": 4,
  "nbformat_minor": 0,
  "metadata": {
    "colab": {
      "provenance": [],
      "authorship_tag": "ABX9TyP32uV1Ig0bhY9O0sHXaVIb",
      "include_colab_link": true
    },
    "kernelspec": {
      "name": "python3",
      "display_name": "Python 3"
    },
    "language_info": {
      "name": "python"
    }
  },
  "cells": [
    {
      "cell_type": "markdown",
      "metadata": {
        "id": "view-in-github",
        "colab_type": "text"
      },
      "source": [
        "<a href=\"https://colab.research.google.com/github/HARSHIT097/100_DAYS_pYTHON/blob/main/Python_the_mindset.ipynb\" target=\"_parent\"><img src=\"https://colab.research.google.com/assets/colab-badge.svg\" alt=\"Open In Colab\"/></a>"
      ]
    },
    {
      "cell_type": "markdown",
      "source": [
        "# Python language"
      ],
      "metadata": {
        "id": "R9OGnPT3igc1"
      }
    },
    {
      "cell_type": "markdown",
      "source": [
        "The **fundamental behind any language** is to\n",
        "\n",
        "```\n",
        "# communicate thoughts, ideas, and instructions\n",
        "```\n",
        "\n",
        "in a structured way, enabling understanding and execution between\n",
        "\n",
        "\n",
        "individuals, machines, or systems."
      ],
      "metadata": {
        "id": "hBlLCngTimT8"
      }
    },
    {
      "cell_type": "code",
      "source": [],
      "metadata": {
        "id": "_WKhm93Rn3lM"
      },
      "execution_count": null,
      "outputs": []
    },
    {
      "cell_type": "markdown",
      "source": [
        "##### ALL THE OLD SYSTEM/MACHINES WERE ABLE TO EXECUTE INSTRUCTIONS\n",
        "\n",
        "# LETS dO THAT :\n",
        "FOR EXAMPLE: aDDING TWO NUMBERS\n",
        "\n",
        "\n",
        "The below progression demonstrates how Python can evolve from a simple procedural approach to more sophisticated and structured designs using object-oriented programming and functional programming techniques."
      ],
      "metadata": {
        "id": "4vc0-v05kKpi"
      }
    },
    {
      "cell_type": "code",
      "execution_count": 11,
      "metadata": {
        "colab": {
          "base_uri": "https://localhost:8080/",
          "height": 0
        },
        "id": "YrWmW0NOibCn",
        "outputId": "dcb9ef2d-94e1-4e3c-b8ad-a5e4ea851dd9"
      },
      "outputs": [
        {
          "output_type": "execute_result",
          "data": {
            "text/plain": [
              "7"
            ]
          },
          "metadata": {},
          "execution_count": 11
        }
      ],
      "source": [
        "2 + 5"
      ]
    },
    {
      "cell_type": "code",
      "source": [
        " a = 2\n",
        " b = 5\n",
        "\n",
        " print(\"The sum of a and b is:\", a+b)"
      ],
      "metadata": {
        "colab": {
          "base_uri": "https://localhost:8080/",
          "height": 0
        },
        "id": "1wmki813kv6I",
        "outputId": "0bbe3600-68b8-4cb2-c634-1707c236cece"
      },
      "execution_count": 2,
      "outputs": [
        {
          "output_type": "stream",
          "name": "stdout",
          "text": [
            "The sum of a and b is: 7\n"
          ]
        }
      ]
    },
    {
      "cell_type": "code",
      "source": [
        "a = int(input(\"Enter the first number: \"))\n",
        "b = int(input(\"Enter the second number: \"))\n",
        "\n",
        "print(\"The sum of a and b is:\", a+b)"
      ],
      "metadata": {
        "colab": {
          "base_uri": "https://localhost:8080/",
          "height": 0
        },
        "id": "9q_Jc7CDk-Qk",
        "outputId": "bf93d911-92f2-412b-aa66-221aad117952"
      },
      "execution_count": 3,
      "outputs": [
        {
          "output_type": "stream",
          "name": "stdout",
          "text": [
            "Enter the first number: 2\n",
            "Enter the second number: 5\n",
            "The sum of a and b is: 7\n"
          ]
        }
      ]
    },
    {
      "cell_type": "code",
      "source": [
        "def adding_2numbers(a,b):\n",
        "  return a+b\n",
        "\n",
        "adding_2numbers(2,5)"
      ],
      "metadata": {
        "colab": {
          "base_uri": "https://localhost:8080/",
          "height": 0
        },
        "id": "38qj4VrFlF6-",
        "outputId": "9b85aebb-3ab5-4f9f-e568-c4c04c9818b2"
      },
      "execution_count": 4,
      "outputs": [
        {
          "output_type": "execute_result",
          "data": {
            "text/plain": [
              "7"
            ]
          },
          "metadata": {},
          "execution_count": 4
        }
      ]
    },
    {
      "cell_type": "code",
      "source": [
        "# Simple addition using the '+' operator\n",
        "def add_numbers(a, b):\n",
        "    return a + b\n",
        "\n",
        "# Example usage\n",
        "x = 5\n",
        "y = 3\n",
        "print(f\"The sum of {x} and {y} is: {add_numbers(x, y)}\")"
      ],
      "metadata": {
        "colab": {
          "base_uri": "https://localhost:8080/",
          "height": 0
        },
        "id": "LsDKYT-wlbT3",
        "outputId": "272d60e1-526d-4f70-9fef-23a0f16ef89d"
      },
      "execution_count": 5,
      "outputs": [
        {
          "output_type": "stream",
          "name": "stdout",
          "text": [
            "The sum of 5 and 3 is: 8\n"
          ]
        }
      ]
    },
    {
      "cell_type": "code",
      "source": [
        "# Addition using operator module\n",
        "import operator\n",
        "\n",
        "def add_numbers(a, b):\n",
        "    return operator.add(a, b)\n",
        "\n",
        "# Example usage\n",
        "x = 5\n",
        "y = 3\n",
        "print(f\"The sum is: {add_numbers(x, y)}\")"
      ],
      "metadata": {
        "colab": {
          "base_uri": "https://localhost:8080/",
          "height": 0
        },
        "id": "_dr_hIlkmyjH",
        "outputId": "af57ebd9-529f-4732-ec91-10c1d0bde6c2"
      },
      "execution_count": 13,
      "outputs": [
        {
          "output_type": "stream",
          "name": "stdout",
          "text": [
            "The sum is: 8\n"
          ]
        }
      ]
    },
    {
      "cell_type": "code",
      "source": [
        "import numpy as np\n",
        "\n",
        "def add_numbers(a, b):\n",
        "    return np.add(a, b)\n",
        "\n",
        "# Example usage\n",
        "x = 5\n",
        "y = 3\n",
        "print(f\"The sum is: {add_numbers(x, y)}\")"
      ],
      "metadata": {
        "colab": {
          "base_uri": "https://localhost:8080/",
          "height": 0
        },
        "id": "TAcUb1DgmuPw",
        "outputId": "fded5588-6b4c-45bb-8e86-cdaaf799dc26"
      },
      "execution_count": 12,
      "outputs": [
        {
          "output_type": "stream",
          "name": "stdout",
          "text": [
            "The sum is: 8\n"
          ]
        }
      ]
    },
    {
      "cell_type": "code",
      "source": [
        "# Addition using classes\n",
        "class Calculator:\n",
        "    def __init__(self, a, b):\n",
        "        self.a = a\n",
        "        self.b = b\n",
        "\n",
        "    def add(self):\n",
        "        return self.a + self.b\n",
        "\n",
        "# Example usage\n",
        "calc = Calculator(5, 3)\n",
        "print(f\"The sum is: {calc.add()}\")\n"
      ],
      "metadata": {
        "colab": {
          "base_uri": "https://localhost:8080/",
          "height": 0
        },
        "id": "33l0UAZFl3t5",
        "outputId": "1e0a9512-a0cc-4d8f-a85f-e7db19affd5e"
      },
      "execution_count": 6,
      "outputs": [
        {
          "output_type": "stream",
          "name": "stdout",
          "text": [
            "The sum is: 8\n"
          ]
        }
      ]
    },
    {
      "cell_type": "code",
      "source": [
        "# Addition using a static method\n",
        "class Calculator:\n",
        "    @staticmethod\n",
        "    def add(a, b):\n",
        "        return a + b\n",
        "\n",
        "# Example usage\n",
        "result = Calculator.add(5, 3)\n",
        "print(f\"The sum is: {result}\")\n"
      ],
      "metadata": {
        "colab": {
          "base_uri": "https://localhost:8080/",
          "height": 0
        },
        "id": "XpOs6sbpl8v-",
        "outputId": "aafacb42-d9e1-4098-ff7a-eae5565c8204"
      },
      "execution_count": 7,
      "outputs": [
        {
          "output_type": "stream",
          "name": "stdout",
          "text": [
            "The sum is: 8\n"
          ]
        }
      ]
    },
    {
      "cell_type": "markdown",
      "source": [
        "# Functional pROGRAMMING"
      ],
      "metadata": {
        "id": "OhyODZn5mKgY"
      }
    },
    {
      "cell_type": "code",
      "source": [
        "# Addition using lambda function\n",
        "add = lambda a, b: a + b\n",
        "\n",
        "# Example usage\n",
        "print(f\"The sum is: {add(5, 3)}\")\n"
      ],
      "metadata": {
        "colab": {
          "base_uri": "https://localhost:8080/",
          "height": 0
        },
        "id": "oXUtkkVXl_xt",
        "outputId": "525736a3-c722-4644-bfc7-167b4b13c87a"
      },
      "execution_count": 8,
      "outputs": [
        {
          "output_type": "stream",
          "name": "stdout",
          "text": [
            "The sum is: 8\n"
          ]
        }
      ]
    },
    {
      "cell_type": "markdown",
      "source": [
        "# Advanced Features: Leveraging decorators for additional functionality (e.g., logging)."
      ],
      "metadata": {
        "id": "LKB45gnkmO12"
      }
    },
    {
      "cell_type": "code",
      "source": [
        "# Addition using a decorator for logging the operation\n",
        "def log_operation(func):\n",
        "    def wrapper(a, b):\n",
        "        result = func(a, b)\n",
        "        print(f\"Adding {a} and {b} gives {result}\")\n",
        "        return result\n",
        "    return wrapper\n",
        "\n",
        "@log_operation\n",
        "def add_numbers(a, b):\n",
        "    return a + b\n",
        "\n",
        "# Example usage\n",
        "add_numbers(5, 3)\n"
      ],
      "metadata": {
        "colab": {
          "base_uri": "https://localhost:8080/",
          "height": 0
        },
        "id": "PBzyn9NamB2_",
        "outputId": "befcae85-2a80-45dd-d505-90ae6ac5b02c"
      },
      "execution_count": 9,
      "outputs": [
        {
          "output_type": "stream",
          "name": "stdout",
          "text": [
            "Adding 5 and 3 gives 8\n"
          ]
        },
        {
          "output_type": "execute_result",
          "data": {
            "text/plain": [
              "8"
            ]
          },
          "metadata": {},
          "execution_count": 9
        }
      ]
    }
  ]
}
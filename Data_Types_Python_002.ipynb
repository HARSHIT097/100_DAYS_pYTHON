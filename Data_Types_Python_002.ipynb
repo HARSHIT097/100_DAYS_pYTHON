{
 "cells": [
  {
   "cell_type": "markdown",
   "id": "33f49b3e-d056-459d-8afb-bd4221dd69b4",
   "metadata": {},
   "source": [
    "# Data Types In Python"
   ]
  },
  {
   "cell_type": "markdown",
   "id": "af4f2ab5-1da1-4101-ae5b-179e6b09c097",
   "metadata": {
    "jp-MarkdownHeadingCollapsed": true
   },
   "source": [
    "# Strings"
   ]
  },
  {
   "cell_type": "code",
   "execution_count": null,
   "id": "e035c088-bf89-4940-a438-8c178a096149",
   "metadata": {},
   "outputs": [],
   "source": []
  },
  {
   "cell_type": "markdown",
   "id": "dc99d30f-1041-406d-9576-f6f83719b111",
   "metadata": {
    "jp-MarkdownHeadingCollapsed": true
   },
   "source": [
    "# Boolean Data Type: True False or 0 and 1"
   ]
  },
  {
   "cell_type": "code",
   "execution_count": null,
   "id": "e8d98722-0d3d-47d7-8b70-3392813a78ca",
   "metadata": {},
   "outputs": [],
   "source": []
  },
  {
   "cell_type": "code",
   "execution_count": null,
   "id": "c8f6ee17-f00b-4c14-8631-04e96077de4b",
   "metadata": {},
   "outputs": [],
   "source": []
  },
  {
   "cell_type": "markdown",
   "id": "e77d4745-10b6-440c-b47c-779f2835ac0a",
   "metadata": {},
   "source": [
    "# Numeric Data"
   ]
  },
  {
   "cell_type": "markdown",
   "id": "3cf99521-d33f-4712-8d96-21a131d75c9c",
   "metadata": {},
   "source": [
    "Python provides several numeric data types for handling numbers, depending on the precision and use case. These include:\n",
    "\n",
    "int: Integer values (positive or negative, no decimal).\n",
    "float: Floating-point numbers (decimal values).\n",
    "complex: Complex numbers with real and imaginary parts."
   ]
  },
  {
   "cell_type": "code",
   "execution_count": 113,
   "id": "4a432e46-08a7-4f12-ab36-880ea04e7717",
   "metadata": {},
   "outputs": [
    {
     "name": "stdout",
     "output_type": "stream",
     "text": [
      "<class 'int'>\n",
      "<class 'float'>\n",
      "<class 'complex'>\n"
     ]
    }
   ],
   "source": [
    "#1. Numeric Data Types and Their Characteristics\n",
    "#a. Integer (int)\n",
    "#Represents whole numbers.\n",
    "\n",
    "x = 42\n",
    "print(type(x))  # Output: <class 'int'>\n",
    "\n",
    "\n",
    "#b. Floating-point (float)\n",
    "#Represents numbers with decimals.\n",
    "\n",
    "y = 3.14\n",
    "print(type(y))  # Output: <class 'float'>\n",
    "\n",
    "\n",
    "#c. Complex Numbers\n",
    "#Numbers in the form \n",
    "#𝑎 + ij, where \n",
    "#a is the real part and \n",
    "#i is the imaginary part.\n",
    "\n",
    "z = 2 + 3j\n",
    "print(type(z))  # Output: <class 'complex'>"
   ]
  },
  {
   "cell_type": "code",
   "execution_count": 114,
   "id": "f45b313a-a400-42de-87ff-d75c03727f86",
   "metadata": {},
   "outputs": [
    {
     "name": "stdout",
     "output_type": "stream",
     "text": [
      "13\n",
      "7\n",
      "30\n",
      "3.3333333333333335\n",
      "3\n",
      "1\n",
      "1000\n"
     ]
    }
   ],
   "source": [
    "#a. Basic Arithmetic Operations\n",
    "\n",
    "a, b = 10, 3\n",
    "\n",
    "print(a + b)  # Addition: 13\n",
    "print(a - b)  # Subtraction: 7\n",
    "print(a * b)  # Multiplication: 30\n",
    "print(a / b)  # Division: 3.3333\n",
    "print(a // b) # Floor Division: 3\n",
    "print(a % b)  # Modulus: 1\n",
    "print(a ** b) # Exponentiation: 1000\n"
   ]
  },
  {
   "cell_type": "code",
   "execution_count": 115,
   "id": "ca2042db-1fd7-4356-8906-49cb0a0fa28e",
   "metadata": {},
   "outputs": [
    {
     "name": "stdout",
     "output_type": "stream",
     "text": [
      "7.0 <class 'float'>\n",
      "2\n"
     ]
    }
   ],
   "source": [
    "# Type Conversion\n",
    "\n",
    "# Implicit Conversion\n",
    "a = 5       # int\n",
    "b = 2.0     # float\n",
    "result = a + b\n",
    "print(result, type(result))  # Output: 7.0 <class 'float'>\n",
    "\n",
    "# Explicit Conversion\n",
    "c = int(b)  # Converts float to int\n",
    "print(c)    # Output: 2\n"
   ]
  },
  {
   "cell_type": "code",
   "execution_count": 116,
   "id": "4473277b-88b6-47c9-bd83-5b3abf18f59d",
   "metadata": {},
   "outputs": [
    {
     "name": "stdout",
     "output_type": "stream",
     "text": [
      "4.0\n",
      "8.0\n",
      "3.141592653589793\n",
      "1.0\n"
     ]
    }
   ],
   "source": [
    "#a. Using the math Module\n",
    "\n",
    "import math\n",
    "\n",
    "print(math.sqrt(16))    # Square root: 4.0\n",
    "print(math.pow(2, 3))   # Exponentiation: 8.0\n",
    "print(math.pi)          # Value of Pi: 3.141592653589793\n",
    "print(math.sin(math.pi / 2))  # Trigonometry: 1.0\n"
   ]
  },
  {
   "cell_type": "code",
   "execution_count": 117,
   "id": "2de0d079-f235-4c68-801c-72efd4144c48",
   "metadata": {},
   "outputs": [
    {
     "name": "stdout",
     "output_type": "stream",
     "text": [
      "0.3\n"
     ]
    }
   ],
   "source": [
    "#b. Using the decimal Module\n",
    "#For precise floating-point arithmetic.\n",
    "\n",
    "from decimal import Decimal\n",
    "\n",
    "a = Decimal('0.1')\n",
    "b = Decimal('0.2')\n",
    "print(a + b)  # Output: 0.3 (precise addition)\n"
   ]
  },
  {
   "cell_type": "code",
   "execution_count": 118,
   "id": "694246fa-0032-438c-9f69-ce09ea378692",
   "metadata": {},
   "outputs": [
    {
     "name": "stdout",
     "output_type": "stream",
     "text": [
      "1\n"
     ]
    }
   ],
   "source": [
    "#c. Using the fractions Module\n",
    "#For rational number calculations.\n",
    "\n",
    "from fractions import Fraction\n",
    "\n",
    "x = Fraction(1, 3)\n",
    "y = Fraction(2, 3)\n",
    "print(x + y)  # Output: 1\n"
   ]
  },
  {
   "cell_type": "code",
   "execution_count": null,
   "id": "f666ddc7-0252-4293-ae2d-da83a9698c38",
   "metadata": {},
   "outputs": [],
   "source": [
    "## 4. Real-World Applications of Numeric Types"
   ]
  },
  {
   "cell_type": "code",
   "execution_count": 119,
   "id": "4be12f62-4708-4e06-b7ed-6378250cc224",
   "metadata": {},
   "outputs": [
    {
     "name": "stdout",
     "output_type": "stream",
     "text": [
      "59.97\n"
     ]
    }
   ],
   "source": [
    "#a. Financial Calculations\n",
    "#Precise decimal arithmetic for currency values.\n",
    "\n",
    "from decimal import Decimal\n",
    "\n",
    "price = Decimal('19.99')\n",
    "quantity = Decimal('3')\n",
    "total = price * quantity\n",
    "print(total)  # Output: 59.97"
   ]
  },
  {
   "cell_type": "code",
   "execution_count": 120,
   "id": "d6e800ba-31d2-44f9-8c03-d025efe6903e",
   "metadata": {},
   "outputs": [
    {
     "name": "stdout",
     "output_type": "stream",
     "text": [
      "63.71049949031601\n"
     ]
    }
   ],
   "source": [
    "#b. Physics Simulations\n",
    "#Perform scientific calculations using floating-point arithmetic.\n",
    "\n",
    "import math\n",
    "\n",
    "# Projectile motion: Calculate maximum height\n",
    "initial_velocity = 50  # m/s\n",
    "angle = math.radians(45)  # Convert degrees to radians\n",
    "g = 9.81  # Acceleration due to gravity (m/s^2)\n",
    "\n",
    "max_height = (initial_velocity ** 2) * (math.sin(angle) ** 2) / (2 * g)\n",
    "print(max_height)  # Output: ~63.71 meters"
   ]
  },
  {
   "cell_type": "code",
   "execution_count": 121,
   "id": "f28dab31-f5e3-4bbb-adf0-d115fa1694de",
   "metadata": {},
   "outputs": [
    {
     "name": "stdout",
     "output_type": "stream",
     "text": [
      "28\n",
      "20\n",
      "16.431676725154983\n"
     ]
    }
   ],
   "source": [
    "#c. Statistical Computations\n",
    "#Calculate mean, median, and standard deviation.\n",
    "\n",
    "import statistics\n",
    "\n",
    "data = [10, 20, 20, 40, 50]\n",
    "print(statistics.mean(data))  # Output: 28\n",
    "print(statistics.median(data))  # Output: 20\n",
    "print(statistics.stdev(data))  # Output: ~16.43"
   ]
  },
  {
   "cell_type": "code",
   "execution_count": 122,
   "id": "8606e4d1-0fc2-425a-b458-1097eda8f44d",
   "metadata": {},
   "outputs": [
    {
     "name": "stdout",
     "output_type": "stream",
     "text": [
      "2.23606797749979 1.1071487177940904\n"
     ]
    }
   ],
   "source": [
    "#d. Signal Processing (Complex Numbers)\n",
    "#Work with signals in the frequency domain using complex numbers.\n",
    "\n",
    "import cmath\n",
    "\n",
    "z = 1 + 2j\n",
    "magnitude = abs(z)  # Magnitude of the complex number\n",
    "phase = cmath.phase(z)  # Phase angle\n",
    "print(magnitude, phase)  # Output: 2.23606797749979 1.1071487177940904"
   ]
  },
  {
   "cell_type": "code",
   "execution_count": 123,
   "id": "01aa6a39-6c12-4816-808b-84789fd43b1f",
   "metadata": {},
   "outputs": [
    {
     "name": "stdout",
     "output_type": "stream",
     "text": [
      "True\n"
     ]
    }
   ],
   "source": [
    "#e. Cryptography\n",
    "#Prime number computations for encryption algorithms.\n",
    "def is_prime(num):\n",
    "    if num < 2:\n",
    "        return False\n",
    "    for i in range(2, int(math.sqrt(num)) + 1):\n",
    "        if num % i == 0:\n",
    "            return False\n",
    "    return True\n",
    "\n",
    "print(is_prime(29))  # Output: True"
   ]
  },
  {
   "cell_type": "code",
   "execution_count": 124,
   "id": "613a51ec-49b5-496c-8983-32c3e1ba1d28",
   "metadata": {},
   "outputs": [
    {
     "name": "stdout",
     "output_type": "stream",
     "text": [
      "10000000000000000000000000000000000000000000000000000000000000000000000000000000000000000000000000000\n"
     ]
    }
   ],
   "source": [
    "#5. Handling Large Numbers\n",
    "#Python can handle arbitrarily large integers.\n",
    "\n",
    "large_number = 10**100  # 10 to the power of 100\n",
    "print(large_number)     # Output: 100000000000...000 (101 digits)"
   ]
  },
  {
   "cell_type": "code",
   "execution_count": 125,
   "id": "19852cf5-4a1e-4b2c-9359-27dc1337ab99",
   "metadata": {},
   "outputs": [
    {
     "name": "stdout",
     "output_type": "stream",
     "text": [
      "0 1 1 2 3 5 8 13 21 34 "
     ]
    }
   ],
   "source": [
    "#Exercise 1: Fibonacci Sequence\n",
    "#Generate the first n Fibonacci numbers.\n",
    "\n",
    "def fibonacci(n):\n",
    "    a, b = 0, 1\n",
    "    for _ in range(n):\n",
    "        print(a, end=\" \")\n",
    "        a, b = b, a + b\n",
    "\n",
    "fibonacci(10)  # Output: 0 1 1 2 3 5 8 13 21 34"
   ]
  },
  {
   "cell_type": "code",
   "execution_count": 126,
   "id": "90a5ab91-332d-4979-94b9-2f0221717019",
   "metadata": {},
   "outputs": [
    {
     "name": "stdout",
     "output_type": "stream",
     "text": [
      "1102.5\n"
     ]
    }
   ],
   "source": [
    "#Exercise 2: Calculate Compound Interest\n",
    "\n",
    "def compound_interest(principal, rate, time):\n",
    "    return principal * (1 + rate / 100) ** time\n",
    "\n",
    "print(compound_interest(1000, 5, 2))  # Output: 1102.5"
   ]
  },
  {
   "cell_type": "code",
   "execution_count": 127,
   "id": "3573704f-c11f-4efe-9bba-6a0a17589e06",
   "metadata": {},
   "outputs": [
    {
     "name": "stdout",
     "output_type": "stream",
     "text": [
      "(2.0, 1.0)\n"
     ]
    }
   ],
   "source": [
    "#Exercise 3: Quadratic Equation Solver\n",
    "\n",
    "import math\n",
    "\n",
    "def quadratic_solver(a, b, c):\n",
    "    discriminant = b**2 - 4*a*c\n",
    "    if discriminant < 0:\n",
    "        return \"No Real Roots\"\n",
    "    root1 = (-b + math.sqrt(discriminant)) / (2*a)\n",
    "    root2 = (-b - math.sqrt(discriminant)) / (2*a)\n",
    "    return root1, root2\n",
    "\n",
    "print(quadratic_solver(1, -3, 2))  # Output: (2.0, 1.0)"
   ]
  },
  {
   "cell_type": "code",
   "execution_count": 128,
   "id": "7c35c1f9-14c8-488b-bf8d-7c40a68ed31d",
   "metadata": {},
   "outputs": [
    {
     "name": "stdout",
     "output_type": "stream",
     "text": [
      "2\n",
      "1.3449264826974971\n"
     ]
    }
   ],
   "source": [
    "#Exercise 4: Generate Random Numbers\n",
    "\n",
    "import random\n",
    "\n",
    "# Generate random integers and floats\n",
    "print(random.randint(1, 10))  # Random integer between 1 and 10\n",
    "print(random.uniform(1, 10))  # Random float between 1 and 10"
   ]
  },
  {
   "cell_type": "code",
   "execution_count": null,
   "id": "65ab1ac7-637c-4c62-ac3c-a8a166f0da1f",
   "metadata": {},
   "outputs": [],
   "source": []
  },
  {
   "cell_type": "code",
   "execution_count": null,
   "id": "9590a970-7224-4333-a63c-64a38183bc50",
   "metadata": {},
   "outputs": [],
   "source": []
  },
  {
   "cell_type": "markdown",
   "id": "1c944350-9b92-4be9-a07d-48d2dc40383e",
   "metadata": {},
   "source": [
    "# Set"
   ]
  },
  {
   "cell_type": "markdown",
   "id": "c7c3306a-bad2-4a48-8462-65a3afb361ed",
   "metadata": {},
   "source": [
    "## Defining a Set\n",
    "\n",
    "Sets are defined using curly braces {} or the set() constructor.\n",
    "\n",
    "        Key Properties\n",
    "        Unordered: Sets do not maintain the order of elements.\n",
    "        No duplicates: Sets automatically remove duplicate elements."
   ]
  },
  {
   "cell_type": "code",
   "execution_count": 78,
   "id": "66be8a0e-fd05-4630-952f-2b7e0c418129",
   "metadata": {},
   "outputs": [
    {
     "name": "stdout",
     "output_type": "stream",
     "text": [
      "{1, 2, 3, 4}\n",
      "{1, (5, 6), 'Hello'}\n"
     ]
    }
   ],
   "source": [
    "# Creating sets\n",
    "empty_set = set()  # Only way to define an empty set\n",
    "num_set = {1, 2, 3, 4}\n",
    "mixed_set = {1, \"Hello\", (5, 6)}\n",
    "\n",
    "print(num_set)  # Output: {1, 2, 3, 4}\n",
    "print(mixed_set)  # Output: {1, 'Hello', (5, 6)}\n"
   ]
  },
  {
   "cell_type": "markdown",
   "id": "9683102e-243d-48d2-a890-1a802e2f76e6",
   "metadata": {},
   "source": [
    "## 2. Common Operations\n",
    "Adding and Removing Elements"
   ]
  },
  {
   "cell_type": "code",
   "execution_count": 79,
   "id": "4b7c6ca8-3ada-46e8-afec-7087e2045bc0",
   "metadata": {},
   "outputs": [
    {
     "name": "stdout",
     "output_type": "stream",
     "text": [
      "{1, 3, 4}\n"
     ]
    }
   ],
   "source": [
    "my_set = {1, 2, 3}\n",
    "my_set.add(4)\n",
    "my_set.remove(2)  # Raises KeyError if the element is not present\n",
    "my_set.discard(10)  # Safely removes; does nothing if element is not present\n",
    "print(my_set)  # Output: {1, 3, 4}\n"
   ]
  },
  {
   "cell_type": "code",
   "execution_count": 80,
   "id": "790103c4-28a0-460c-91e3-9ee00d5797a9",
   "metadata": {},
   "outputs": [
    {
     "name": "stdout",
     "output_type": "stream",
     "text": [
      "True\n",
      "True\n"
     ]
    }
   ],
   "source": [
    "# Membership Testing\n",
    "\n",
    "my_set = {1, 2, 3}\n",
    "print(2 in my_set)   # Output: True\n",
    "print(4 not in my_set)  # Output: True\n"
   ]
  },
  {
   "cell_type": "code",
   "execution_count": 81,
   "id": "8193b8df-24af-4ade-8163-85e8f133f5e5",
   "metadata": {},
   "outputs": [
    {
     "name": "stdout",
     "output_type": "stream",
     "text": [
      "4\n"
     ]
    }
   ],
   "source": [
    "#Set Length\n",
    "\n",
    "my_set = {1, 2, 3, 4}\n",
    "print(len(my_set))  # Output: 4\n",
    "\n"
   ]
  },
  {
   "cell_type": "markdown",
   "id": "1e1fbfbb-f38f-4383-a63f-5acdeeeec5bb",
   "metadata": {},
   "source": [
    "## 3. Mathematical Set Operations"
   ]
  },
  {
   "cell_type": "markdown",
   "id": "513ea417-a02c-4121-817c-d41ef2344471",
   "metadata": {},
   "source": [
    "Union\n",
    "Combines elements from both sets."
   ]
  },
  {
   "cell_type": "code",
   "execution_count": 82,
   "id": "2ed235f7-09bb-497d-8cdd-70bc6ce146c2",
   "metadata": {},
   "outputs": [
    {
     "name": "stdout",
     "output_type": "stream",
     "text": [
      "{1, 2, 3, 4, 5}\n",
      "{1, 2, 3, 4, 5}\n"
     ]
    }
   ],
   "source": [
    "set1 = {1, 2, 3}\n",
    "set2 = {3, 4, 5}\n",
    "print(set1 | set2)  # Output: {1, 2, 3, 4, 5}\n",
    "print(set1.union(set2))  # Same as above\n"
   ]
  },
  {
   "cell_type": "code",
   "execution_count": 99,
   "id": "5dbfc025-05d0-4929-87e4-903606eafb45",
   "metadata": {},
   "outputs": [
    {
     "name": "stdout",
     "output_type": "stream",
     "text": [
      "{1, 2, 3, 4, 5}\n"
     ]
    }
   ],
   "source": [
    "#a. Union Update\n",
    "#Merges elements from another set or iterable into the original set.\n",
    "\n",
    "set1 = {1, 2, 3}\n",
    "set2 = {3, 4, 5}\n",
    "set1.update(set2)\n",
    "print(set1)  # Output: {1, 2, 3, 4, 5}\n"
   ]
  },
  {
   "cell_type": "markdown",
   "id": "bfbac9f3-0d59-421a-9061-7c8e5e666f48",
   "metadata": {},
   "source": [
    "Intersection\n",
    "Finds common elements between sets."
   ]
  },
  {
   "cell_type": "code",
   "execution_count": 83,
   "id": "95c6929b-0682-467b-a4e5-66a4d0f10cd0",
   "metadata": {},
   "outputs": [
    {
     "name": "stdout",
     "output_type": "stream",
     "text": [
      "{3}\n",
      "{3}\n"
     ]
    }
   ],
   "source": [
    "set1 = {1, 2, 3}\n",
    "set2 = {3, 4, 5}\n",
    "print(set1 & set2)  # Output: {3}\n",
    "print(set1.intersection(set2))  # Same as above\n"
   ]
  },
  {
   "cell_type": "code",
   "execution_count": 100,
   "id": "b719395a-f49f-4ce1-8ec5-71e95314545b",
   "metadata": {},
   "outputs": [
    {
     "name": "stdout",
     "output_type": "stream",
     "text": [
      "{2, 3}\n"
     ]
    }
   ],
   "source": [
    "#b. Intersection Update\n",
    "#Keeps only common elements between sets.\n",
    "\n",
    "set1 = {1, 2, 3, 4}\n",
    "set2 = {2, 3, 5}\n",
    "set1.intersection_update(set2)\n",
    "print(set1)  # Output: {2, 3}\n"
   ]
  },
  {
   "cell_type": "markdown",
   "id": "02d014bd-f2e0-4bcb-be96-f3a5bce2757a",
   "metadata": {},
   "source": [
    "Difference\n",
    "Elements in the first set but not in the second."
   ]
  },
  {
   "cell_type": "code",
   "execution_count": 84,
   "id": "32b6fa58-6cb5-4657-aec5-1be3d5387224",
   "metadata": {},
   "outputs": [
    {
     "name": "stdout",
     "output_type": "stream",
     "text": [
      "{1, 2}\n",
      "{1, 2}\n"
     ]
    }
   ],
   "source": [
    "set1 = {1, 2, 3}\n",
    "set2 = {3, 4, 5}\n",
    "print(set1 - set2)  # Output: {1, 2}\n",
    "print(set1.difference(set2))  # Same as above\n"
   ]
  },
  {
   "cell_type": "code",
   "execution_count": 101,
   "id": "168a3ea7-a1bd-4c50-b4fa-a39bbcb839bd",
   "metadata": {},
   "outputs": [
    {
     "name": "stdout",
     "output_type": "stream",
     "text": [
      "{1, 2}\n"
     ]
    }
   ],
   "source": [
    "#c. Difference Update\n",
    "#Removes elements found in another set.\n",
    "\n",
    "set1 = {1, 2, 3, 4}\n",
    "set2 = {3, 4}\n",
    "set1.difference_update(set2)\n",
    "print(set1)  # Output: {1, 2}"
   ]
  },
  {
   "cell_type": "markdown",
   "id": "8301e645-599a-4f8d-8877-8e496f6aeb50",
   "metadata": {},
   "source": [
    "Symmetric Difference\n",
    "Elements in either set but not both."
   ]
  },
  {
   "cell_type": "code",
   "execution_count": null,
   "id": "921af7c0-880a-4e25-8087-513d68771918",
   "metadata": {},
   "outputs": [],
   "source": [
    "set1 = {1, 2, 3}\n",
    "set2 = {3, 4, 5}\n",
    "print(set1 ^ set2)  # Output: {1, 2, 4, 5}\n",
    "print(set1.symmetric_difference(set2))  # Same as above\n"
   ]
  },
  {
   "cell_type": "code",
   "execution_count": 102,
   "id": "4f909826-1bb4-42a0-98fd-e9c16e1a36c7",
   "metadata": {},
   "outputs": [
    {
     "name": "stdout",
     "output_type": "stream",
     "text": [
      "{1, 2, 5}\n"
     ]
    }
   ],
   "source": [
    "#d. Symmetric Difference Update\n",
    "#Keeps only elements that are in one of the sets but not both.\n",
    "\n",
    "set1 = {1, 2, 3, 4}\n",
    "set2 = {3, 4, 5}\n",
    "set1.symmetric_difference_update(set2)\n",
    "print(set1)  # Output: {1, 2, 5}\n"
   ]
  },
  {
   "cell_type": "code",
   "execution_count": 103,
   "id": "9d56411d-3e2d-492a-a6b8-41d591bfc8b9",
   "metadata": {},
   "outputs": [
    {
     "name": "stdout",
     "output_type": "stream",
     "text": [
      "1\n",
      "2\n",
      "3\n"
     ]
    }
   ],
   "source": [
    "#2. Iterating Through Sets\n",
    "#Sets are iterable, but the order is not guaranteed.\n",
    "\n",
    "my_set = {1, 2, 3}\n",
    "for item in my_set:\n",
    "    print(item)"
   ]
  },
  {
   "cell_type": "markdown",
   "id": "c0259f72-4dd6-41c9-97cb-64d4cdc104f9",
   "metadata": {},
   "source": [
    "4. Set Comparisons\n",
    "Sets can be compared using operators:\n",
    "\n",
    "            ==: Equal sets.\n",
    "            !=: Non-equal sets.\n",
    "            <: Proper subset.\n",
    "            <=: Subset.\n",
    "            >: Proper superset.\n",
    "            >=: Superset."
   ]
  },
  {
   "cell_type": "code",
   "execution_count": 104,
   "id": "552e813d-8683-4e61-9431-ff8fd2521733",
   "metadata": {},
   "outputs": [
    {
     "name": "stdout",
     "output_type": "stream",
     "text": [
      "True\n",
      "True\n"
     ]
    }
   ],
   "source": [
    "set1 = {1, 2}\n",
    "set2 = {1, 2, 3}\n",
    "\n",
    "print(set1 < set2)  # True\n",
    "print(set2 > set1)  # True\n"
   ]
  },
  {
   "cell_type": "code",
   "execution_count": null,
   "id": "e6721748-400a-4b5c-96f3-642e3b8c979e",
   "metadata": {},
   "outputs": [],
   "source": []
  },
  {
   "cell_type": "markdown",
   "id": "f4b575d8-e801-4856-871a-991253015dec",
   "metadata": {},
   "source": [
    "## 4. Advanced Operations"
   ]
  },
  {
   "cell_type": "code",
   "execution_count": 86,
   "id": "e3636942-074d-44a2-a0a4-8c3c364e788d",
   "metadata": {},
   "outputs": [
    {
     "name": "stdout",
     "output_type": "stream",
     "text": [
      "True\n",
      "True\n"
     ]
    }
   ],
   "source": [
    "# Subset and Superset\n",
    "set1 = {1, 2}\n",
    "set2 = {1, 2, 3}\n",
    "print(set1.issubset(set2))  # Output: True\n",
    "print(set2.issuperset(set1))  # Output: True\n"
   ]
  },
  {
   "cell_type": "code",
   "execution_count": 87,
   "id": "88ad7380-5117-4511-829c-2803b39890f5",
   "metadata": {},
   "outputs": [
    {
     "name": "stdout",
     "output_type": "stream",
     "text": [
      "frozenset({1, 2, 3})\n"
     ]
    }
   ],
   "source": [
    "# Frozen Sets\n",
    "# Immutable version of a set.\n",
    "\n",
    "frozen = frozenset([1, 2, 3])\n",
    "# frozen.add(4)  # Raises AttributeError\n",
    "print(frozen)  # Output: frozenset({1, 2, 3})\n"
   ]
  },
  {
   "cell_type": "code",
   "execution_count": 88,
   "id": "0d488135-826a-44b1-815c-ee18f338b612",
   "metadata": {},
   "outputs": [
    {
     "name": "stdout",
     "output_type": "stream",
     "text": [
      "{1, 2, 3, 4}\n"
     ]
    }
   ],
   "source": [
    "#Deduplicating Elements\n",
    "data = [1, 2, 2, 3, 4, 4]\n",
    "unique_data = set(data)\n",
    "print(unique_data)  # Output: {1, 2, 3, 4}\n",
    "\n"
   ]
  },
  {
   "cell_type": "markdown",
   "id": "54ac6150-7d80-47c8-ac0f-1de67bbc37a1",
   "metadata": {},
   "source": [
    "## Real-World Applications"
   ]
  },
  {
   "cell_type": "code",
   "execution_count": 89,
   "id": "7ab7382a-6053-46ad-b71c-85ae5229271a",
   "metadata": {},
   "outputs": [
    {
     "name": "stdout",
     "output_type": "stream",
     "text": [
      "['b@example.com', 'a@example.com']\n"
     ]
    }
   ],
   "source": [
    "#a. Removing Duplicates\n",
    "emails = [\"a@example.com\", \"b@example.com\", \"a@example.com\"]\n",
    "unique_emails = list(set(emails))\n",
    "print(unique_emails)  # Output: ['a@example.com', 'b@example.com']\n"
   ]
  },
  {
   "cell_type": "code",
   "execution_count": 90,
   "id": "49776342-fdc6-454e-9181-274589c5fb90",
   "metadata": {},
   "outputs": [
    {
     "name": "stdout",
     "output_type": "stream",
     "text": [
      "{'Charlie'}\n"
     ]
    }
   ],
   "source": [
    "# b. Detecting Common Elements\n",
    "users1 = {\"Alice\", \"Bob\", \"Charlie\"}\n",
    "users2 = {\"Charlie\", \"David\"}\n",
    "common_users = users1 & users2\n",
    "print(common_users)  # Output: {'Charlie'}\n"
   ]
  },
  {
   "cell_type": "code",
   "execution_count": 91,
   "id": "2f73b5f6-d0d0-4424-9b84-ca54480be0f9",
   "metadata": {},
   "outputs": [
    {
     "name": "stdout",
     "output_type": "stream",
     "text": [
      "{'About', 'Home', 'Blog', 'Contact'}\n"
     ]
    }
   ],
   "source": [
    "# c. Tracking Unique Items\n",
    "visited_pages = {\"Home\", \"About\", \"Contact\"}\n",
    "visited_pages.add(\"Blog\")\n",
    "print(visited_pages)  # Output: {'Home', 'About', 'Contact', 'Blog'}\n"
   ]
  },
  {
   "cell_type": "markdown",
   "id": "69e18bfa-c5de-49b2-9417-685bdc78f9b6",
   "metadata": {},
   "source": [
    "6. Comparing Sets with Other Data Structures\n",
    "\n",
    "            Feature\tSet\tList\n",
    "            Duplicates\tNot allowed\tAllowed\n",
    "            Order\tUnordered\tOrdered\n",
    "            Performance\tFaster for lookups and membership\tSlower for large datasets"
   ]
  },
  {
   "cell_type": "markdown",
   "id": "2461dac8-be2c-4828-8aa0-554ed0fe0b4b",
   "metadata": {},
   "source": [
    "7. Exercises and Problems\n",
    "Problem 1: Unique Words\n",
    "Find all unique words from a given text."
   ]
  },
  {
   "cell_type": "code",
   "execution_count": 92,
   "id": "3912d264-c89c-4bd1-8642-2c93bedf1129",
   "metadata": {},
   "outputs": [
    {
     "name": "stdout",
     "output_type": "stream",
     "text": [
      "{'Python', 'hello', 'world'}\n"
     ]
    }
   ],
   "source": [
    "def unique_words(text):\n",
    "    words = text.split()\n",
    "    return set(words)\n",
    "\n",
    "text = \"hello world hello Python world\"\n",
    "print(unique_words(text))  # Output: {'hello', 'world', 'Python'}\n"
   ]
  },
  {
   "cell_type": "markdown",
   "id": "7a4f1532-c467-41b2-bea9-3d6c4431320e",
   "metadata": {},
   "source": [
    "Problem 2: Find Missing Numbers\n",
    "Find numbers missing from a sequence."
   ]
  },
  {
   "cell_type": "code",
   "execution_count": 93,
   "id": "c03ab7be-0b16-4721-92a9-ec822c153ec7",
   "metadata": {},
   "outputs": [
    {
     "name": "stdout",
     "output_type": "stream",
     "text": [
      "{3, 5, 7}\n"
     ]
    }
   ],
   "source": [
    "def find_missing(nums, full_range):\n",
    "    return set(full_range) - set(nums)\n",
    "\n",
    "nums = [1, 2, 4, 6]\n",
    "full_range = range(1, 8)\n",
    "print(find_missing(nums, full_range))  # Output: {3, 5, 7}\n"
   ]
  },
  {
   "cell_type": "markdown",
   "id": "e867de42-5d07-4b35-8d74-50dd9cc30d7c",
   "metadata": {},
   "source": [
    "Problem 3: Common Skills\n",
    "Find common skills between two employees."
   ]
  },
  {
   "cell_type": "code",
   "execution_count": 94,
   "id": "c16b67c6-1d13-4170-b588-27c81ec63d0c",
   "metadata": {},
   "outputs": [
    {
     "name": "stdout",
     "output_type": "stream",
     "text": [
      "{'Python'}\n"
     ]
    }
   ],
   "source": [
    "def common_skills(emp1_skills, emp2_skills):\n",
    "    return emp1_skills & emp2_skills\n",
    "\n",
    "emp1 = {\"Python\", \"Django\", \"Machine Learning\"}\n",
    "emp2 = {\"Python\", \"Flask\", \"Deep Learning\"}\n",
    "print(common_skills(emp1, emp2))  # Output: {'Python'}\n"
   ]
  },
  {
   "cell_type": "markdown",
   "id": "862c36a7-1f2b-42fd-beb6-53138c16d822",
   "metadata": {},
   "source": [
    "Problem 4: Unique Elements Across Multiple Sets"
   ]
  },
  {
   "cell_type": "code",
   "execution_count": 95,
   "id": "e67955d0-fa62-4ee4-a740-cdc7721ca8c8",
   "metadata": {},
   "outputs": [
    {
     "name": "stdout",
     "output_type": "stream",
     "text": [
      "{1, 2, 3, 4, 5, 6, 7}\n"
     ]
    }
   ],
   "source": [
    "def unique_elements(*sets):\n",
    "    return set.union(*sets)\n",
    "\n",
    "set1 = {1, 2, 3}\n",
    "set2 = {3, 4, 5}\n",
    "set3 = {5, 6, 7}\n",
    "print(unique_elements(set1, set2, set3))  # Output: {1, 2, 3, 4, 5, 6, 7}\n"
   ]
  },
  {
   "cell_type": "code",
   "execution_count": 96,
   "id": "5cad7190-e1d4-4274-a016-d64ab095634c",
   "metadata": {},
   "outputs": [
    {
     "name": "stdout",
     "output_type": "stream",
     "text": [
      "{1, 2, 3, 4}\n"
     ]
    }
   ],
   "source": [
    "def unique_across_lists(*lists):\n",
    "    return set.union(*map(set, lists))\n",
    "\n",
    "print(unique_across_lists([1, 2], [2, 3], [3, 4]))  # Output: {1, 2, 3, 4}\n"
   ]
  },
  {
   "cell_type": "markdown",
   "id": "525678c6-9145-48af-b54e-8b70d0fadb0b",
   "metadata": {},
   "source": [
    "Find Differences Between Datasets"
   ]
  },
  {
   "cell_type": "code",
   "execution_count": 97,
   "id": "2e457543-54af-42a1-9551-8246ab6e3177",
   "metadata": {},
   "outputs": [
    {
     "name": "stdout",
     "output_type": "stream",
     "text": [
      "{'Alice'}\n"
     ]
    }
   ],
   "source": [
    "def find_difference(set1, set2):\n",
    "    return set1 - set2\n",
    "\n",
    "old_data = {\"Alice\", \"Bob\", \"Charlie\"}\n",
    "new_data = {\"Bob\", \"Charlie\", \"David\"}\n",
    "print(find_difference(old_data, new_data))  # Output: {'Alice'}\n"
   ]
  },
  {
   "cell_type": "markdown",
   "id": "9244dcc6-63d0-4ec6-bebd-aef8c3dc6824",
   "metadata": {},
   "source": [
    "Detect Duplicates in a Dataset"
   ]
  },
  {
   "cell_type": "code",
   "execution_count": 98,
   "id": "cddc9df2-0d12-4872-840c-2069b6513e8e",
   "metadata": {},
   "outputs": [
    {
     "name": "stdout",
     "output_type": "stream",
     "text": [
      "True\n"
     ]
    }
   ],
   "source": [
    "def has_duplicates(data):\n",
    "    return len(data) != len(set(data))\n",
    "\n",
    "print(has_duplicates([1, 2, 3, 4, 3]))  # Output: True\n"
   ]
  },
  {
   "cell_type": "code",
   "execution_count": 105,
   "id": "09063575-51bc-4fb8-b18f-23491980a9e7",
   "metadata": {},
   "outputs": [
    {
     "name": "stdout",
     "output_type": "stream",
     "text": [
      "True\n",
      "True\n"
     ]
    }
   ],
   "source": [
    "#5. Advanced Membership Testing\n",
    "\n",
    "# Membership with strings or complex types\n",
    "my_set = {\"apple\", \"banana\", (1, 2, 3)}\n",
    "print(\"apple\" in my_set)  # True\n",
    "print((1, 2, 3) in my_set)  # True\n"
   ]
  },
  {
   "cell_type": "code",
   "execution_count": 106,
   "id": "ca24e2f9-2d1b-4bf9-aef7-fed37080baeb",
   "metadata": {},
   "outputs": [
    {
     "name": "stdout",
     "output_type": "stream",
     "text": [
      "True\n",
      "List membership time: 0.00800776481628418\n",
      "True\n",
      "Set membership time: 0.0014240741729736328\n"
     ]
    }
   ],
   "source": [
    "#3. Optimized Membership Tests\n",
    "#Sets are faster than lists for checking membership.\n",
    "\n",
    "import time\n",
    "\n",
    "# Membership in a list\n",
    "large_list = list(range(1, 10**6))\n",
    "start = time.time()\n",
    "print(999999 in large_list)  # Output: True\n",
    "print(\"List membership time:\", time.time() - start)\n",
    "\n",
    "# Membership in a set\n",
    "large_set = set(range(1, 10**6))\n",
    "start = time.time()\n",
    "print(999999 in large_set)  # Output: True\n",
    "print(\"Set membership time:\", time.time() - start)\n"
   ]
  },
  {
   "cell_type": "code",
   "execution_count": 107,
   "id": "f71f063d-32ab-404e-a660-369e931c93e7",
   "metadata": {},
   "outputs": [
    {
     "name": "stdout",
     "output_type": "stream",
     "text": [
      "True\n"
     ]
    }
   ],
   "source": [
    "#4. Access Control Systems\n",
    "#Track permissions or roles using sets.\n",
    "\n",
    "admin_roles = {\"read\", \"write\", \"delete\"}\n",
    "user_roles = {\"read\", \"write\"}\n",
    "\n",
    "# Check if user has all admin privileges\n",
    "print(user_roles.issubset(admin_roles))  # Output: True\n"
   ]
  },
  {
   "cell_type": "code",
   "execution_count": 108,
   "id": "6548fa60-2da4-4ab4-a501-e3d9c9f79d21",
   "metadata": {},
   "outputs": [
    {
     "name": "stdout",
     "output_type": "stream",
     "text": [
      "{'comedy', 'drama'}\n"
     ]
    }
   ],
   "source": [
    "#5. Recommender Systems\n",
    "#Find recommendations based on user overlaps.\n",
    "\n",
    "user1_likes = {\"action\", \"comedy\", \"drama\"}\n",
    "user2_likes = {\"comedy\", \"romance\", \"drama\"}\n",
    "\n",
    "common_genres = user1_likes & user2_likes\n",
    "print(common_genres)  # Output: {'comedy', 'drama'}\n"
   ]
  },
  {
   "cell_type": "code",
   "execution_count": 109,
   "id": "a075988a-0f29-424a-82a0-4b5283b480f3",
   "metadata": {},
   "outputs": [
    {
     "name": "stdout",
     "output_type": "stream",
     "text": [
      "{'o', 'w', 'd', 'r', 'e', 'h', 'l'}\n"
     ]
    }
   ],
   "source": [
    "#6. Word Occurrence Analysis\n",
    "#Count unique words or letters in a text.\n",
    "\n",
    "def unique_letters(text):\n",
    "    return set(text.lower()) - set(\" \")  # Ignore spaces\n",
    "\n",
    "print(unique_letters(\"Hello World\"))  # Output: {'d', 'e', 'h', 'l', 'o', 'r', 'w'}\n"
   ]
  },
  {
   "cell_type": "code",
   "execution_count": 110,
   "id": "766b02c3-ec2c-4e66-9b00-421eaee29236",
   "metadata": {},
   "outputs": [
    {
     "name": "stdout",
     "output_type": "stream",
     "text": [
      "{'banana', 'apple'}\n"
     ]
    }
   ],
   "source": [
    "#7. Data Cleaning\n",
    "#Find and remove unwanted elements in data.\n",
    "data = {\"apple\", \"banana\", \"apple\", \"unknown\"}\n",
    "cleaned_data = data - {\"unknown\"}\n",
    "print(cleaned_data)  # Output: {'apple', 'banana'}\n"
   ]
  },
  {
   "cell_type": "code",
   "execution_count": 111,
   "id": "fe10c9ff-7dd3-4130-a2e1-39000f3d6ea7",
   "metadata": {},
   "outputs": [
    {
     "name": "stdout",
     "output_type": "stream",
     "text": [
      "{'Wednesday'}\n"
     ]
    }
   ],
   "source": [
    "#9. Scheduling Conflicts\n",
    "#Check overlaps in schedules or events\n",
    "\n",
    "event1 = {\"Monday\", \"Tuesday\", \"Wednesday\"}\n",
    "event2 = {\"Wednesday\", \"Thursday\"}\n",
    "\n",
    "conflicts = event1 & event2\n",
    "print(conflicts)  # Output: {'Wednesday'}\n"
   ]
  },
  {
   "cell_type": "code",
   "execution_count": 112,
   "id": "5a6c46f8-b31f-4b61-833b-dcb8533ddc78",
   "metadata": {},
   "outputs": [
    {
     "name": "stdout",
     "output_type": "stream",
     "text": [
      "{'D', 'A'}\n"
     ]
    }
   ],
   "source": [
    "#10. Set Operations in Graphs\n",
    "#Detect shared neighbors or connections in a network.\n",
    "\n",
    "graph = {\n",
    "    \"A\": {\"B\", \"C\"},\n",
    "    \"B\": {\"A\", \"D\"},\n",
    "    \"C\": {\"A\", \"D\"},\n",
    "    \"D\": {\"B\", \"C\"}\n",
    "}\n",
    "\n",
    "# Shared neighbors of B and C\n",
    "print(graph[\"B\"] & graph[\"C\"])  # Output: {'A', 'D'}\n"
   ]
  },
  {
   "cell_type": "code",
   "execution_count": null,
   "id": "aaf3dc54-97f4-4b93-a944-d881e9e44d5b",
   "metadata": {},
   "outputs": [],
   "source": []
  },
  {
   "cell_type": "code",
   "execution_count": null,
   "id": "719e5b32-e652-4a6c-96e0-d9bf5598411e",
   "metadata": {},
   "outputs": [],
   "source": []
  },
  {
   "cell_type": "code",
   "execution_count": null,
   "id": "1b40d6be-69fd-41b8-9f53-d7be80d8f1ad",
   "metadata": {},
   "outputs": [],
   "source": []
  },
  {
   "cell_type": "markdown",
   "id": "d4b498b6-1ec2-4fb0-827f-6ed50cfe1751",
   "metadata": {},
   "source": [
    "# Tuple"
   ]
  },
  {
   "cell_type": "markdown",
   "id": "26e823ea-4ace-4396-8b43-e7395e738595",
   "metadata": {},
   "source": [
    "Tuples are an immutable sequence data structure in Python. They are similar to lists but have key differences, \n",
    "such as being immutable and often used for fixed collections of items."
   ]
  },
  {
   "cell_type": "markdown",
   "id": "4bb6cf3e-154e-4e9e-a120-90fb0b8c2028",
   "metadata": {},
   "source": [
    "1. Tuple Basics\n",
    "Tuples are ordered, immutable collections. They are defined using parentheses ()."
   ]
  },
  {
   "cell_type": "code",
   "execution_count": 61,
   "id": "3d5f19b9-0506-4c74-b6ba-2ee42208ef23",
   "metadata": {},
   "outputs": [
    {
     "name": "stdout",
     "output_type": "stream",
     "text": [
      "1\n",
      "Hello\n"
     ]
    }
   ],
   "source": [
    "# Defining tuples\n",
    "empty_tuple = ()\n",
    "single_element_tuple = (1,)  # Note the comma for single-element tuples\n",
    "multi_element_tuple = (1, 2, 3, \"Hello\")\n",
    "\n",
    "print(multi_element_tuple[0])  # Output: 1\n",
    "print(multi_element_tuple[-1])  # Output: Hello\n"
   ]
  },
  {
   "cell_type": "markdown",
   "id": "e8801b23-379d-4eba-928d-4b2603fdb059",
   "metadata": {},
   "source": [
    "            2. Why Use Tuples?\n",
    "            Immutability: Ensures data integrity.\n",
    "            Hashable: Can be used as dictionary keys or elements of a set.\n",
    "            Performance: Tuples are slightly faster than lists due to immutability."
   ]
  },
  {
   "cell_type": "code",
   "execution_count": null,
   "id": "48868140-88d9-427f-97e8-b0e88d98ae22",
   "metadata": {},
   "outputs": [],
   "source": [
    "## Common Operations"
   ]
  },
  {
   "cell_type": "code",
   "execution_count": 63,
   "id": "6e3c3628-f892-4aff-9f31-fea1768ab5a6",
   "metadata": {},
   "outputs": [
    {
     "name": "stdout",
     "output_type": "stream",
     "text": [
      "20\n",
      "40\n",
      "(20, 30, 40)\n",
      "(1, 2, 3, 4)\n",
      "(1, 2, 1, 2, 1, 2)\n",
      "1 2 3\n"
     ]
    }
   ],
   "source": [
    "#Accessing Elements\n",
    "\n",
    "tuple_data = (10, 20, 30, 40)\n",
    "print(tuple_data[1])   # Output: 20\n",
    "print(tuple_data[-1])  # Output: 40\n",
    "\n",
    "#Slicing\n",
    "tuple_data = (10, 20, 30, 40, 50)\n",
    "print(tuple_data[1:4])  # Output: (20, 30, 40)\n",
    "\n",
    "#Concatenation and Repetition\n",
    "tuple1 = (1, 2)\n",
    "tuple2 = (3, 4)\n",
    "\n",
    "print(tuple1 + tuple2)  # Output: (1, 2, 3, 4)\n",
    "print(tuple1 * 3)       # Output: (1, 2, 1, 2, 1, 2)\n",
    "\n",
    "#Unpacking\n",
    "a, b, c = (1, 2, 3)\n",
    "print(a, b, c)  # Output: 1 2 3"
   ]
  },
  {
   "cell_type": "markdown",
   "id": "b02d69ff-2e99-4110-8f85-85fd23de3b88",
   "metadata": {},
   "source": [
    "## 4. Advanced Tuple Features\n",
    "Using Tuples as Keys in Dictionaries"
   ]
  },
  {
   "cell_type": "code",
   "execution_count": 64,
   "id": "dda52964-c4c5-402a-9c00-268daf2650f7",
   "metadata": {},
   "outputs": [
    {
     "name": "stdout",
     "output_type": "stream",
     "text": [
      "Point A\n"
     ]
    }
   ],
   "source": [
    "coordinates = {\n",
    "    (0, 0): \"Origin\",\n",
    "    (1, 2): \"Point A\",\n",
    "    (3, 5): \"Point B\"\n",
    "}\n",
    "\n",
    "print(coordinates[(1, 2)])  # Output: Point A\n"
   ]
  },
  {
   "cell_type": "markdown",
   "id": "843da3b5-a67d-476f-bd13-6b6821b44a25",
   "metadata": {},
   "source": [
    "Immutability\n",
    "Tuples cannot be modified after creation, which makes them ideal for representing fixed collections of data."
   ]
  },
  {
   "cell_type": "code",
   "execution_count": 65,
   "id": "be5c0d39-62c6-4fd1-84d2-35bb2116d68f",
   "metadata": {},
   "outputs": [],
   "source": [
    "my_tuple = (1, 2, 3)\n",
    "# my_tuple[0] = 10  # TypeError: 'tuple' object does not support item assignment\n"
   ]
  },
  {
   "cell_type": "markdown",
   "id": "4b3cb83d-4699-44cf-9f06-e263eef666a9",
   "metadata": {},
   "source": [
    "Tuple Comprehensions?\n",
    "Tuples do not support comprehensions directly. However, you can use a generator expression to create tuples:"
   ]
  },
  {
   "cell_type": "code",
   "execution_count": 67,
   "id": "d6dd702b-2dc6-454a-ab8b-bbb5e57345d6",
   "metadata": {},
   "outputs": [
    {
     "name": "stdout",
     "output_type": "stream",
     "text": [
      "(0, 1, 4, 9, 16)\n"
     ]
    }
   ],
   "source": [
    "tuple_data = tuple(x**2 for x in range(5))\n",
    "print(tuple_data)  # Output: (0, 1, 4, 9, 16)\n"
   ]
  },
  {
   "cell_type": "markdown",
   "id": "10454505-6e8a-4003-81bd-4db82a3c0e22",
   "metadata": {},
   "source": [
    "## 5. Real-World Applications\n",
    "a. Returning Multiple Values from Functions"
   ]
  },
  {
   "cell_type": "code",
   "execution_count": 69,
   "id": "2927b0e0-fa90-48d9-b1d9-f13ed6752ea5",
   "metadata": {},
   "outputs": [
    {
     "name": "stdout",
     "output_type": "stream",
     "text": [
      "(10, 30, 60)\n"
     ]
    }
   ],
   "source": [
    "def calculate_stats(numbers):\n",
    "    return min(numbers), max(numbers), sum(numbers)\n",
    "\n",
    "stats = calculate_stats([10, 20, 30])\n",
    "print(stats)  # Output: (10, 30, 60)\n"
   ]
  },
  {
   "cell_type": "markdown",
   "id": "cc277527-b2b6-45f0-b20c-6322e4be4b40",
   "metadata": {},
   "source": [
    "b. Immutable Data for Safety\n",
    "Tuples ensure that data cannot be altered unintentionally."
   ]
  },
  {
   "cell_type": "code",
   "execution_count": 70,
   "id": "701b8a8e-eb18-44c1-aaf7-fb1516de8632",
   "metadata": {},
   "outputs": [],
   "source": [
    "config = (800, 600, \"RGB\")\n",
    "# config[0] = 1024  # TypeError: 'tuple' object does not support item assignment\n"
   ]
  },
  {
   "cell_type": "markdown",
   "id": "89e847bb-e34a-44c4-9bf9-dbe5784d58fc",
   "metadata": {},
   "source": [
    "c. Storing Heterogeneous Data"
   ]
  },
  {
   "cell_type": "code",
   "execution_count": 71,
   "id": "d615dd9d-9389-430f-baea-5948290dd02c",
   "metadata": {},
   "outputs": [
    {
     "name": "stdout",
     "output_type": "stream",
     "text": [
      "('Alice', 30, 'Engineer')\n"
     ]
    }
   ],
   "source": [
    "person = (\"Alice\", 30, \"Engineer\")\n",
    "print(person)  # Output: ('Alice', 30, 'Engineer')\n"
   ]
  },
  {
   "cell_type": "markdown",
   "id": "097a4ba1-a57f-4d3e-93ca-746b7a8315c7",
   "metadata": {},
   "source": [
    "##6. Advanced Tuple Use Cases"
   ]
  },
  {
   "cell_type": "markdown",
   "id": "7f3a1276-fd90-4e50-ad94-28d121f09b04",
   "metadata": {},
   "source": [
    "Nested Tuples"
   ]
  },
  {
   "cell_type": "code",
   "execution_count": 72,
   "id": "87783dd1-a9e6-40af-b47c-a43b7bf3f432",
   "metadata": {},
   "outputs": [
    {
     "name": "stdout",
     "output_type": "stream",
     "text": [
      "6\n"
     ]
    }
   ],
   "source": [
    "matrix = ((1, 2, 3), (4, 5, 6), (7, 8, 9))\n",
    "print(matrix[1][2])  # Output: 6\n"
   ]
  },
  {
   "cell_type": "markdown",
   "id": "c956fbe8-0854-4cec-8715-ed30db63f6e4",
   "metadata": {},
   "source": [
    "Swapping Values\n",
    "Tuples allow elegant variable swapping"
   ]
  },
  {
   "cell_type": "code",
   "execution_count": 73,
   "id": "937ab0c2-af61-42c2-a00a-a46b239f166c",
   "metadata": {},
   "outputs": [
    {
     "name": "stdout",
     "output_type": "stream",
     "text": [
      "10 5\n"
     ]
    }
   ],
   "source": [
    "a, b = 5, 10\n",
    "a, b = b, a\n",
    "print(a, b)  # Output: 10 5\n"
   ]
  },
  {
   "cell_type": "markdown",
   "id": "17421212-bd92-4080-a8e1-c2095b2d4fcd",
   "metadata": {},
   "source": [
    "Immutable Default Parameters\n",
    "Tuples are ideal for default parameters in functions."
   ]
  },
  {
   "cell_type": "code",
   "execution_count": 74,
   "id": "9751bb93-dae4-42b9-8c1a-f63847ff5d76",
   "metadata": {},
   "outputs": [
    {
     "name": "stdout",
     "output_type": "stream",
     "text": [
      "(1, 2, 3)\n"
     ]
    }
   ],
   "source": [
    "def process_data(data=(1, 2, 3)):\n",
    "    print(data)\n",
    "\n",
    "process_data()  # Output: (1, 2, 3)\n"
   ]
  },
  {
   "cell_type": "markdown",
   "id": "dee8d926-bd52-4cfc-91f4-96bcfeeae983",
   "metadata": {},
   "source": [
    "7. Comparing Tuples and Lists\n",
    "   \n",
    "                Feature\tTuple\tList\n",
    "                Mutability\tImmutable\tMutable\n",
    "                Performance\tFaster\tSlower due to mutability\n",
    "                Hashable\tYes (if elements are hashable)\tNo\n",
    "                Syntax\tParentheses ()\tSquare brackets []"
   ]
  },
  {
   "cell_type": "markdown",
   "id": "ce23be4c-c6fa-4667-a4c8-db789f9ad1b0",
   "metadata": {},
   "source": [
    "## 8. Exercises and Problems\n",
    "Problem 1: Pairwise Sum\n",
    "Given a tuple of numbers, compute the pairwise sum of adjacent elements."
   ]
  },
  {
   "cell_type": "code",
   "execution_count": 75,
   "id": "8fb8b828-1aef-42a6-aab2-a0c8eb7ec51f",
   "metadata": {},
   "outputs": [
    {
     "name": "stdout",
     "output_type": "stream",
     "text": [
      "(3, 5, 7)\n"
     ]
    }
   ],
   "source": [
    "def pairwise_sum(numbers):\n",
    "    return tuple(numbers[i] + numbers[i+1] for i in range(len(numbers) - 1))\n",
    "\n",
    "print(pairwise_sum((1, 2, 3, 4)))  # Output: (3, 5, 7)\n"
   ]
  },
  {
   "cell_type": "markdown",
   "id": "a7a72f9d-2a0f-4da9-9575-edbde61bad69",
   "metadata": {},
   "source": [
    "Problem 2: Flatten Nested Tuples\n",
    "Write a function to flatten a nested tuple."
   ]
  },
  {
   "cell_type": "code",
   "execution_count": 76,
   "id": "a091ca58-a64b-4407-ad75-3de5a384b164",
   "metadata": {},
   "outputs": [
    {
     "name": "stdout",
     "output_type": "stream",
     "text": [
      "(1, 2, 3, 4, 5, 6)\n"
     ]
    }
   ],
   "source": [
    "def flatten_tuple(nested):\n",
    "    result = []\n",
    "    for item in nested:\n",
    "        if isinstance(item, tuple):\n",
    "            result.extend(flatten_tuple(item))\n",
    "        else:\n",
    "            result.append(item)\n",
    "    return tuple(result)\n",
    "\n",
    "print(flatten_tuple((1, (2, 3), (4, (5, 6)))))  # Output: (1, 2, 3, 4, 5, 6)\n"
   ]
  },
  {
   "cell_type": "markdown",
   "id": "4b8170ea-f569-4013-b552-2c2d1c032f63",
   "metadata": {},
   "source": [
    "Problem 3: Tuple Sorting\n",
    "Sort a tuple of tuples by the second element."
   ]
  },
  {
   "cell_type": "code",
   "execution_count": 77,
   "id": "ead0a207-e086-4593-9fc4-9fff0fcb2d22",
   "metadata": {},
   "outputs": [
    {
     "name": "stdout",
     "output_type": "stream",
     "text": [
      "((4, 1), (2, 2), (1, 3))\n"
     ]
    }
   ],
   "source": [
    "data = ((1, 3), (2, 2), (4, 1))\n",
    "sorted_data = tuple(sorted(data, key=lambda x: x[1]))\n",
    "print(sorted_data)  # Output: ((4, 1), (2, 2), (1, 3))\n"
   ]
  },
  {
   "cell_type": "markdown",
   "id": "ec8d4839-0abd-4e9c-9be4-1802ce617c7f",
   "metadata": {},
   "source": [
    "# List & Arrays"
   ]
  },
  {
   "cell_type": "markdown",
   "id": "d77791ac-7a1b-4b2c-be8d-2214f99caf02",
   "metadata": {},
   "source": [
    "Lists\n",
    "            Basics of Lists:\n",
    "            \n",
    "                Creating lists.\n",
    "                Accessing elements (indexing, slicing).\n",
    "                Iterating through lists.\n",
    "            List Operations:\n",
    "            \n",
    "                Adding elements (append, extend, insert).\n",
    "                Removing elements (remove, pop, clear).\n",
    "                Reversing and sorting (reverse, sort, sorted).\n",
    "                \n",
    "            List Comprehensions:\n",
    "            \n",
    "                Creating lists using conditions and loops.\n",
    "                Nested list comprehensions.\n",
    "                \n",
    "            Advanced List Manipulations:\n",
    "            \n",
    "                Finding unique elements (set with lists).\n",
    "                Merging and flattening lists.\n",
    "                Using built-in functions like len, max, min, sum.\n",
    "            \n",
    "            Multi-dimensional Lists:\n",
    "            \n",
    "                Creating and working with 2D lists.\n",
    "                Accessing rows, columns, and individual elements."
   ]
  },
  {
   "cell_type": "code",
   "execution_count": 29,
   "id": "45639a7a-7516-4ae7-bb9e-d7c7ac7b8fb4",
   "metadata": {},
   "outputs": [
    {
     "name": "stdout",
     "output_type": "stream",
     "text": [
      "List: [1, 2, 3, 4, 5]\n",
      "First element: 1\n",
      "Last element: 5\n",
      "First three elements: [1, 2, 3]\n",
      "Elements from index 2 onwards: [3, 4, 5]\n"
     ]
    }
   ],
   "source": [
    "# Creating a list\n",
    "my_list = [1, 2, 3, 4, 5]\n",
    "print(\"List:\", my_list)\n",
    "\n",
    "# Accessing elements\n",
    "print(\"First element:\", my_list[0])\n",
    "print(\"Last element:\", my_list[-1])\n",
    "\n",
    "# Slicing\n",
    "print(\"First three elements:\", my_list[:3])\n",
    "print(\"Elements from index 2 onwards:\", my_list[2:])\n"
   ]
  },
  {
   "cell_type": "code",
   "execution_count": 30,
   "id": "578203cc-b2c0-42ac-b03c-1e637a162d3a",
   "metadata": {},
   "outputs": [
    {
     "name": "stdout",
     "output_type": "stream",
     "text": [
      "After append: [1, 2, 3, 4, 5, 6]\n",
      "After insert: [1, 2, 99, 3, 4, 5, 6]\n",
      "After extend: [1, 2, 99, 3, 4, 5, 6, 7, 8, 9]\n",
      "After remove: [1, 2, 3, 4, 5, 6, 7, 8, 9]\n",
      "After pop: [1, 2, 3, 4, 5, 6, 7, 8] Popped element: 9\n",
      "After sort: [1, 2, 3, 4, 5, 6, 7, 8]\n",
      "After reverse: [8, 7, 6, 5, 4, 3, 2, 1]\n"
     ]
    }
   ],
   "source": [
    "#List Operations\n",
    "\n",
    "# Adding elements\n",
    "my_list.append(6)  # Appends to the end\n",
    "print(\"After append:\", my_list)\n",
    "\n",
    "my_list.insert(2, 99)  # Inserts at index 2\n",
    "print(\"After insert:\", my_list)\n",
    "\n",
    "my_list.extend([7, 8, 9])  # Extends the list\n",
    "print(\"After extend:\", my_list)\n",
    "\n",
    "# Removing elements\n",
    "my_list.remove(99)  # Removes the first occurrence of 99\n",
    "print(\"After remove:\", my_list)\n",
    "\n",
    "popped = my_list.pop()  # Removes and returns the last element\n",
    "print(\"After pop:\", my_list, \"Popped element:\", popped)\n",
    "\n",
    "# Sorting and reversing\n",
    "my_list.sort()  # Sorts in ascending order\n",
    "print(\"After sort:\", my_list)\n",
    "\n",
    "my_list.reverse()  # Reverses the list\n",
    "print(\"After reverse:\", my_list)\n"
   ]
  },
  {
   "cell_type": "code",
   "execution_count": null,
   "id": "6e7081d6-f2eb-40da-8490-242ca1d57155",
   "metadata": {},
   "outputs": [],
   "source": [
    "#List Comprehensions\n",
    "\n",
    "# Creating a list of squares\n",
    "squares = [x ** 2 for x in range(1, 6)]\n",
    "print(\"Squares:\", squares)\n",
    "\n",
    "# Filtering even numbers\n",
    "evens = [x for x in range(1, 11) if x % 2 == 0]\n",
    "print(\"Even numbers:\", evens)\n",
    "\n",
    "# Nested comprehensions (2D List)\n",
    "matrix = [[j for j in range(3)] for i in range(3)]\n",
    "print(\"Matrix:\", matrix)\n"
   ]
  },
  {
   "cell_type": "code",
   "execution_count": null,
   "id": "1fb3b260-707c-4fcb-ac7c-d70d8d35ec42",
   "metadata": {},
   "outputs": [],
   "source": [
    "# Multidimensional Lists"
   ]
  },
  {
   "cell_type": "code",
   "execution_count": 31,
   "id": "8af7a0fe-dd4f-4e71-adb0-805ca4e8966d",
   "metadata": {},
   "outputs": [
    {
     "name": "stdout",
     "output_type": "stream",
     "text": [
      "First row: [1, 2, 3]\n",
      "Element at row 2, column 3: 6\n"
     ]
    }
   ],
   "source": [
    "# Creating a 2D list\n",
    "matrix = [[1, 2, 3], [4, 5, 6], [7, 8, 9]]\n",
    "\n",
    "# Accessing rows\n",
    "print(\"First row:\", matrix[0])\n",
    "\n",
    "# Accessing elements\n",
    "print(\"Element at row 2, column 3:\", matrix[1][2])\n"
   ]
  },
  {
   "cell_type": "code",
   "execution_count": null,
   "id": "f1fba3b0-c77f-4db5-a118-9cd1e086ceef",
   "metadata": {},
   "outputs": [],
   "source": [
    "Arrays\n",
    "    Using the array Module:\n",
    "    \n",
    "        Differences between lists and arrays.\n",
    "        Creating and manipulating arrays.\n",
    "        Understanding types in arrays.\n",
    "\n",
    "    Numpy Arrays:\n",
    "    \n",
    "        Installation and usage of NumPy.\n",
    "        Creating and initializing arrays (numpy.array, numpy.zeros, numpy.ones).\n",
    "        Array slicing, reshaping, and broadcasting.\n",
    "\n",
    "    Array Operations:\n",
    "    \n",
    "        Mathematical operations on arrays.\n",
    "        Aggregation functions like sum, mean, min, max.\n",
    "\n",
    "    Multi-dimensional Arrays:\n",
    "    \n",
    "        Creating and working with higher-dimensional arrays.\n",
    "        Indexing and slicing multidimensional arrays.\n",
    "            \n",
    "    Performance:\n",
    "    \n",
    "        Comparing the performance of lists and arrays.\n",
    "        When to use arrays over lists."
   ]
  },
  {
   "cell_type": "code",
   "execution_count": 32,
   "id": "5093b7e2-f356-4f92-a0be-f0eb2f902d84",
   "metadata": {},
   "outputs": [
    {
     "name": "stdout",
     "output_type": "stream",
     "text": [
      "Array: array('i', [1, 2, 3, 4, 5])\n",
      "After append: array('i', [1, 2, 3, 4, 5, 6])\n",
      "After remove: array('i', [1, 2, 4, 5, 6])\n"
     ]
    }
   ],
   "source": [
    "import array\n",
    "\n",
    "# Creating an array of integers\n",
    "arr = array.array('i', [1, 2, 3, 4, 5])\n",
    "print(\"Array:\", arr)\n",
    "\n",
    "# Adding elements\n",
    "arr.append(6)\n",
    "print(\"After append:\", arr)\n",
    "\n",
    "# Removing elements\n",
    "arr.remove(3)\n",
    "print(\"After remove:\", arr)\n"
   ]
  },
  {
   "cell_type": "code",
   "execution_count": 33,
   "id": "65b9a275-5d1e-44cb-a9b8-5459bf58b9ec",
   "metadata": {},
   "outputs": [
    {
     "name": "stdout",
     "output_type": "stream",
     "text": [
      "NumPy Array: [1 2 3 4 5]\n",
      "Zeros: [0. 0. 0. 0. 0.] Ones: [1. 1. 1.]\n",
      "Reshaped array: [[1 2 3 4 5]]\n",
      "Doubled Array: [ 2  4  6  8 10]\n"
     ]
    }
   ],
   "source": [
    "import numpy as np\n",
    "\n",
    "# Creating arrays\n",
    "np_array = np.array([1, 2, 3, 4, 5])\n",
    "print(\"NumPy Array:\", np_array)\n",
    "\n",
    "# Zeros and ones\n",
    "zeros = np.zeros(5)\n",
    "ones = np.ones(3)\n",
    "print(\"Zeros:\", zeros, \"Ones:\", ones)\n",
    "\n",
    "# Reshaping arrays\n",
    "reshaped = np_array.reshape(1, 5)  # Convert to 1x5 matrix\n",
    "print(\"Reshaped array:\", reshaped)\n",
    "\n",
    "# Broadcasting\n",
    "doubled = np_array * 2  # Element-wise multiplication\n",
    "print(\"Doubled Array:\", doubled)\n"
   ]
  },
  {
   "cell_type": "code",
   "execution_count": 34,
   "id": "29dca02d-4b37-4ef9-b596-791089d4060d",
   "metadata": {},
   "outputs": [
    {
     "name": "stdout",
     "output_type": "stream",
     "text": [
      "Sum of arrays: [5 7 9]\n",
      "Sum: 6\n",
      "Mean: 2.0\n",
      "Max: 3\n"
     ]
    }
   ],
   "source": [
    "# Mathematical operations\n",
    "arr1 = np.array([1, 2, 3])\n",
    "arr2 = np.array([4, 5, 6])\n",
    "\n",
    "sum_array = arr1 + arr2  # Element-wise addition\n",
    "print(\"Sum of arrays:\", sum_array)\n",
    "\n",
    "# Aggregation functions\n",
    "print(\"Sum:\", np.sum(arr1))\n",
    "print(\"Mean:\", np.mean(arr1))\n",
    "print(\"Max:\", np.max(arr1))\n"
   ]
  },
  {
   "cell_type": "code",
   "execution_count": 35,
   "id": "d004bb10-4d07-408c-823d-14b2f5457fcf",
   "metadata": {},
   "outputs": [
    {
     "name": "stdout",
     "output_type": "stream",
     "text": [
      "Element at row 2, column 3: 6\n",
      "First row: [1 2 3]\n",
      "First column: [1 4 7]\n"
     ]
    }
   ],
   "source": [
    "# Creating a 2D array\n",
    "matrix = np.array([[1, 2, 3], [4, 5, 6], [7, 8, 9]])\n",
    "\n",
    "# Accessing elements\n",
    "print(\"Element at row 2, column 3:\", matrix[1, 2])\n",
    "\n",
    "# Slicing\n",
    "print(\"First row:\", matrix[0, :])\n",
    "print(\"First column:\", matrix[:, 0])\n"
   ]
  },
  {
   "cell_type": "markdown",
   "id": "e35e64ff-15b5-410a-9cd6-8afbe6695049",
   "metadata": {},
   "source": [
    "## Performance Comparisons: Lists vs Arrays (NumPy)"
   ]
  },
  {
   "cell_type": "markdown",
   "id": "ce8d3651-9082-4a17-96d7-27ba0bbad898",
   "metadata": {},
   "source": [
    "Scenario 1: Element-wise Operations\n",
    "Lists in Python are versatile but slower for numerical operations because they lack vectorized operations, while NumPy arrays are highly optimized for such tasks."
   ]
  },
  {
   "cell_type": "code",
   "execution_count": 36,
   "id": "ae4904de-ff4c-4278-b897-23bfc55ff74b",
   "metadata": {},
   "outputs": [
    {
     "name": "stdout",
     "output_type": "stream",
     "text": [
      "List operation time: 0.0720071792602539\n",
      "NumPy operation time: 0.0030002593994140625\n"
     ]
    }
   ],
   "source": [
    "import numpy as np\n",
    "import time\n",
    "\n",
    "# Create a large list and NumPy array\n",
    "list_data = [x for x in range(1, 10**6)]\n",
    "array_data = np.array(list_data)\n",
    "\n",
    "# Element-wise multiplication with lists\n",
    "start = time.time()\n",
    "list_result = [x * 2 for x in list_data]\n",
    "end = time.time()\n",
    "print(\"List operation time:\", end - start)\n",
    "\n",
    "# Element-wise multiplication with NumPy\n",
    "start = time.time()\n",
    "array_result = array_data * 2\n",
    "end = time.time()\n",
    "print(\"NumPy operation time:\", end - start)\n"
   ]
  },
  {
   "cell_type": "markdown",
   "id": "f71087e2-e857-4268-8c85-89514e5b1b39",
   "metadata": {},
   "source": [
    "Scenario 2: Memory Usage\n",
    "Lists are more memory-intensive because they store pointers to objects, while NumPy arrays use a contiguous block of memory for numerical data.m"
   ]
  },
  {
   "cell_type": "code",
   "execution_count": 37,
   "id": "bf7f3b43-63d8-4852-85d2-16952b014c65",
   "metadata": {},
   "outputs": [
    {
     "name": "stdout",
     "output_type": "stream",
     "text": [
      "List memory usage (bytes): 8448728\n",
      "NumPy array memory usage (bytes): 7999992\n"
     ]
    }
   ],
   "source": [
    "import sys\n",
    "\n",
    "list_data = [x for x in range(1, 10**6)]\n",
    "array_data = np.array(list_data)\n",
    "\n",
    "# Memory usage of a list\n",
    "print(\"List memory usage (bytes):\", sys.getsizeof(list_data))\n",
    "\n",
    "# Memory usage of a NumPy array\n",
    "print(\"NumPy array memory usage (bytes):\", array_data.nbytes)\n"
   ]
  },
  {
   "cell_type": "code",
   "execution_count": null,
   "id": "baf7385f-686c-4d58-b6b9-89e130527299",
   "metadata": {},
   "outputs": [],
   "source": [
    "## Real World Examples"
   ]
  },
  {
   "cell_type": "code",
   "execution_count": 38,
   "id": "557a8172-3c1d-4ccf-8f12-81677f8e070f",
   "metadata": {},
   "outputs": [
    {
     "name": "stdout",
     "output_type": "stream",
     "text": [
      "Total sales: 1250\n",
      "Average sales: 250.0\n",
      "Maximum sale: 350\n",
      "Minimum sale: 150\n"
     ]
    }
   ],
   "source": [
    "#1. Data Analysis: Calculating Statistics\n",
    "\n",
    "import numpy as np\n",
    "\n",
    "# Example dataset: Sales data\n",
    "sales = np.array([150, 200, 250, 300, 350])\n",
    "\n",
    "# Calculate basic statistics\n",
    "print(\"Total sales:\", np.sum(sales))\n",
    "print(\"Average sales:\", np.mean(sales))\n",
    "print(\"Maximum sale:\", np.max(sales))\n",
    "print(\"Minimum sale:\", np.min(sales))"
   ]
  },
  {
   "cell_type": "markdown",
   "id": "d91bcbb0-9763-4a54-8894-d3b28e28b20f",
   "metadata": {},
   "source": [
    "2. Image Processing\n",
    "NumPy is often used for manipulating image data where each image is represented as a 2D or 3D array of pixel values"
   ]
  },
  {
   "cell_type": "code",
   "execution_count": 39,
   "id": "6f5bc7f4-ce5e-4cbf-82ba-1549ba558722",
   "metadata": {},
   "outputs": [
    {
     "name": "stdout",
     "output_type": "stream",
     "text": [
      "Brightened Image:\n",
      " [[150 200 250]\n",
      " [170 230 290]\n",
      " [190 260 305]]\n"
     ]
    }
   ],
   "source": [
    "# Example: Simulating an image as a 2D array\n",
    "image = np.array([[100, 150, 200], [120, 180, 240], [140, 210, 255]])\n",
    "\n",
    "# Increase brightness by 50\n",
    "brightened_image = image + 50\n",
    "print(\"Brightened Image:\\n\", brightened_image)"
   ]
  },
  {
   "cell_type": "markdown",
   "id": "281e6299-4220-4d43-bd04-39d35eed31e1",
   "metadata": {},
   "source": [
    "3. Machine Learning: Feature Scaling\n",
    "Feature scaling is a common preprocessing step, where NumPy arrays make operations efficient."
   ]
  },
  {
   "cell_type": "code",
   "execution_count": 40,
   "id": "c9ff45e4-8fbe-452c-bf9d-5bedd9010d8e",
   "metadata": {},
   "outputs": [
    {
     "name": "stdout",
     "output_type": "stream",
     "text": [
      "Normalized Data:\n",
      " [[0.  0. ]\n",
      " [0.5 0.5]\n",
      " [1.  1. ]]\n"
     ]
    }
   ],
   "source": [
    "# Dataset with 2 features\n",
    "data = np.array([[50, 200], [60, 220], [70, 240]])\n",
    "\n",
    "# Normalize each feature\n",
    "normalized_data = (data - np.min(data, axis=0)) / (np.max(data, axis=0) - np.min(data, axis=0))\n",
    "print(\"Normalized Data:\\n\", normalized_data)"
   ]
  },
  {
   "cell_type": "markdown",
   "id": "c6c78730-2951-45e2-904f-e430dfd37b54",
   "metadata": {},
   "source": [
    "4. Financial Analysis: Portfolio Returns\n",
    "NumPy simplifies financial computations like portfolio returns or risk analysis."
   ]
  },
  {
   "cell_type": "code",
   "execution_count": 41,
   "id": "1c7c168a-7363-4fc5-8487-ed952524a7e7",
   "metadata": {},
   "outputs": [
    {
     "name": "stdout",
     "output_type": "stream",
     "text": [
      "Portfolio Return: 0.017\n"
     ]
    }
   ],
   "source": [
    "# Daily returns of two stocks\n",
    "stock1 = np.array([0.01, 0.02, 0.015])\n",
    "stock2 = np.array([0.03, 0.01, 0.02])\n",
    "\n",
    "# Portfolio weights\n",
    "weights = np.array([0.6, 0.4])\n",
    "\n",
    "# Calculate portfolio return\n",
    "portfolio_return = np.dot(weights, [np.mean(stock1), np.mean(stock2)])\n",
    "print(\"Portfolio Return:\", portfolio_return)\n"
   ]
  },
  {
   "cell_type": "markdown",
   "id": "bb8dfa81-b3df-49da-92bf-eaa12a407a81",
   "metadata": {},
   "source": [
    "## some classic DSA problems"
   ]
  },
  {
   "cell_type": "markdown",
   "id": "8aee0a41-d602-4a56-8cb9-08fdeb0f8180",
   "metadata": {},
   "source": [
    "1. Largest Sum Contiguous Subarray (Kadane’s Algorithm)\n",
    "Problem\n",
    "Find the maximum sum of a contiguous subarray in an array.\n",
    "\n",
    "Solution:"
   ]
  },
  {
   "cell_type": "code",
   "execution_count": 42,
   "id": "9f68e7e5-fcc5-4514-b73e-0069cfdb09a0",
   "metadata": {},
   "outputs": [
    {
     "name": "stdout",
     "output_type": "stream",
     "text": [
      "Maximum subarray sum: 6\n"
     ]
    }
   ],
   "source": [
    "def max_subarray_sum(arr):\n",
    "    max_current = max_global = arr[0]\n",
    "    \n",
    "    for i in range(1, len(arr)):\n",
    "        max_current = max(arr[i], max_current + arr[i])\n",
    "        if max_current > max_global:\n",
    "            max_global = max_current\n",
    "    \n",
    "    return max_global\n",
    "\n",
    "# Example\n",
    "arr = [-2, 1, -3, 4, -1, 2, 1, -5, 4]\n",
    "print(\"Maximum subarray sum:\", max_subarray_sum(arr))\n"
   ]
  },
  {
   "cell_type": "markdown",
   "id": "7d7e94af-b5ea-4787-a7d2-b619e95a928e",
   "metadata": {},
   "source": [
    "2. Find the First Missing Positive Integer\n",
    "Problem\n",
    "Find the smallest missing positive integer in an unsorted array.\n",
    "\n",
    "Solution:"
   ]
  },
  {
   "cell_type": "code",
   "execution_count": 43,
   "id": "abf41a1b-75bd-4fd5-929e-9efbff120454",
   "metadata": {},
   "outputs": [
    {
     "name": "stdout",
     "output_type": "stream",
     "text": [
      "First missing positive: 2\n"
     ]
    }
   ],
   "source": [
    "def first_missing_positive(nums):\n",
    "    n = len(nums)\n",
    "    for i in range(n):\n",
    "        while 1 <= nums[i] <= n and nums[i] != nums[nums[i] - 1]:\n",
    "            nums[nums[i] - 1], nums[i] = nums[i], nums[nums[i] - 1]\n",
    "    \n",
    "    for i in range(n):\n",
    "        if nums[i] != i + 1:\n",
    "            return i + 1\n",
    "    \n",
    "    return n + 1\n",
    "\n",
    "# Example\n",
    "nums = [3, 4, -1, 1]\n",
    "print(\"First missing positive:\", first_missing_positive(nums))\n"
   ]
  },
  {
   "cell_type": "markdown",
   "id": "220c8211-3307-4465-b5df-56887f6763ca",
   "metadata": {},
   "source": [
    "3. Search in Rotated Sorted Array\n",
    "Problem\n",
    "Search for a target element in a rotated sorted array.\n",
    "\n",
    "Solution:"
   ]
  },
  {
   "cell_type": "code",
   "execution_count": 45,
   "id": "33492b4a-b6e2-4296-ac5b-99a52d79697f",
   "metadata": {},
   "outputs": [
    {
     "name": "stdout",
     "output_type": "stream",
     "text": [
      "Target index: 4\n"
     ]
    }
   ],
   "source": [
    "def search_rotated_array(nums, target):\n",
    "    left, right = 0, len(nums) - 1\n",
    "    \n",
    "    while left <= right:\n",
    "        mid = (left + right) // 2\n",
    "        \n",
    "        if nums[mid] == target:\n",
    "            return mid\n",
    "        \n",
    "        # Left half is sorted\n",
    "        if nums[left] <= nums[mid]:\n",
    "            if nums[left] <= target < nums[mid]:\n",
    "                right = mid - 1\n",
    "            else:\n",
    "                left = mid + 1\n",
    "        # Right half is sorted\n",
    "        else:\n",
    "            if nums[mid] < target <= nums[right]:\n",
    "                left = mid + 1\n",
    "            else:\n",
    "                right = mid - 1\n",
    "    \n",
    "    return -1\n",
    "\n",
    "# Example\n",
    "nums = [4, 5, 6, 7, 0, 1, 2]\n",
    "target = 0\n",
    "print(\"Target index:\", search_rotated_array(nums, target))\n"
   ]
  },
  {
   "cell_type": "markdown",
   "id": "0fe6a7fc-2f62-4f62-9898-4e25748fc69a",
   "metadata": {},
   "source": [
    "4. Sort an Array of 0s, 1s, and 2s (Dutch National Flag Problem)\n",
    "Problem\n",
    "Sort an array containing only 0s, 1s, and 2s in linear time without extra space.\n",
    "\n",
    "Solution"
   ]
  },
  {
   "cell_type": "code",
   "execution_count": 46,
   "id": "0ef44942-3fe0-4fc8-8093-f472a80bd7ef",
   "metadata": {},
   "outputs": [
    {
     "name": "stdout",
     "output_type": "stream",
     "text": [
      "Sorted array: [0, 0, 1, 1, 2, 2]\n"
     ]
    }
   ],
   "source": [
    "def sort_colors(nums):\n",
    "    low, mid, high = 0, 0, len(nums) - 1\n",
    "    \n",
    "    while mid <= high:\n",
    "        if nums[mid] == 0:\n",
    "            nums[low], nums[mid] = nums[mid], nums[low]\n",
    "            low += 1\n",
    "            mid += 1\n",
    "        elif nums[mid] == 1:\n",
    "            mid += 1\n",
    "        else:\n",
    "            nums[mid], nums[high] = nums[high], nums[mid]\n",
    "            high -= 1\n",
    "\n",
    "# Example\n",
    "nums = [2, 0, 2, 1, 1, 0]\n",
    "sort_colors(nums)\n",
    "print(\"Sorted array:\", nums)\n"
   ]
  },
  {
   "cell_type": "markdown",
   "id": "f5f15209-b419-4b5b-af26-a9fc51a5ae9f",
   "metadata": {},
   "source": [
    "5. Merge Overlapping Intervals\n",
    "Problem\n",
    "Merge all overlapping intervals and return the resulting list.\n",
    "\n",
    "Solution"
   ]
  },
  {
   "cell_type": "code",
   "execution_count": 47,
   "id": "8d421290-95d4-4e77-bc50-bb69bf85a542",
   "metadata": {},
   "outputs": [
    {
     "name": "stdout",
     "output_type": "stream",
     "text": [
      "Merged intervals: [[1, 6], [8, 10], [15, 18]]\n"
     ]
    }
   ],
   "source": [
    "def merge_intervals(intervals):\n",
    "    intervals.sort(key=lambda x: x[0])  # Sort by start times\n",
    "    merged = [intervals[0]]\n",
    "    \n",
    "    for current in intervals[1:]:\n",
    "        last = merged[-1]\n",
    "        if current[0] <= last[1]:\n",
    "            last[1] = max(last[1], current[1])  # Merge intervals\n",
    "        else:\n",
    "            merged.append(current)\n",
    "    \n",
    "    return merged\n",
    "\n",
    "# Example\n",
    "intervals = [[1, 3], [2, 6], [8, 10], [15, 18]]\n",
    "print(\"Merged intervals:\", merge_intervals(intervals))\n"
   ]
  },
  {
   "cell_type": "markdown",
   "id": "48267363-2a72-4e90-a8fb-6343dbef9250",
   "metadata": {},
   "source": [
    "## Matrices\n",
    "Focusing on matrices is a great idea as they are critical in DSA,\n",
    "mathematics, and real-world applications like graphics, optimization, and machine learning"
   ]
  },
  {
   "cell_type": "markdown",
   "id": "9f28be6c-9a94-4940-80d6-ed4011390620",
   "metadata": {},
   "source": [
    "Topics to Cover in Matrices\n",
    "    Matrix Representation\n",
    "    \n",
    "        Basics of 2D arrays and initialization.\n",
    "        Sparse vs dense matrices.\n",
    "\n",
    "    Traversal Techniques\n",
    "    \n",
    "        Row-wise, column-wise, diagonal, spiral traversal.\n",
    "        \n",
    "    Matrix Manipulations\n",
    "    \n",
    "        Transpose, rotation, flipping.\n",
    "        Searching in sorted matrices.\n",
    "            \n",
    "    Matrix Operations\n",
    "    \n",
    "        Addition, subtraction, multiplication.\n",
    "        Determinant, inverse.\n",
    "            \n",
    "    Pathfinding and Search\n",
    "    \n",
    "        BFS/DFS in matrices.\n",
    "        Shortest path algorithms.\n",
    "            \n",
    "    Advanced Problems\n",
    "    \n",
    "        Dynamic programming on matrices.\n",
    "        Graph-based matrix problems."
   ]
  },
  {
   "cell_type": "code",
   "execution_count": 49,
   "id": "2b426a1d-d690-4405-a21a-9c33f793f838",
   "metadata": {},
   "outputs": [
    {
     "name": "stdout",
     "output_type": "stream",
     "text": [
      "Element at (0, 1): 2\n"
     ]
    }
   ],
   "source": [
    "# Initializing a matrix\n",
    "matrix = [\n",
    "    [1, 2, 3],\n",
    "    [4, 5, 6],\n",
    "    [7, 8, 9]\n",
    "]\n",
    "\n",
    "# Accessing elements\n",
    "print(\"Element at (0, 1):\", matrix[0][1])\n"
   ]
  },
  {
   "cell_type": "code",
   "execution_count": 50,
   "id": "b9f558d5-45b8-4928-93cd-962e914a6262",
   "metadata": {},
   "outputs": [
    {
     "name": "stdout",
     "output_type": "stream",
     "text": [
      "Row: [1, 2, 3]\n",
      "Row: [4, 5, 6]\n",
      "Row: [7, 8, 9]\n",
      "1 4 7 \n",
      "2 5 8 \n",
      "3 6 9 \n"
     ]
    }
   ],
   "source": [
    "# Row-wise traversal\n",
    "for row in matrix:\n",
    "    print(\"Row:\", row)\n",
    "\n",
    "# Column-wise traversal\n",
    "for col in range(len(matrix[0])):\n",
    "    for row in range(len(matrix)):\n",
    "        print(matrix[row][col], end=\" \")\n",
    "    print()\n"
   ]
  },
  {
   "cell_type": "code",
   "execution_count": 51,
   "id": "1cab5c2e-5859-422a-b70f-dfbb030eb20d",
   "metadata": {},
   "outputs": [
    {
     "name": "stdout",
     "output_type": "stream",
     "text": [
      "Transpose: [[1, 4, 7], [2, 5, 8], [3, 6, 9]]\n"
     ]
    }
   ],
   "source": [
    "#1. Transpose of a Matrix\n",
    "#Switch rows with columns.\n",
    "\n",
    "def transpose(matrix):\n",
    "    return [[matrix[j][i] for j in range(len(matrix))] for i in range(len(matrix[0]))]\n",
    "\n",
    "# Example\n",
    "matrix = [\n",
    "    [1, 2, 3],\n",
    "    [4, 5, 6],\n",
    "    [7, 8, 9]\n",
    "]\n",
    "print(\"Transpose:\", transpose(matrix))\n"
   ]
  },
  {
   "cell_type": "code",
   "execution_count": 52,
   "id": "7a980ac0-956c-4698-83b7-ad11ad63448c",
   "metadata": {},
   "outputs": [
    {
     "name": "stdout",
     "output_type": "stream",
     "text": [
      "Rotated Matrix: [[7, 4, 1], [8, 5, 2], [9, 6, 3]]\n"
     ]
    }
   ],
   "source": [
    "#2. Rotate Matrix by 90 Degrees\n",
    "#Rotate the matrix clockwise.\n",
    "\n",
    "def rotate_90(matrix):\n",
    "    n = len(matrix)\n",
    "    for i in range(n):\n",
    "        for j in range(i, n):\n",
    "            matrix[i][j], matrix[j][i] = matrix[j][i], matrix[i][j]  # Transpose\n",
    "    for row in matrix:\n",
    "        row.reverse()  # Reverse each row\n",
    "    return matrix\n",
    "\n",
    "# Example\n",
    "matrix = [\n",
    "    [1, 2, 3],\n",
    "    [4, 5, 6],\n",
    "    [7, 8, 9]\n",
    "]\n",
    "print(\"Rotated Matrix:\", rotate_90(matrix))\n"
   ]
  },
  {
   "cell_type": "code",
   "execution_count": 53,
   "id": "aaed610f-f34c-4d1a-9db9-ebecc7f21d0b",
   "metadata": {},
   "outputs": [
    {
     "name": "stdout",
     "output_type": "stream",
     "text": [
      "Element found at: (1, 1)\n"
     ]
    }
   ],
   "source": [
    "#3. Search in a Sorted Matrix\n",
    "#Matrix is sorted row-wise and column-wise.\n",
    "\n",
    "def search_sorted_matrix(matrix, target):\n",
    "    rows, cols = len(matrix), len(matrix[0])\n",
    "    i, j = 0, cols - 1  # Start from top-right corner\n",
    "    \n",
    "    while i < rows and j >= 0:\n",
    "        if matrix[i][j] == target:\n",
    "            return (i, j)\n",
    "        elif matrix[i][j] > target:\n",
    "            j -= 1\n",
    "        else:\n",
    "            i += 1\n",
    "    return -1\n",
    "\n",
    "# Example\n",
    "matrix = [\n",
    "    [10, 20, 30],\n",
    "    [15, 25, 35],\n",
    "    [20, 30, 40]\n",
    "]\n",
    "print(\"Element found at:\", search_sorted_matrix(matrix, 25))\n",
    "\n"
   ]
  },
  {
   "cell_type": "code",
   "execution_count": 54,
   "id": "44ac08cf-c789-48af-b151-8053c0bf592b",
   "metadata": {},
   "outputs": [
    {
     "name": "stdout",
     "output_type": "stream",
     "text": [
      "Spiral Traversal: [1, 2, 3, 6, 9, 8, 7, 4, 5]\n"
     ]
    }
   ],
   "source": [
    "#4. Spiral Order Traversal\n",
    "#Print elements in a spiral order.\n",
    "\n",
    "def spiral_traversal(matrix):\n",
    "    result = []\n",
    "    top, bottom, left, right = 0, len(matrix)-1, 0, len(matrix[0])-1\n",
    "    \n",
    "    while top <= bottom and left <= right:\n",
    "        for i in range(left, right + 1):  # Left to right\n",
    "            result.append(matrix[top][i])\n",
    "        top += 1\n",
    "        for i in range(top, bottom + 1):  # Top to bottom\n",
    "            result.append(matrix[i][right])\n",
    "        right -= 1\n",
    "        if top <= bottom:\n",
    "            for i in range(right, left - 1, -1):  # Right to left\n",
    "                result.append(matrix[bottom][i])\n",
    "            bottom -= 1\n",
    "        if left <= right:\n",
    "            for i in range(bottom, top - 1, -1):  # Bottom to top\n",
    "                result.append(matrix[i][left])\n",
    "            left += 1\n",
    "    return result\n",
    "\n",
    "# Example\n",
    "matrix = [\n",
    "    [1, 2, 3],\n",
    "    [4, 5, 6],\n",
    "    [7, 8, 9]\n",
    "]\n",
    "print(\"Spiral Traversal:\", spiral_traversal(matrix))\n"
   ]
  },
  {
   "cell_type": "markdown",
   "id": "ba60adee-c7ab-4019-aa5a-368dd4f14b49",
   "metadata": {},
   "source": [
    "## Advance Operations in Matrices\n"
   ]
  },
  {
   "cell_type": "code",
   "execution_count": 55,
   "id": "353f20a0-6d65-45e2-8789-ac26b4f5cfd4",
   "metadata": {},
   "outputs": [
    {
     "name": "stdout",
     "output_type": "stream",
     "text": [
      "Product Matrix: [[4, 4], [10, 8]]\n"
     ]
    }
   ],
   "source": [
    "def multiply_matrices(A, B):\n",
    "    rows_A, cols_A = len(A), len(A[0])\n",
    "    rows_B, cols_B = len(B), len(B[0])\n",
    "    if cols_A != rows_B:\n",
    "        raise ValueError(\"Incompatible dimensions for multiplication\")\n",
    "\n",
    "    result = [[0] * cols_B for _ in range(rows_A)]\n",
    "    for i in range(rows_A):\n",
    "        for j in range(cols_B):\n",
    "            for k in range(cols_A):\n",
    "                result[i][j] += A[i][k] * B[k][j]\n",
    "    return result\n",
    "\n",
    "# Example\n",
    "A = [[1, 2], [3, 4]]\n",
    "B = [[2, 0], [1, 2]]\n",
    "print(\"Product Matrix:\", multiply_matrices(A, B))\n"
   ]
  },
  {
   "cell_type": "code",
   "execution_count": 56,
   "id": "353f64e3-d0ff-4ba0-9d66-e25368baa6c0",
   "metadata": {},
   "outputs": [
    {
     "name": "stdout",
     "output_type": "stream",
     "text": [
      "Shortest Path: 3\n"
     ]
    }
   ],
   "source": [
    "# 2. Shortest Path in a Binary Matrix\n",
    "from collections import deque\n",
    "\n",
    "def shortest_path_binary_matrix(grid):\n",
    "    if grid[0][0] != 0 or grid[-1][-1] != 0:\n",
    "        return -1\n",
    "    n = len(grid)\n",
    "    directions = [(-1, -1), (-1, 0), (-1, 1), (0, -1), (0, 1), (1, -1), (1, 0), (1, 1)]\n",
    "    queue = deque([(0, 0, 1)])  # (row, col, distance)\n",
    "    \n",
    "    while queue:\n",
    "        r, c, dist = queue.popleft()\n",
    "        if r == n - 1 and c == n - 1:\n",
    "            return dist\n",
    "        for dr, dc in directions:\n",
    "            nr, nc = r + dr, c + dc\n",
    "            if 0 <= nr < n and 0 <= nc < n and grid[nr][nc] == 0:\n",
    "                grid[nr][nc] = 1  # Mark as visited\n",
    "                queue.append((nr, nc, dist + 1))\n",
    "    return -1\n",
    "\n",
    "# Example\n",
    "grid = [\n",
    "    [0, 1, 0],\n",
    "    [1, 0, 1],\n",
    "    [1, 0, 0]\n",
    "]\n",
    "print(\"Shortest Path:\", shortest_path_binary_matrix(grid))\n"
   ]
  },
  {
   "cell_type": "markdown",
   "id": "9f7ae664-97d1-4aa0-ad96-6d493fa5f2dd",
   "metadata": {},
   "source": [
    "Things we can explore further are Dyanamic Programming, Grapg Problems etc"
   ]
  },
  {
   "cell_type": "code",
   "execution_count": null,
   "id": "f1ee13bf-38e4-4a99-9261-c0cd42f7028d",
   "metadata": {},
   "outputs": [],
   "source": []
  },
  {
   "cell_type": "markdown",
   "id": "4731abc4-736c-417e-9d72-ee113f6e7ab1",
   "metadata": {
    "jp-MarkdownHeadingCollapsed": true
   },
   "source": [
    "# Dictionary"
   ]
  },
  {
   "cell_type": "markdown",
   "id": "32828ac2-5560-46d9-b537-f02ebdfbe040",
   "metadata": {},
   "source": [
    "Intro: A dictionary in Python is created using curly braces {} and contains key-value pairs. Each key is unique."
   ]
  },
  {
   "cell_type": "code",
   "execution_count": 2,
   "id": "295f0ee6-7ba8-4e9d-8a43-0f3fb9a5bed4",
   "metadata": {},
   "outputs": [
    {
     "name": "stdout",
     "output_type": "stream",
     "text": [
      "{'name': 'John', 'age': 25, 'city': 'New York'}\n"
     ]
    }
   ],
   "source": [
    "# Creating a dictionary\n",
    "my_dict = {'name': 'John', 'age': 25, 'city': 'New York'}\n",
    "print(my_dict)"
   ]
  },
  {
   "cell_type": "code",
   "execution_count": 3,
   "id": "32eeed37-04a3-4982-b4c1-dfc7a48be7c9",
   "metadata": {},
   "outputs": [
    {
     "name": "stdout",
     "output_type": "stream",
     "text": [
      "John\n"
     ]
    }
   ],
   "source": [
    "# Accessing values\n",
    "print(my_dict['name'])  # Output: John"
   ]
  },
  {
   "cell_type": "code",
   "execution_count": 4,
   "id": "c7fa45f8-f34b-438d-b13d-1c80da2d74b8",
   "metadata": {},
   "outputs": [
    {
     "name": "stdout",
     "output_type": "stream",
     "text": [
      "{'name': 'John', 'age': 25, 'city': 'New York', 'job': 'Engineer'}\n",
      "{'name': 'John', 'age': 26, 'city': 'New York', 'job': 'Engineer'}\n"
     ]
    }
   ],
   "source": [
    "# Adding a new key-value pair\n",
    "my_dict['job'] = 'Engineer'\n",
    "print(my_dict)\n",
    "\n",
    "# Modifying an existing key-value pair\n",
    "my_dict['age'] = 26\n",
    "print(my_dict)"
   ]
  },
  {
   "cell_type": "code",
   "execution_count": 5,
   "id": "b7818972-33ae-458a-ad65-637b31097930",
   "metadata": {},
   "outputs": [
    {
     "name": "stdout",
     "output_type": "stream",
     "text": [
      "{'name': 'John', 'age': 26, 'job': 'Engineer'}\n",
      "26\n",
      "{'name': 'John', 'job': 'Engineer'}\n"
     ]
    }
   ],
   "source": [
    "# Using del to remove an item\n",
    "del my_dict['city']\n",
    "print(my_dict)\n",
    "\n",
    "# Using pop() to remove an item and get its value\n",
    "age = my_dict.pop('age')\n",
    "print(age)  # Output: 26\n",
    "print(my_dict)"
   ]
  },
  {
   "cell_type": "code",
   "execution_count": 6,
   "id": "2b266291-bdc5-4b23-b752-032477c00040",
   "metadata": {},
   "outputs": [
    {
     "name": "stdout",
     "output_type": "stream",
     "text": [
      "Name exists\n"
     ]
    }
   ],
   "source": [
    "# Checking if a key exists\n",
    "if 'name' in my_dict:\n",
    "    print(\"Name exists\")"
   ]
  },
  {
   "cell_type": "code",
   "execution_count": 7,
   "id": "55eee064-2875-49ec-9824-36615bfb4f60",
   "metadata": {},
   "outputs": [
    {
     "name": "stdout",
     "output_type": "stream",
     "text": [
      "name\n",
      "job\n",
      "John\n",
      "Engineer\n",
      "name John\n",
      "job Engineer\n"
     ]
    }
   ],
   "source": [
    "# Looping through keys\n",
    "for key in my_dict:\n",
    "    print(key)\n",
    "\n",
    "# Looping through values\n",
    "for value in my_dict.values():\n",
    "    print(value)\n",
    "\n",
    "# Looping through keys and values\n",
    "for key, value in my_dict.items():\n",
    "    print(key, value)"
   ]
  },
  {
   "cell_type": "markdown",
   "id": "f2953520-142b-4b42-b652-08169c8d3142",
   "metadata": {},
   "source": [
    "Dictionary Methods\n",
    "\n",
    "            get(): Returns the value for a key, or a default value if the key doesn't exist.\n",
    "            keys(): Returns a view object containing all the keys.\n",
    "            values(): Returns a view object containing all the values.\n",
    "            items(): Returns a view object containing key-value pairs as tuples."
   ]
  },
  {
   "cell_type": "code",
   "execution_count": 8,
   "id": "058335c2-6ae8-48d8-9edd-3c8cf5f76b19",
   "metadata": {},
   "outputs": [
    {
     "name": "stdout",
     "output_type": "stream",
     "text": [
      "John\n",
      "Not Found\n",
      "dict_keys(['name', 'job'])\n",
      "dict_values(['John', 'Engineer'])\n",
      "dict_items([('name', 'John'), ('job', 'Engineer')])\n"
     ]
    }
   ],
   "source": [
    "# Using get() to safely access values\n",
    "print(my_dict.get('name'))  # Output: John\n",
    "print(my_dict.get('address', 'Not Found'))  # Output: Not Found\n",
    "\n",
    "# Using keys(), values(), and items()\n",
    "print(my_dict.keys())\n",
    "print(my_dict.values())\n",
    "print(my_dict.items())"
   ]
  },
  {
   "cell_type": "code",
   "execution_count": 9,
   "id": "4a095a59-7d1c-414c-a44e-54e74a6922cd",
   "metadata": {},
   "outputs": [
    {
     "name": "stdout",
     "output_type": "stream",
     "text": [
      "{0: 0, 1: 1, 2: 4, 3: 9, 4: 16}\n"
     ]
    }
   ],
   "source": [
    "# Dictionary comprehension\n",
    "squares = {x: x**2 for x in range(5)}\n",
    "print(squares)"
   ]
  },
  {
   "cell_type": "code",
   "execution_count": 10,
   "id": "33cd249c-5191-4529-b7bb-61186c397a17",
   "metadata": {},
   "outputs": [
    {
     "name": "stdout",
     "output_type": "stream",
     "text": [
      "New York\n"
     ]
    }
   ],
   "source": [
    "# Nested dictionary\n",
    "person = {\n",
    "    'name': 'John',\n",
    "    'address': {'city': 'New York', 'zip': '10001'}\n",
    "}\n",
    "print(person['address']['city'])  # Output: New York"
   ]
  },
  {
   "cell_type": "code",
   "execution_count": 11,
   "id": "51ada292-53b3-41b5-bef1-b52a246f6fbc",
   "metadata": {},
   "outputs": [
    {
     "name": "stdout",
     "output_type": "stream",
     "text": [
      "{'a': 1, 'b': 2, 'c': 3, 'd': 4}\n",
      "{'a': 1, 'b': 2, 'c': 3, 'd': 4}\n"
     ]
    }
   ],
   "source": [
    "# Using update() to merge dictionaries\n",
    "dict1 = {'a': 1, 'b': 2}\n",
    "dict2 = {'c': 3, 'd': 4}\n",
    "dict1.update(dict2)\n",
    "print(dict1)\n",
    "\n",
    "# Using the | operator (Python 3.9+)\n",
    "merged_dict = dict1 | dict2\n",
    "print(merged_dict)"
   ]
  },
  {
   "cell_type": "markdown",
   "id": "c2b3df54-ee5d-41f0-8c6c-d2413a2c3243",
   "metadata": {},
   "source": [
    "## Advance Examples\n"
   ]
  },
  {
   "cell_type": "markdown",
   "id": "b5705182-b58b-4733-9f6c-d6554e1005b6",
   "metadata": {},
   "source": [
    "1. defaultdict (from collections module)\n",
    "A defaultdict is a subclass of the built-in dict that provides a default value for nonexistent keys, preventing KeyError exceptions."
   ]
  },
  {
   "cell_type": "code",
   "execution_count": 12,
   "id": "e1ddd755-956c-4726-9095-4d826e793f51",
   "metadata": {},
   "outputs": [
    {
     "name": "stdout",
     "output_type": "stream",
     "text": [
      "defaultdict(<class 'list'>, {'a': [1, 2], 'b': [3]})\n"
     ]
    }
   ],
   "source": [
    "from collections import defaultdict\n",
    "\n",
    "# Default value is an empty list\n",
    "d = defaultdict(list)\n",
    "d['a'].append(1)\n",
    "d['a'].append(2)\n",
    "d['b'].append(3)\n",
    "print(d)  # Output: defaultdict(<class 'list'>, {'a': [1, 2], 'b': [3]})\n"
   ]
  },
  {
   "cell_type": "markdown",
   "id": "24f0c9ff-4215-4b1b-8cc8-3500dd58c3f3",
   "metadata": {},
   "source": [
    "2. Counter (from collections module)\n",
    "The Counter is used to count the occurrences of elements in an iterable or to count items in a dictionary.\n"
   ]
  },
  {
   "cell_type": "code",
   "execution_count": 13,
   "id": "edd4c13b-b554-4805-8e13-2ec3c0b2f8c9",
   "metadata": {},
   "outputs": [
    {
     "name": "stdout",
     "output_type": "stream",
     "text": [
      "Counter({3: 3, 2: 2, 1: 1})\n"
     ]
    }
   ],
   "source": [
    "from collections import Counter\n",
    "\n",
    "# Counting elements in a list\n",
    "arr = [1, 2, 2, 3, 3, 3]\n",
    "counter = Counter(arr)\n",
    "print(counter)  # Output: Counter({3: 3, 2: 2, 1: 1})"
   ]
  },
  {
   "cell_type": "markdown",
   "id": "73866cb2-f801-470e-971e-c1e131a0f727",
   "metadata": {},
   "source": [
    "3. setdefault()\n",
    "The setdefault() method returns the value of a key if it exists, and if it does not exist, it inserts the key with a default value."
   ]
  },
  {
   "cell_type": "code",
   "execution_count": 14,
   "id": "c2914c6c-098e-4eb5-8755-fd5f939f6b66",
   "metadata": {},
   "outputs": [
    {
     "name": "stdout",
     "output_type": "stream",
     "text": [
      "{'a': 1, 'b': 2}\n",
      "2\n"
     ]
    }
   ],
   "source": [
    "# Using setdefault()\n",
    "d = {'a': 1}\n",
    "value = d.setdefault('b', 2)  # Adds 'b' with value 2\n",
    "print(d)  # Output: {'a': 1, 'b': 2}\n",
    "print(value)  # Output: 2"
   ]
  },
  {
   "cell_type": "markdown",
   "id": "af95e533-78ca-449b-be2a-9e522b343526",
   "metadata": {},
   "source": [
    "4. update()\n",
    "The update() method allows you to add multiple key-value pairs to the dictionary or update existing keys with new values."
   ]
  },
  {
   "cell_type": "code",
   "execution_count": 16,
   "id": "dee42a73-e621-4e1e-8549-92bee8c17bf6",
   "metadata": {},
   "outputs": [
    {
     "name": "stdout",
     "output_type": "stream",
     "text": [
      "{'a': 1, 'b': 3, 'c': 4}\n"
     ]
    }
   ],
   "source": [
    "# Using update() to add or update multiple key-value pairs\n",
    "d = {'a': 1, 'b': 2}\n",
    "d.update({'b': 3, 'c': 4})\n",
    "print(d)  # Output: {'a': 1, 'b': 3, 'c': 4}\n"
   ]
  },
  {
   "cell_type": "markdown",
   "id": "068694f2-2a60-4c60-b377-12c145d7bf92",
   "metadata": {},
   "source": [
    "5. Sorting Dictionaries by Key or Value\n",
    "You can sort dictionaries by keys or values using sorted()."
   ]
  },
  {
   "cell_type": "code",
   "execution_count": 17,
   "id": "1c20b293-87c2-4bf8-a8a0-e35de1600309",
   "metadata": {},
   "outputs": [
    {
     "name": "stdout",
     "output_type": "stream",
     "text": [
      "{'a': 1, 'b': 2, 'c': 3}\n",
      "{'a': 1, 'b': 2, 'c': 3}\n"
     ]
    }
   ],
   "source": [
    "# Sorting by key\n",
    "d = {'a': 1, 'c': 3, 'b': 2}\n",
    "sorted_by_key = dict(sorted(d.items()))\n",
    "print(sorted_by_key)  # Output: {'a': 1, 'b': 2, 'c': 3}\n",
    "\n",
    "# Sorting by value\n",
    "sorted_by_value = dict(sorted(d.items(), key=lambda item: item[1]))\n",
    "print(sorted_by_value)  # Output: {'a': 1, 'b': 2, 'c': 3}\n"
   ]
  },
  {
   "cell_type": "markdown",
   "id": "821d125b-6dce-42e8-b1b1-beb3b3a68488",
   "metadata": {},
   "source": [
    "6. Inverting a Dictionary (Key-Value Swap)"
   ]
  },
  {
   "cell_type": "code",
   "execution_count": 18,
   "id": "b35f67b6-b743-43dd-9cd1-1c3fa9548b2e",
   "metadata": {},
   "outputs": [
    {
     "name": "stdout",
     "output_type": "stream",
     "text": [
      "{1: 'a', 2: 'b', 3: 'c'}\n"
     ]
    }
   ],
   "source": [
    "# Inverting a dictionary\n",
    "d = {'a': 1, 'b': 2, 'c': 3}\n",
    "inverted_d = {v: k for k, v in d.items()}\n",
    "print(inverted_d)  # Output: {1: 'a', 2: 'b', 3: 'c'}\n"
   ]
  },
  {
   "cell_type": "markdown",
   "id": "17c5b412-786c-4cd3-b349-9bb6805de47f",
   "metadata": {},
   "source": [
    "7. Finding Maximum/Minimum by Value"
   ]
  },
  {
   "cell_type": "code",
   "execution_count": 19,
   "id": "91cae2c2-b159-42e8-9855-5f94f20f173f",
   "metadata": {},
   "outputs": [
    {
     "name": "stdout",
     "output_type": "stream",
     "text": [
      "c\n",
      "a\n"
     ]
    }
   ],
   "source": [
    "# Finding the key with the maximum value\n",
    "d = {'a': 10, 'b': 20, 'c': 30}\n",
    "max_key = max(d, key=d.get)\n",
    "print(max_key)  # Output: 'c'\n",
    "\n",
    "# Finding the key with the minimum value\n",
    "min_key = min(d, key=d.get)\n",
    "print(min_key)  # Output: 'a'\n"
   ]
  },
  {
   "cell_type": "markdown",
   "id": "1fcbdd47-7a60-4ae6-a517-1feaf9da56be",
   "metadata": {},
   "source": [
    "8. Checking for Missing Keys"
   ]
  },
  {
   "cell_type": "code",
   "execution_count": 20,
   "id": "0244adb1-b8e7-4c26-94b4-6ba936b04e88",
   "metadata": {},
   "outputs": [
    {
     "name": "stdout",
     "output_type": "stream",
     "text": [
      "Not Found\n",
      "{'a': 1, 'b': 2, 'c': 3}\n"
     ]
    }
   ],
   "source": [
    "# Using get() to safely access values\n",
    "d = {'a': 1, 'b': 2}\n",
    "print(d.get('c', 'Not Found'))  # Output: Not Found\n",
    "\n",
    "# Using setdefault()\n",
    "d.setdefault('c', 3)\n",
    "print(d)  # Output: {'a': 1, 'b': 2, 'c': 3}\n"
   ]
  },
  {
   "cell_type": "code",
   "execution_count": null,
   "id": "fc395073-4fd3-493f-94b0-34df9ea227aa",
   "metadata": {},
   "outputs": [],
   "source": [
    "9. Merging Multiple Dictionaries\n",
    "You can merge multiple dictionaries using ** unpacking (Python 3.5+)."
   ]
  },
  {
   "cell_type": "code",
   "execution_count": 21,
   "id": "6c4b6cc2-2e90-487e-9d9f-018198683287",
   "metadata": {},
   "outputs": [
    {
     "name": "stdout",
     "output_type": "stream",
     "text": [
      "{'a': 1, 'b': 2, 'c': 3, 'd': 4}\n"
     ]
    }
   ],
   "source": [
    "# Merging dictionaries using ** unpacking\n",
    "dict1 = {'a': 1, 'b': 2}\n",
    "dict2 = {'c': 3, 'd': 4}\n",
    "merged = {**dict1, **dict2}\n",
    "print(merged)  # Output: {'a': 1, 'b': 2, 'c': 3, 'd': 4}\n"
   ]
  },
  {
   "cell_type": "markdown",
   "id": "e196e186-276a-4212-98dc-d16927645134",
   "metadata": {},
   "source": [
    "10. Using popitem()\n",
    "The popitem() method removes and returns the last key-value pair as a tuple."
   ]
  },
  {
   "cell_type": "code",
   "execution_count": 22,
   "id": "09728fd5-1eff-482d-8481-9204f340c2e8",
   "metadata": {},
   "outputs": [
    {
     "name": "stdout",
     "output_type": "stream",
     "text": [
      "('c', 3)\n",
      "{'a': 1, 'b': 2}\n"
     ]
    }
   ],
   "source": [
    "# Using popitem() to remove the last item\n",
    "d = {'a': 1, 'b': 2, 'c': 3}\n",
    "item = d.popitem()\n",
    "print(item)  # Output: ('c', 3)\n",
    "print(d)  # Output: {'a': 1, 'b': 2}\n"
   ]
  },
  {
   "cell_type": "markdown",
   "id": "722b7608-d7d7-4cb0-9476-979ad12e138f",
   "metadata": {},
   "source": [
    "11. Deep Copying a Dictionary\n",
    "You can create a deep copy of a dictionary using the copy() method or copy.deepcopy() for nested dictionaries."
   ]
  },
  {
   "cell_type": "code",
   "execution_count": 23,
   "id": "5fbce7ff-bcaf-41dd-b039-cfbe4c24ac74",
   "metadata": {},
   "outputs": [],
   "source": [
    "import copy\n",
    "\n",
    "# Shallow copy\n",
    "shallow_copy = d.copy()\n",
    "\n",
    "# Deep copy (useful for nested dictionaries)\n",
    "nested_dict = {'a': {'x': 1}, 'b': {'y': 2}}\n",
    "deep_copy = copy.deepcopy(nested_dict)\n"
   ]
  },
  {
   "cell_type": "markdown",
   "id": "abc18df1-6767-4416-a4b4-0b4bfed445b0",
   "metadata": {},
   "source": [
    "12. Using chainmap() (from collections module)\n",
    "chainmap() is used to combine multiple dictionaries into a single view, where the dictionaries are searched in order."
   ]
  },
  {
   "cell_type": "code",
   "execution_count": 24,
   "id": "a3a043b3-3fe0-40f1-878d-46a5b8700568",
   "metadata": {},
   "outputs": [
    {
     "name": "stdout",
     "output_type": "stream",
     "text": [
      "ChainMap({'a': 1, 'b': 2}, {'b': 3, 'c': 4})\n"
     ]
    }
   ],
   "source": [
    "from collections import ChainMap\n",
    "\n",
    "dict1 = {'a': 1, 'b': 2}\n",
    "dict2 = {'b': 3, 'c': 4}\n",
    "combined = ChainMap(dict1, dict2)\n",
    "print(combined)  # Output: ChainMap({'a': 1, 'b': 2}, {'b': 3, 'c': 4})\n"
   ]
  },
  {
   "cell_type": "markdown",
   "id": "8d9fd25e-f941-4ae4-bb58-4c3b01d9293d",
   "metadata": {},
   "source": [
    "### Example Use Case: \n",
    "In problems like \"Two Sum\" (where you need to find all pairs that sum up to a target), \n",
    "\n",
    "this approach ensures that pairs are stored in a unique and consistent way, avoiding permutations of the same pair."
   ]
  },
  {
   "cell_type": "code",
   "execution_count": 25,
   "id": "6885d8bd-732d-49ca-ad22-4b41e8a8aa0f",
   "metadata": {},
   "outputs": [
    {
     "name": "stdout",
     "output_type": "stream",
     "text": [
      "{(2, 3), (1, 4)}\n"
     ]
    }
   ],
   "source": [
    "pairs = set()\n",
    "nums = [1, 2, 3, 4]\n",
    "target = 5\n",
    "\n",
    "for num in nums:\n",
    "    complement = target - num\n",
    "    if complement in nums:\n",
    "        pairs.add(tuple(sorted([num, complement])))\n",
    "\n",
    "print(pairs)  # Output: {(1, 4), (2, 3)}\n"
   ]
  },
  {
   "cell_type": "markdown",
   "id": "7c29eb2f-2987-4d8a-bc9b-ebbe18b5a64c",
   "metadata": {},
   "source": [
    "This is useful when you're counting the frequency of elements in an array,\n",
    "such as in problems like \"Find the Most Frequent Element\" or \"Count Occurrences of Each Element.\""
   ]
  },
  {
   "cell_type": "code",
   "execution_count": 26,
   "id": "aacc3f3f-3984-4ac6-a44a-4231e09f6f89",
   "metadata": {},
   "outputs": [
    {
     "name": "stdout",
     "output_type": "stream",
     "text": [
      "{1: 1, 2: 2, 3: 3, 4: 1}\n"
     ]
    }
   ],
   "source": [
    "nums = [1, 2, 2, 3, 3, 3, 4]\n",
    "freq = {}\n",
    "\n",
    "for num in nums:\n",
    "    freq[num] = freq.get(num, 0) + 1\n",
    "\n",
    "print(freq)  # Output: {1: 1, 2: 2, 3: 3, 4: 1}\n"
   ]
  },
  {
   "cell_type": "code",
   "execution_count": 28,
   "id": "f3817644-a7cf-48b7-9752-dc4cab0d2e20",
   "metadata": {},
   "outputs": [
    {
     "name": "stdout",
     "output_type": "stream",
     "text": [
      "defaultdict(<class 'int'>, {1: 1, 2: 2, 3: 3, 4: 1})\n",
      "Counter({3: 3, 2: 2, 1: 1, 4: 1})\n",
      "{1, 2, 3, 4, 5}\n",
      "[(1, 'a'), (2, 'b'), (3, 'c')]\n",
      "[1, 4, 9, 16]\n"
     ]
    }
   ],
   "source": [
    "#defaultdict (from collections module): A defaultdict provides a default value for missing keys. \n",
    "#This is useful when you want to avoid checking for the existence of a key before updating its value.\n",
    "\n",
    "from collections import defaultdict\n",
    "\n",
    "freq = defaultdict(int)\n",
    "nums = [1, 2, 2, 3, 3, 3, 4]\n",
    "for num in nums:\n",
    "    freq[num] += 1\n",
    "\n",
    "print(freq)  # Output: defaultdict(<class 'int'>, {1: 1, 2: 2, 3: 3, 4: 1})\n",
    "\n",
    "\n",
    "#Counter (from collections module): A Counter is specifically designed to count the occurrences of elements\n",
    "#in an iterable and returns a dictionary-like object where keys are elements, and values are their counts.\n",
    "\n",
    "from collections import Counter\n",
    "\n",
    "nums = [1, 2, 2, 3, 3, 3, 4]\n",
    "freq = Counter(nums)\n",
    "\n",
    "print(freq)  # Output: Counter({3: 3, 2: 2, 1: 1, 4: 1})\n",
    "\n",
    "\n",
    "#set() and union() for Sets: You can combine two sets while ensuring no duplicates are included.\n",
    "#The union() method combines two sets and removes duplicates.\n",
    "\n",
    "set1 = {1, 2, 3}\n",
    "set2 = {3, 4, 5}\n",
    "combined_set = set1.union(set2)\n",
    "print(combined_set)  # Output: {1, 2, 3, 4, 5}\n",
    "\n",
    "\n",
    "#zip() for Pairing Elements: The zip() function is used to pair elements from two lists (or other iterables) into tuples.\n",
    "\n",
    "list1 = [1, 2, 3]\n",
    "list2 = ['a', 'b', 'c']\n",
    "zipped = list(zip(list1, list2))\n",
    "print(zipped)  # Output: [(1, 'a'), (2, 'b'), (3, 'c')]\n",
    "\n",
    "\n",
    "# map() for Applying a Function: The map() function applies a specified function \n",
    "# to each item in an iterable and returns a map object (which can be converted to a list or other collections).\n",
    "\n",
    "nums = [1, 2, 3, 4]\n",
    "squared = list(map(lambda x: x**2, nums))\n",
    "print(squared)  # Output: [1, 4, 9, 16]"
   ]
  },
  {
   "cell_type": "code",
   "execution_count": null,
   "id": "ec1de6d6-5b91-43e4-9fba-8c5b87a917ca",
   "metadata": {},
   "outputs": [],
   "source": []
  },
  {
   "cell_type": "markdown",
   "id": "a775a093-9948-4e1c-b600-60cd6744393b",
   "metadata": {
    "jp-MarkdownHeadingCollapsed": true
   },
   "source": [
    "# Hash Map"
   ]
  },
  {
   "cell_type": "code",
   "execution_count": null,
   "id": "65415486-9f65-47ed-9a99-d51b27a3da27",
   "metadata": {},
   "outputs": [],
   "source": []
  },
  {
   "cell_type": "code",
   "execution_count": null,
   "id": "d4236c55-3c8d-45f3-92c2-99ce3ac672c5",
   "metadata": {},
   "outputs": [],
   "source": []
  }
 ],
 "metadata": {
  "kernelspec": {
   "display_name": "Python 3 (ipykernel)",
   "language": "python",
   "name": "python3"
  },
  "language_info": {
   "codemirror_mode": {
    "name": "ipython",
    "version": 3
   },
   "file_extension": ".py",
   "mimetype": "text/x-python",
   "name": "python",
   "nbconvert_exporter": "python",
   "pygments_lexer": "ipython3",
   "version": "3.12.1"
  }
 },
 "nbformat": 4,
 "nbformat_minor": 5
}

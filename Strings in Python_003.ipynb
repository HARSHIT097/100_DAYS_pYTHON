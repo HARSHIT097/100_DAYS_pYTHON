{
 "cells": [
  {
   "cell_type": "markdown",
   "id": "202aafd3-1f63-4ebe-a710-ad8d9c853b74",
   "metadata": {},
   "source": [
    "# Strings Data Type"
   ]
  },
  {
   "cell_type": "code",
   "execution_count": null,
   "id": "e406be5a-6444-4799-a798-ac967460f3d5",
   "metadata": {},
   "outputs": [],
   "source": [
    "Topics to Cover in Strings\n",
    "    String Basics\n",
    "        \n",
    "        Definition and immutability.\n",
    "        Common operations: slicing, concatenation, repetition.\n",
    "\n",
    "    String Methods\n",
    "    \n",
    "        Case conversion, search, replace, split, and join.\n",
    "        Advanced methods: startswith(), endswith(), strip().\n",
    "\n",
    "    Pattern Matching\n",
    "    \n",
    "        Using re for regular expressions.\n",
    "\n",
    "    String Manipulation\n",
    "    \n",
    "        Reversing, removing characters, finding substrings.\n",
    "\n",
    "    Advanced Problems\n",
    "    \n",
    "        Anagrams, palindromes, pattern matching, compression."
   ]
  },
  {
   "cell_type": "code",
   "execution_count": 2,
   "id": "84b3e37d-26d6-4bec-93e6-7eb04c64db8f",
   "metadata": {},
   "outputs": [
    {
     "name": "stdout",
     "output_type": "stream",
     "text": [
      "First character: h\n",
      "Slice: ell\n"
     ]
    },
    {
     "ename": "TypeError",
     "evalue": "'str' object does not support item assignment",
     "output_type": "error",
     "traceback": [
      "\u001b[1;31m---------------------------------------------------------------------------\u001b[0m",
      "\u001b[1;31mTypeError\u001b[0m                                 Traceback (most recent call last)",
      "Cell \u001b[1;32mIn[2], line 8\u001b[0m\n\u001b[0;32m      6\u001b[0m \u001b[38;5;28mprint\u001b[39m(\u001b[38;5;124m\"\u001b[39m\u001b[38;5;124mFirst character:\u001b[39m\u001b[38;5;124m\"\u001b[39m, s[\u001b[38;5;241m0\u001b[39m])\n\u001b[0;32m      7\u001b[0m \u001b[38;5;28mprint\u001b[39m(\u001b[38;5;124m\"\u001b[39m\u001b[38;5;124mSlice:\u001b[39m\u001b[38;5;124m\"\u001b[39m, s[\u001b[38;5;241m1\u001b[39m:\u001b[38;5;241m4\u001b[39m])\n\u001b[1;32m----> 8\u001b[0m \u001b[43ms\u001b[49m\u001b[43m[\u001b[49m\u001b[38;5;241;43m0\u001b[39;49m\u001b[43m]\u001b[49m \u001b[38;5;241m=\u001b[39m \u001b[38;5;124m'\u001b[39m\u001b[38;5;124mH\u001b[39m\u001b[38;5;124m'\u001b[39m  \u001b[38;5;66;03m# This would raise an error\u001b[39;00m\n",
      "\u001b[1;31mTypeError\u001b[0m: 'str' object does not support item assignment"
     ]
    }
   ],
   "source": [
    "# Definition and Immutability\n",
    "# Strings in Python are sequences of characters and are immutable.\n",
    "\n",
    "\n",
    "s = \"hello\"\n",
    "print(\"First character:\", s[0])\n",
    "print(\"Slice:\", s[1:4])\n",
    "s[0] = 'H'  # This would raise an error"
   ]
  },
  {
   "cell_type": "code",
   "execution_count": 3,
   "id": "bd0b044d-3ace-487b-8bee-90d1632eabf9",
   "metadata": {},
   "outputs": [
    {
     "name": "stdout",
     "output_type": "stream",
     "text": [
      "Concatenation: hello world\n",
      "Repetition: hellohellohello\n"
     ]
    }
   ],
   "source": [
    "# Concatenation and Repetition\n",
    "s1 = \"hello\"\n",
    "s2 = \"world\"\n",
    "print(\"Concatenation:\", s1 + \" \" + s2)\n",
    "print(\"Repetition:\", s1 * 3)\n"
   ]
  },
  {
   "cell_type": "code",
   "execution_count": null,
   "id": "90a19785-f7f8-45e9-8046-e13919cf028e",
   "metadata": {},
   "outputs": [],
   "source": [
    "## String Methods"
   ]
  },
  {
   "cell_type": "code",
   "execution_count": 4,
   "id": "d4e186d2-b8ff-4d25-8c76-f3c475d36a05",
   "metadata": {},
   "outputs": [
    {
     "name": "stdout",
     "output_type": "stream",
     "text": [
      "Uppercase: HELLO WORLD\n",
      "Lowercase: hello world\n",
      "Title Case: Hello World\n"
     ]
    }
   ],
   "source": [
    "# Case Conversion\n",
    "s = \"Hello World\"\n",
    "print(\"Uppercase:\", s.upper())\n",
    "print(\"Lowercase:\", s.lower())\n",
    "print(\"Title Case:\", s.title())\n"
   ]
  },
  {
   "cell_type": "code",
   "execution_count": 6,
   "id": "8b55ca35-5e35-42cb-8d07-0816cfdfaf22",
   "metadata": {},
   "outputs": [
    {
     "name": "stdout",
     "output_type": "stream",
     "text": [
      "Find index of 'world': 6\n",
      "Replace 'world' with 'Python': hello Python\n"
     ]
    }
   ],
   "source": [
    "# Search and Replace\n",
    "s = \"hello world\"\n",
    "print(\"Find index of 'world':\", s.find('world'))\n",
    "print(\"Replace 'world' with 'Python':\", s.replace('world', 'Python'))\n"
   ]
  },
  {
   "cell_type": "code",
   "execution_count": 7,
   "id": "fa0e5ff3-ffff-4afc-b107-1aa4de0272bf",
   "metadata": {},
   "outputs": [
    {
     "name": "stdout",
     "output_type": "stream",
     "text": [
      "Split: ['apple', 'banana', 'cherry']\n",
      "Join: apple & banana & cherry\n"
     ]
    }
   ],
   "source": [
    "# Split & join\n",
    "\n",
    "s = \"apple,banana,cherry\"\n",
    "parts = s.split(\",\")\n",
    "print(\"Split:\", parts)\n",
    "print(\"Join:\", \" & \".join(parts))\n"
   ]
  },
  {
   "cell_type": "markdown",
   "id": "29420af4-72ee-49ae-8b55-2108cb507379",
   "metadata": {},
   "source": [
    "## 3. Common String Problems"
   ]
  },
  {
   "cell_type": "code",
   "execution_count": 11,
   "id": "382892ac-44ee-4f7b-b69b-343eb255cff9",
   "metadata": {},
   "outputs": [
    {
     "name": "stdout",
     "output_type": "stream",
     "text": [
      "Is 'radar' a palindrome? True\n"
     ]
    }
   ],
   "source": [
    "# Check for Palindrome\n",
    "def is_palindrome(s):\n",
    "    return s == s[::-1]\n",
    "\n",
    "print(\"Is 'radar' a palindrome?\", is_palindrome(\"radar\"))\n"
   ]
  },
  {
   "cell_type": "code",
   "execution_count": 10,
   "id": "de77ed0e-e901-4512-90cc-0adb9578b91b",
   "metadata": {},
   "outputs": [
    {
     "name": "stdout",
     "output_type": "stream",
     "text": [
      "Reversed words: Python World Hello\n"
     ]
    }
   ],
   "source": [
    "#2. Reverse Words in a Sentence\n",
    "\n",
    "def reverse_words(sentence):\n",
    "    words = sentence.split()\n",
    "    return \" \".join(words[::-1])\n",
    "\n",
    "print(\"Reversed words:\", reverse_words(\"Hello World Python\"))\n"
   ]
  },
  {
   "cell_type": "code",
   "execution_count": 12,
   "id": "eb930cb3-5040-4610-99dd-5ed1ac18ed3f",
   "metadata": {},
   "outputs": [
    {
     "name": "stdout",
     "output_type": "stream",
     "text": [
      "Longest Common Prefix: fl\n"
     ]
    }
   ],
   "source": [
    "#3 3. Find Longest Common Prefix\n",
    "\n",
    "def longest_common_prefix(strings):\n",
    "    if not strings:\n",
    "        return \"\"\n",
    "    prefix = strings[0]\n",
    "    for s in strings[1:]:\n",
    "        while not s.startswith(prefix):\n",
    "            prefix = prefix[:-1]\n",
    "            if not prefix:\n",
    "                return \"\"\n",
    "    return prefix\n",
    "\n",
    "print(\"Longest Common Prefix:\", longest_common_prefix([\"flower\", \"flow\", \"flight\"]))\n"
   ]
  },
  {
   "cell_type": "markdown",
   "id": "7696b074-7d0d-4a0f-bb66-1326ad9cf3d0",
   "metadata": {},
   "source": [
    "## 4. Pattern Matching"
   ]
  },
  {
   "cell_type": "code",
   "execution_count": 14,
   "id": "480a0557-9f78-4c60-bf35-3f297ec861a3",
   "metadata": {},
   "outputs": [
    {
     "name": "stdout",
     "output_type": "stream",
     "text": [
      "Occurrences of 'ab': [0, 3, 6]\n"
     ]
    }
   ],
   "source": [
    "# Find Substring Using Regular Expressions\n",
    "import re\n",
    "\n",
    "def find_substrings(pattern, text):\n",
    "    return [match.start() for match in re.finditer(pattern, text)]\n",
    "\n",
    "print(\"Occurrences of 'ab':\", find_substrings(\"ab\", \"abcabcab\"))\n",
    "\n"
   ]
  },
  {
   "cell_type": "code",
   "execution_count": 15,
   "id": "7a86b695-e91b-4d2d-b1fb-ae0fc3fcdbe7",
   "metadata": {},
   "outputs": [
    {
     "name": "stdout",
     "output_type": "stream",
     "text": [
      "Valid email? True\n"
     ]
    }
   ],
   "source": [
    "# Validate Email\n",
    "\n",
    "def is_valid_email(email):\n",
    "    pattern = r'^[a-zA-Z0-9_.+-]+@[a-zA-Z0-9-]+\\.[a-zA-Z0-9-.]+$'\n",
    "    return bool(re.match(pattern, email))\n",
    "\n",
    "print(\"Valid email?\", is_valid_email(\"example@gmail.com\"))\n"
   ]
  },
  {
   "cell_type": "markdown",
   "id": "1d0e008c-9245-4d18-a6b2-b968c6c5c1ba",
   "metadata": {},
   "source": [
    "## 5. Advanced String Problems"
   ]
  },
  {
   "cell_type": "code",
   "execution_count": 16,
   "id": "b015a6a7-5055-415b-9d4b-3cbf366f67ba",
   "metadata": {},
   "outputs": [
    {
     "name": "stdout",
     "output_type": "stream",
     "text": [
      "Grouped Anagrams: [['eat', 'tea', 'ate'], ['tan', 'nat'], ['bat']]\n"
     ]
    }
   ],
   "source": [
    "#1. Group Anagrams\n",
    "\n",
    "from collections import defaultdict\n",
    "\n",
    "def group_anagrams(words):\n",
    "    groups = defaultdict(list)\n",
    "    for word in words:\n",
    "        sorted_word = ''.join(sorted(word))\n",
    "        groups[sorted_word].append(word)\n",
    "    return list(groups.values())\n",
    "\n",
    "print(\"Grouped Anagrams:\", group_anagrams([\"eat\", \"tea\", \"tan\", \"ate\", \"nat\", \"bat\"]))\n"
   ]
  },
  {
   "cell_type": "code",
   "execution_count": 17,
   "id": "22bdf026-3fa2-4f8f-a006-816c8602607b",
   "metadata": {},
   "outputs": [
    {
     "name": "stdout",
     "output_type": "stream",
     "text": [
      "Longest Palindromic Substring: bab\n"
     ]
    }
   ],
   "source": [
    "#2. Longest Palindromic Substring\n",
    "\n",
    "def longest_palindromic_substring(s):\n",
    "    def expand_around_center(left, right):\n",
    "        while left >= 0 and right < len(s) and s[left] == s[right]:\n",
    "            left -= 1\n",
    "            right += 1\n",
    "        return s[left+1:right]\n",
    "\n",
    "    longest = \"\"\n",
    "    for i in range(len(s)):\n",
    "        odd = expand_around_center(i, i)\n",
    "        even = expand_around_center(i, i+1)\n",
    "        longest = max(longest, odd, even, key=len)\n",
    "    return longest\n",
    "\n",
    "print(\"Longest Palindromic Substring:\", longest_palindromic_substring(\"babad\"))\n"
   ]
  },
  {
   "cell_type": "code",
   "execution_count": 18,
   "id": "e7068226-b46f-4485-b085-5ac028acf557",
   "metadata": {},
   "outputs": [
    {
     "name": "stdout",
     "output_type": "stream",
     "text": [
      "Compressed String: a3b2c2a3\n"
     ]
    }
   ],
   "source": [
    "#3. String Compression\n",
    "def compress_string(s):\n",
    "    compressed = []\n",
    "    count = 1\n",
    "    for i in range(1, len(s)):\n",
    "        if s[i] == s[i-1]:\n",
    "            count += 1\n",
    "        else:\n",
    "            compressed.append(s[i-1] + str(count))\n",
    "            count = 1\n",
    "    compressed.append(s[-1] + str(count))\n",
    "    return ''.join(compressed)\n",
    "\n",
    "print(\"Compressed String:\", compress_string(\"aaabbccaaa\"))\n"
   ]
  },
  {
   "cell_type": "code",
   "execution_count": 19,
   "id": "b6058072-b644-45ac-a0e4-cd31f0af11a5",
   "metadata": {},
   "outputs": [
    {
     "name": "stdout",
     "output_type": "stream",
     "text": [
      "First Non-Repeating Character: w\n"
     ]
    }
   ],
   "source": [
    "#4. Find the First Non-Repeating Character\n",
    "\n",
    "from collections import Counter\n",
    "\n",
    "def first_non_repeating(s):\n",
    "    counts = Counter(s)\n",
    "    for char in s:\n",
    "        if counts[char] == 1:\n",
    "            return char\n",
    "    return None\n",
    "\n",
    "print(\"First Non-Repeating Character:\", first_non_repeating(\"swiss\"))\n"
   ]
  },
  {
   "cell_type": "markdown",
   "id": "8ba3316c-7ce7-40df-9714-fb1c603f358d",
   "metadata": {},
   "source": [
    "##Advanced Topics in Strings\n",
    "\n",
    "    String Formatting\n",
    "    \n",
    "    f-strings, format(), and % formatting.\n",
    "    Sliding Window Technique\n",
    "    \n",
    "    For substring problems, like finding the longest substring without repeating characters.\n",
    "    Character Frequency Analysis\n",
    "    \n",
    "    Useful for problems like rearranging strings or frequency sorting.\n",
    "    Dynamic Programming in Strings\n",
    "    \n",
    "    Solving problems like edit distance or longest common subsequence.\n",
    "    Trie (Prefix Tree)\n",
    "    \n",
    "    Efficient for prefix-based operations like autocomplete.\n",
    "    Z-Algorithm and KMP\n",
    "    \n",
    "    Pattern searching in strings."
   ]
  },
  {
   "cell_type": "markdown",
   "id": "1f7f135d-7f46-4301-9f91-6c83b11d20c7",
   "metadata": {},
   "source": [
    "## 1. String Formatting"
   ]
  },
  {
   "cell_type": "code",
   "execution_count": 20,
   "id": "672fad5d-1caa-45d1-94f5-23fe41ce90cd",
   "metadata": {},
   "outputs": [
    {
     "name": "stdout",
     "output_type": "stream",
     "text": [
      "My name is Alice and I am 25 years old.\n",
      "Hello, Alice. Welcome to Wonderland!\n",
      "The value of pi is approximately 3.14\n"
     ]
    }
   ],
   "source": [
    "#Using f-strings\n",
    "\n",
    "name = \"Alice\"\n",
    "age = 25\n",
    "print(f\"My name is {name} and I am {age} years old.\")\n",
    "\n",
    "#Using format()\n",
    "print(\"Hello, {}. Welcome to {}!\".format(\"Alice\", \"Wonderland\"))\n",
    "\n",
    "#Using % Formatting\n",
    "print(\"The value of pi is approximately %.2f\" % 3.14159)"
   ]
  },
  {
   "cell_type": "markdown",
   "id": "b06ada48-8e6f-45ae-979d-2995b0414bf6",
   "metadata": {},
   "source": [
    "## 2. Sliding Window Technique\n",
    "Longest Substring Without Repeating Characters"
   ]
  },
  {
   "cell_type": "code",
   "execution_count": 21,
   "id": "462b5e03-eac8-4082-8403-61da20a19eab",
   "metadata": {},
   "outputs": [
    {
     "name": "stdout",
     "output_type": "stream",
     "text": [
      "Length of Longest Substring: 3\n"
     ]
    }
   ],
   "source": [
    "def length_of_longest_substring(s):\n",
    "    char_set = set()\n",
    "    left = 0\n",
    "    max_length = 0\n",
    "\n",
    "    for right in range(len(s)):\n",
    "        while s[right] in char_set:\n",
    "            char_set.remove(s[left])\n",
    "            left += 1\n",
    "        char_set.add(s[right])\n",
    "        max_length = max(max_length, right - left + 1)\n",
    "\n",
    "    return max_length\n",
    "\n",
    "print(\"Length of Longest Substring:\", length_of_longest_substring(\"abcabcbb\"))\n"
   ]
  },
  {
   "cell_type": "markdown",
   "id": "7c7d80ee-1805-449d-833a-1b18772e5e1b",
   "metadata": {},
   "source": [
    "## 3. Character Frequency Analysis\n",
    "Sort Characters by Frequency"
   ]
  },
  {
   "cell_type": "code",
   "execution_count": 22,
   "id": "76d9cfb8-365e-4603-9c21-9e56175b7ac7",
   "metadata": {},
   "outputs": [
    {
     "name": "stdout",
     "output_type": "stream",
     "text": [
      "Frequency Sorted: eert\n"
     ]
    }
   ],
   "source": [
    "from collections import Counter\n",
    "\n",
    "def frequency_sort(s):\n",
    "    counts = Counter(s)\n",
    "    return ''.join(sorted(s, key=lambda x: (-counts[x], x)))\n",
    "\n",
    "print(\"Frequency Sorted:\", frequency_sort(\"tree\"))\n"
   ]
  },
  {
   "cell_type": "markdown",
   "id": "28c90de4-a92e-4c0a-8685-ef846f710ae0",
   "metadata": {},
   "source": [
    "## Rearrange String to Avoid Adjacent Repeats"
   ]
  },
  {
   "cell_type": "code",
   "execution_count": 23,
   "id": "83b32fc3-0a4a-4e2f-ac55-3e872e131e50",
   "metadata": {},
   "outputs": [
    {
     "name": "stdout",
     "output_type": "stream",
     "text": [
      "Reorganized String: ababac\n"
     ]
    }
   ],
   "source": [
    "import heapq\n",
    "from collections import Counter\n",
    "\n",
    "def reorganize_string(s):\n",
    "    counts = Counter(s)\n",
    "    max_heap = [(-freq, char) for char, freq in counts.items()]\n",
    "    heapq.heapify(max_heap)\n",
    "\n",
    "    result = []\n",
    "    prev_freq, prev_char = 0, ''\n",
    "    while max_heap:\n",
    "        freq, char = heapq.heappop(max_heap)\n",
    "        result.append(char)\n",
    "        if prev_freq < 0:\n",
    "            heapq.heappush(max_heap, (prev_freq, prev_char))\n",
    "        prev_freq, prev_char = freq + 1, char\n",
    "\n",
    "    return ''.join(result) if len(result) == len(s) else \"\"\n",
    "\n",
    "print(\"Reorganized String:\", reorganize_string(\"aaabbc\"))\n"
   ]
  },
  {
   "cell_type": "markdown",
   "id": "27e40526-4ddb-4eb2-bb3a-50097a502491",
   "metadata": {},
   "source": [
    "## 4. Dynamic Programming in Strings\n",
    "Longest Common Subsequence"
   ]
  },
  {
   "cell_type": "code",
   "execution_count": 24,
   "id": "70e2fdc9-2b63-485b-8a60-2370e0a6f102",
   "metadata": {},
   "outputs": [
    {
     "name": "stdout",
     "output_type": "stream",
     "text": [
      "Longest Common Subsequence Length: 3\n"
     ]
    }
   ],
   "source": [
    "def longest_common_subsequence(text1, text2):\n",
    "    dp = [[0] * (len(text2) + 1) for _ in range(len(text1) + 1)]\n",
    "\n",
    "    for i in range(1, len(text1) + 1):\n",
    "        for j in range(1, len(text2) + 1):\n",
    "            if text1[i-1] == text2[j-1]:\n",
    "                dp[i][j] = dp[i-1][j-1] + 1\n",
    "            else:\n",
    "                dp[i][j] = max(dp[i-1][j], dp[i][j-1])\n",
    "\n",
    "    return dp[-1][-1]\n",
    "\n",
    "print(\"Longest Common Subsequence Length:\", longest_common_subsequence(\"abcde\", \"ace\"))\n"
   ]
  },
  {
   "cell_type": "code",
   "execution_count": 26,
   "id": "7a7a3489-36e1-4ee2-80fe-44c5cb5f1adb",
   "metadata": {},
   "outputs": [
    {
     "name": "stdout",
     "output_type": "stream",
     "text": [
      "Edit Distance: 5\n"
     ]
    }
   ],
   "source": [
    "# Edit Distance\n",
    "\n",
    "def edit_distance(word1, word2):\n",
    "    dp = [[0] * (len(word2) + 1) for _ in range(len(word1) + 1)]\n",
    "\n",
    "    for i in range(len(word1) + 1):\n",
    "        for j in range(len(word2) + 1):\n",
    "            if i == 0:\n",
    "                dp[i][j] = j\n",
    "            elif j == 0:\n",
    "                dp[i][j] = i\n",
    "            elif word1[i-1] == word2[j-1]:\n",
    "                dp[i][j] = dp[i-1][j-1]\n",
    "            else:\n",
    "                dp[i][j] = 1 + min(dp[i-1][j], dp[i][j-1], dp[i-1][j-1])\n",
    "\n",
    "    return dp[-1][-1]\n",
    "\n",
    "print(\"Edit Distance:\", edit_distance(\"intention\", \"execution\"))\n"
   ]
  },
  {
   "cell_type": "markdown",
   "id": "417ed76d-8a77-41bf-9eff-c009c28ab409",
   "metadata": {},
   "source": [
    "## 5. Trie (Prefix Tree)\n",
    "Implement a Basic Trie"
   ]
  },
  {
   "cell_type": "code",
   "execution_count": 28,
   "id": "37cfc7ff-e0ce-40da-92ab-757ed39ffa41",
   "metadata": {},
   "outputs": [
    {
     "name": "stdout",
     "output_type": "stream",
     "text": [
      "Search for 'apple': True\n",
      "Search for 'app': False\n"
     ]
    }
   ],
   "source": [
    "class TrieNode:\n",
    "    def __init__(self):\n",
    "        self.children = {}\n",
    "        self.is_end_of_word = False\n",
    "\n",
    "class Trie:\n",
    "    def __init__(self):\n",
    "        self.root = TrieNode()\n",
    "\n",
    "    def insert(self, word):\n",
    "        node = self.root\n",
    "        for char in word:\n",
    "            if char not in node.children:\n",
    "                node.children[char] = TrieNode()\n",
    "            node = node.children[char]\n",
    "        node.is_end_of_word = True\n",
    "\n",
    "    def search(self, word):\n",
    "        node = self.root\n",
    "        for char in word:\n",
    "            if char not in node.children:\n",
    "                return False\n",
    "            node = node.children[char]\n",
    "        return node.is_end_of_word\n",
    "\n",
    "trie = Trie()\n",
    "trie.insert(\"apple\")\n",
    "print(\"Search for 'apple':\", trie.search(\"apple\"))\n",
    "print(\"Search for 'app':\", trie.search(\"app\"))\n"
   ]
  },
  {
   "cell_type": "markdown",
   "id": "20e9462c-39b6-4e4f-a2e9-01b1e0a8c438",
   "metadata": {},
   "source": [
    "## 6. Pattern Matching\n",
    "Knuth-Morris-Pratt (KMP) Algorithm"
   ]
  },
  {
   "cell_type": "code",
   "execution_count": 29,
   "id": "23920980-2833-4ff9-a544-0543717d6719",
   "metadata": {},
   "outputs": [
    {
     "name": "stdout",
     "output_type": "stream",
     "text": [
      "Pattern found at index: 0\n"
     ]
    }
   ],
   "source": [
    "def kmp_search(pattern, text):\n",
    "    def build_lps(pattern):\n",
    "        lps = [0] * len(pattern)\n",
    "        length = 0\n",
    "        i = 1\n",
    "        while i < len(pattern):\n",
    "            if pattern[i] == pattern[length]:\n",
    "                length += 1\n",
    "                lps[i] = length\n",
    "                i += 1\n",
    "            elif length > 0:\n",
    "                length = lps[length - 1]\n",
    "            else:\n",
    "                lps[i] = 0\n",
    "                i += 1\n",
    "        return lps\n",
    "\n",
    "    lps = build_lps(pattern)\n",
    "    i = j = 0\n",
    "    while i < len(text):\n",
    "        if pattern[j] == text[i]:\n",
    "            i += 1\n",
    "            j += 1\n",
    "        if j == len(pattern):\n",
    "            return i - j\n",
    "        elif i < len(text) and pattern[j] != text[i]:\n",
    "            j = lps[j - 1] if j > 0 else 0\n",
    "    return -1\n",
    "\n",
    "print(\"Pattern found at index:\", kmp_search(\"abc\", \"abcabcabc\"))\n"
   ]
  },
  {
   "cell_type": "markdown",
   "id": "299e41ad-60ab-4212-a604-cc41e2e3f679",
   "metadata": {},
   "source": [
    "1. Valid Palindrome\n",
    "Problem:\n",
    "Determine if a string is a valid palindrome, considering only alphanumeric characters and ignoring case.\n",
    "\n",
    "Example:\n",
    "Input: \"A man, a plan, a canal: Panama\"\n",
    "Output: True\n",
    "\n",
    "Solution:"
   ]
  },
  {
   "cell_type": "code",
   "execution_count": 30,
   "id": "2bfec819-ed84-458b-bd62-1e9a0bca68c4",
   "metadata": {},
   "outputs": [
    {
     "name": "stdout",
     "output_type": "stream",
     "text": [
      "True\n",
      "False\n"
     ]
    }
   ],
   "source": [
    "def is_palindrome(s):\n",
    "    s = ''.join(c.lower() for c in s if c.isalnum())\n",
    "    return s == s[::-1]\n",
    "\n",
    "print(is_palindrome(\"A man, a plan, a canal: Panama\"))  # Output: True\n",
    "print(is_palindrome(\"race a car\"))  # Output: False\n"
   ]
  },
  {
   "cell_type": "markdown",
   "id": "1affe693-6e56-4032-9498-94f993f26341",
   "metadata": {},
   "source": [
    "2. Group Anagrams\n",
    "Problem:\n",
    "Given a list of strings, group anagrams together.\n",
    "\n",
    "Example:\n",
    "Input: [\"eat\", \"tea\", \"tan\", \"ate\", \"nat\", \"bat\"]\n",
    "Output: [[\"eat\", \"tea\", \"ate\"], [\"tan\", \"nat\"], [\"bat\"]]\n",
    "\n",
    "Solution:\n",
    "\n",
    "python\n",
    "Copy code\n"
   ]
  },
  {
   "cell_type": "code",
   "execution_count": 31,
   "id": "8edc3048-24a0-4bd2-9bde-3ca0d88b2f7e",
   "metadata": {},
   "outputs": [
    {
     "name": "stdout",
     "output_type": "stream",
     "text": [
      "[['eat', 'tea', 'ate'], ['tan', 'nat'], ['bat']]\n"
     ]
    }
   ],
   "source": [
    "from collections import defaultdict\n",
    "\n",
    "def group_anagrams(strs):\n",
    "    anagrams = defaultdict(list)\n",
    "    for word in strs:\n",
    "        key = ''.join(sorted(word))\n",
    "        anagrams[key].append(word)\n",
    "    return list(anagrams.values())\n",
    "\n",
    "print(group_anagrams([\"eat\", \"tea\", \"tan\", \"ate\", \"nat\", \"bat\"]))\n"
   ]
  },
  {
   "cell_type": "markdown",
   "id": "c2e8a56d-3ac1-4970-adfc-764e0302e3ae",
   "metadata": {},
   "source": [
    "3. Longest Palindromic Substring\n",
    "Problem:\n",
    "Find the longest palindromic substring in a given string.\n",
    "\n",
    "Example:\n",
    "Input: \"babad\"\n",
    "Output: \"bab\" or \"aba\"\n",
    "\n",
    "Solution:"
   ]
  },
  {
   "cell_type": "code",
   "execution_count": 32,
   "id": "eaf06c5d-f2f1-4256-b548-04c441281bc6",
   "metadata": {},
   "outputs": [
    {
     "name": "stdout",
     "output_type": "stream",
     "text": [
      "bab\n"
     ]
    }
   ],
   "source": [
    "def longest_palindrome(s):\n",
    "    def expand_around_center(left, right):\n",
    "        while left >= 0 and right < len(s) and s[left] == s[right]:\n",
    "            left -= 1\n",
    "            right += 1\n",
    "        return s[left+1:right]\n",
    "\n",
    "    result = \"\"\n",
    "    for i in range(len(s)):\n",
    "        # Odd-length palindrome\n",
    "        odd = expand_around_center(i, i)\n",
    "        # Even-length palindrome\n",
    "        even = expand_around_center(i, i+1)\n",
    "        result = max(result, odd, even, key=len)\n",
    "    return result\n",
    "\n",
    "print(longest_palindrome(\"babad\"))  # Output: \"bab\" or \"aba\"\n"
   ]
  },
  {
   "cell_type": "markdown",
   "id": "f83cab0b-2ef8-4e54-8272-de35b7dbe4c8",
   "metadata": {},
   "source": [
    "4. Minimum Window Substring\n",
    "Problem:\n",
    "Find the minimum window in a string s which contains all the characters of string t.\n",
    "\n",
    "Example:\n",
    "Input: s = \"ADOBECODEBANC\", t = \"ABC\"\n",
    "Output: \"BANC\"\n",
    "\n",
    "Solution:"
   ]
  },
  {
   "cell_type": "code",
   "execution_count": 33,
   "id": "14081e2c-4fb4-413d-9565-896e5d472c5a",
   "metadata": {},
   "outputs": [
    {
     "name": "stdout",
     "output_type": "stream",
     "text": [
      "BANC\n"
     ]
    }
   ],
   "source": [
    "from collections import Counter\n",
    "\n",
    "def min_window(s, t):\n",
    "    if not t or not s:\n",
    "        return \"\"\n",
    "\n",
    "    t_count = Counter(t)\n",
    "    current_count = {}\n",
    "    left, right = 0, 0\n",
    "    formed = 0\n",
    "    required = len(t_count)\n",
    "    min_length = float('inf')\n",
    "    min_window = (0, 0)\n",
    "\n",
    "    while right < len(s):\n",
    "        char = s[right]\n",
    "        current_count[char] = current_count.get(char, 0) + 1\n",
    "\n",
    "        if char in t_count and current_count[char] == t_count[char]:\n",
    "            formed += 1\n",
    "\n",
    "        while left <= right and formed == required:\n",
    "            char = s[left]\n",
    "\n",
    "            if right - left + 1 < min_length:\n",
    "                min_length = right - left + 1\n",
    "                min_window = (left, right)\n",
    "\n",
    "            current_count[char] -= 1\n",
    "            if char in t_count and current_count[char] < t_count[char]:\n",
    "                formed -= 1\n",
    "\n",
    "            left += 1\n",
    "\n",
    "        right += 1\n",
    "\n",
    "    start, end = min_window\n",
    "    return s[start:end+1] if min_length != float('inf') else \"\"\n",
    "\n",
    "print(min_window(\"ADOBECODEBANC\", \"ABC\"))  # Output: \"BANC\"\n"
   ]
  },
  {
   "cell_type": "markdown",
   "id": "493fc4a8-f9f8-451f-92b2-fbb4fd6d5a83",
   "metadata": {},
   "source": [
    "5. Valid Parentheses\n",
    "Problem:\n",
    "Given a string containing just the characters '(', ')', '{', '}', '[', ']', determine if the input string is valid.\n",
    "\n",
    "Example:\n",
    "Input: \"()[]{}\"\n",
    "Output: True\n",
    "\n",
    "Solution:"
   ]
  },
  {
   "cell_type": "code",
   "execution_count": 34,
   "id": "a5509415-fe52-4bd9-83c9-2b3aee9dd9c9",
   "metadata": {},
   "outputs": [
    {
     "name": "stdout",
     "output_type": "stream",
     "text": [
      "True\n",
      "False\n"
     ]
    }
   ],
   "source": [
    "def is_valid(s):\n",
    "    stack = []\n",
    "    mapping = {')': '(', '}': '{', ']': '['}\n",
    "    for char in s:\n",
    "        if char in mapping:\n",
    "            top_element = stack.pop() if stack else '#'\n",
    "            if mapping[char] != top_element:\n",
    "                return False\n",
    "        else:\n",
    "            stack.append(char)\n",
    "    return not stack\n",
    "\n",
    "print(is_valid(\"()[]{}\"))  # Output: True\n",
    "print(is_valid(\"(]\"))      # Output: False\n"
   ]
  },
  {
   "cell_type": "markdown",
   "id": "2805ca86-ac7c-47e5-94d4-0d3e3ca29434",
   "metadata": {},
   "source": [
    "6. String Compression\n",
    "Problem:\n",
    "Compress a string by replacing repeated characters with the character followed by the count of repetitions.\n",
    "\n",
    "Example:\n",
    "Input: \"aaabcccccaaa\"\n",
    "Output: \"a3b1c5a3\"\n",
    "\n",
    "Solution:"
   ]
  },
  {
   "cell_type": "code",
   "execution_count": 35,
   "id": "333728c0-ff9d-4d14-94fd-cd74d2539470",
   "metadata": {},
   "outputs": [
    {
     "name": "stdout",
     "output_type": "stream",
     "text": [
      "a3b1c5a3\n"
     ]
    }
   ],
   "source": [
    "def compress_string(s):\n",
    "    if not s:\n",
    "        return \"\"\n",
    "    \n",
    "    result = []\n",
    "    count = 1\n",
    "    for i in range(1, len(s)):\n",
    "        if s[i] == s[i-1]:\n",
    "            count += 1\n",
    "        else:\n",
    "            result.append(s[i-1] + str(count))\n",
    "            count = 1\n",
    "    result.append(s[-1] + str(count))\n",
    "    return ''.join(result)\n",
    "\n",
    "print(compress_string(\"aaabcccccaaa\"))  # Output: \"a3b1c5a3\"\n"
   ]
  },
  {
   "cell_type": "markdown",
   "id": "d8de8238-fa37-4f8b-84d6-fcb821579934",
   "metadata": {},
   "source": [
    "7. Count and Say\n",
    "Problem:\n",
    "The \"Count and Say\" sequence is defined recursively. Given n, output the nth term in the sequence.\n",
    "\n",
    "Example:\n",
    "Input: n = 4\n",
    "Output: \"1211\"\n",
    "\n",
    "Solution:"
   ]
  },
  {
   "cell_type": "code",
   "execution_count": 36,
   "id": "abb7e53d-d27e-4554-a0cd-1ffe9cd78864",
   "metadata": {},
   "outputs": [
    {
     "name": "stdout",
     "output_type": "stream",
     "text": [
      "1211\n"
     ]
    }
   ],
   "source": [
    "def count_and_say(n):\n",
    "    if n == 1:\n",
    "        return \"1\"\n",
    "\n",
    "    prev = count_and_say(n - 1)\n",
    "    result = []\n",
    "    count = 1\n",
    "\n",
    "    for i in range(1, len(prev)):\n",
    "        if prev[i] == prev[i-1]:\n",
    "            count += 1\n",
    "        else:\n",
    "            result.append(str(count) + prev[i-1])\n",
    "            count = 1\n",
    "    result.append(str(count) + prev[-1])\n",
    "    return ''.join(result)\n",
    "\n",
    "print(count_and_say(4))  # Output: \"1211\"\n"
   ]
  },
  {
   "cell_type": "markdown",
   "id": "4a96c7f4-c3e1-4381-a07e-82406ea4090b",
   "metadata": {},
   "source": [
    "8. Check if Two Strings Are Isomorphic\n",
    "Problem:\n",
    "Determine if two strings are isomorphic, meaning that characters in one string can be replaced to get the second string.\n",
    "\n",
    "Example:\n",
    "Input: s = \"egg\", t = \"add\"\n",
    "Output: True\n",
    "\n",
    "Solution:"
   ]
  },
  {
   "cell_type": "code",
   "execution_count": 37,
   "id": "588a9b32-c169-4059-8548-7b659bfcb013",
   "metadata": {},
   "outputs": [
    {
     "name": "stdout",
     "output_type": "stream",
     "text": [
      "True\n",
      "False\n"
     ]
    }
   ],
   "source": [
    "def is_isomorphic(s, t):\n",
    "    mapping_s_t = {}\n",
    "    mapping_t_s = {}\n",
    "    for char_s, char_t in zip(s, t):\n",
    "        if char_s in mapping_s_t and mapping_s_t[char_s] != char_t:\n",
    "            return False\n",
    "        if char_t in mapping_t_s and mapping_t_s[char_t] != char_s:\n",
    "            return False\n",
    "        mapping_s_t[char_s] = char_t\n",
    "        mapping_t_s[char_t] = char_s\n",
    "    return True\n",
    "\n",
    "print(is_isomorphic(\"egg\", \"add\"))  # Output: True\n",
    "print(is_isomorphic(\"foo\", \"bar\"))  # Output: False\n"
   ]
  },
  {
   "cell_type": "markdown",
   "id": "7fd800d6-0e77-433d-856b-91d1d5a6f50c",
   "metadata": {},
   "source": [
    "9. Longest Substring Without Repeating Characters\n",
    "Problem:\n",
    "Find the length of the longest substring in a string without repeating characters.\n",
    "\n",
    "Example:\n",
    "Input: \"abcabcbb\"\n",
    "Output: 3 (substring is \"abc\")\n",
    "\n",
    "Solution:"
   ]
  },
  {
   "cell_type": "code",
   "execution_count": 38,
   "id": "1fb66249-f53c-49db-97d7-0156e91d15e2",
   "metadata": {},
   "outputs": [
    {
     "name": "stdout",
     "output_type": "stream",
     "text": [
      "3\n",
      "1\n"
     ]
    }
   ],
   "source": [
    "def length_of_longest_substring(s):\n",
    "    char_set = set()\n",
    "    left = 0\n",
    "    max_length = 0\n",
    "\n",
    "    for right in range(len(s)):\n",
    "        while s[right] in char_set:\n",
    "            char_set.remove(s[left])\n",
    "            left += 1\n",
    "        char_set.add(s[right])\n",
    "        max_length = max(max_length, right - left + 1)\n",
    "    \n",
    "    return max_length\n",
    "\n",
    "print(length_of_longest_substring(\"abcabcbb\"))  # Output: 3\n",
    "print(length_of_longest_substring(\"bbbbb\"))    # Output: 1\n"
   ]
  },
  {
   "cell_type": "markdown",
   "id": "5ff64fd0-ac1e-4798-9b7a-339c8b1b92a1",
   "metadata": {},
   "source": [
    "10. Find All Permutations of a String\n",
    "Problem:\n",
    "Generate all permutations of a given string.\n",
    "\n",
    "Example:\n",
    "Input: \"abc\"\n",
    "Output: [\"abc\", \"acb\", \"bac\", \"bca\", \"cab\", \"cba\"]\n",
    "\n",
    "Solution:"
   ]
  },
  {
   "cell_type": "code",
   "execution_count": 39,
   "id": "78f1073a-29b8-4897-bc5e-758b4184e81c",
   "metadata": {},
   "outputs": [
    {
     "name": "stdout",
     "output_type": "stream",
     "text": [
      "['abc', 'acb', 'bac', 'bca', 'cab', 'cba']\n"
     ]
    }
   ],
   "source": [
    "from itertools import permutations\n",
    "\n",
    "def string_permutations(s):\n",
    "    return [''.join(p) for p in permutations(s)]\n",
    "\n",
    "print(string_permutations(\"abc\"))\n"
   ]
  },
  {
   "cell_type": "markdown",
   "id": "2789de8c-3bf6-4dd5-b7c4-e480bbfe78dd",
   "metadata": {},
   "source": [
    "11. Word Break Problem\n",
    "Problem:\n",
    "Given a string and a dictionary of words, determine if the string can be segmented into space-separated words in the dictionary.\n",
    "\n",
    "Example:\n",
    "Input: s = \"leetcode\", wordDict = [\"leet\", \"code\"]\n",
    "Output: True\n",
    "\n",
    "Solution:"
   ]
  },
  {
   "cell_type": "code",
   "execution_count": 40,
   "id": "19706dd4-a765-43ad-94e2-07b8609cfbe8",
   "metadata": {},
   "outputs": [
    {
     "name": "stdout",
     "output_type": "stream",
     "text": [
      "True\n",
      "True\n"
     ]
    }
   ],
   "source": [
    "def word_break(s, wordDict):\n",
    "    dp = [False] * (len(s) + 1)\n",
    "    dp[0] = True\n",
    "\n",
    "    for i in range(1, len(s) + 1):\n",
    "        for word in wordDict:\n",
    "            if dp[i - len(word)] and s[i - len(word):i] == word:\n",
    "                dp[i] = True\n",
    "                break\n",
    "    return dp[-1]\n",
    "\n",
    "print(word_break(\"leetcode\", [\"leet\", \"code\"]))  # Output: True\n",
    "print(word_break(\"applepenapple\", [\"apple\", \"pen\"]))  # Output: True\n"
   ]
  },
  {
   "cell_type": "markdown",
   "id": "830c65fa-b44f-43d3-be79-c8d43132cdc1",
   "metadata": {},
   "source": [
    "12. Find First Non-Repeating Character\n",
    "Problem:\n",
    "Find the first non-repeating character in a string. Return its index or -1 if all characters repeat.\n",
    "\n",
    "Example:\n",
    "Input: \"leetcode\"\n",
    "Output: 0 (character is 'l')\n",
    "\n",
    "Solution:"
   ]
  },
  {
   "cell_type": "code",
   "execution_count": 41,
   "id": "b11eb312-8590-4198-a917-b4be378855a3",
   "metadata": {},
   "outputs": [
    {
     "name": "stdout",
     "output_type": "stream",
     "text": [
      "0\n",
      "-1\n"
     ]
    }
   ],
   "source": [
    "from collections import Counter\n",
    "\n",
    "def first_unique_char(s):\n",
    "    count = Counter(s)\n",
    "    for i, char in enumerate(s):\n",
    "        if count[char] == 1:\n",
    "            return i\n",
    "    return -1\n",
    "\n",
    "print(first_unique_char(\"leetcode\"))  # Output: 0\n",
    "print(first_unique_char(\"aabb\"))      # Output: -1\n"
   ]
  },
  {
   "cell_type": "markdown",
   "id": "36c52e23-a15d-4d69-92d1-44f85b0970f3",
   "metadata": {},
   "source": [
    "13. Count Substrings with Equal Ends\n",
    "Problem:\n",
    "Count all substrings of a string where the first and last characters are the same.\n",
    "\n",
    "Example:\n",
    "Input: \"abcab\"\n",
    "Output: 7 (substrings are: \"a\", \"b\", \"c\", \"a\", \"b\", \"aba\", \"bab\")\n",
    "\n",
    "Solution:"
   ]
  },
  {
   "cell_type": "code",
   "execution_count": 43,
   "id": "8b8bc6a0-5586-4312-8442-413c912e5299",
   "metadata": {},
   "outputs": [
    {
     "name": "stdout",
     "output_type": "stream",
     "text": [
      "7\n",
      "10\n"
     ]
    }
   ],
   "source": [
    "from collections import Counter\n",
    "\n",
    "def count_substrings_with_equal_ends(s):\n",
    "    count = Counter(s)\n",
    "    result = 0\n",
    "\n",
    "    for freq in count.values():\n",
    "        result += freq * (freq + 1) // 2\n",
    "    \n",
    "    return result\n",
    "\n",
    "print(count_substrings_with_equal_ends(\"abcab\"))  # Output: 7\n",
    "print(count_substrings_with_equal_ends(\"aaaa\"))   # Output: 10\n"
   ]
  },
  {
   "cell_type": "markdown",
   "id": "b2491539-36d5-4932-97a1-e86db6c63fdf",
   "metadata": {},
   "source": [
    "14. Reverse Words in a String\n",
    "Problem:\n",
    "Given a string, reverse the order of words.\n",
    "\n",
    "Example:\n",
    "Input: \" the sky is blue \"\n",
    "Output: \"blue is sky the\"\n",
    "\n",
    "Solution:"
   ]
  },
  {
   "cell_type": "code",
   "execution_count": 44,
   "id": "ff62f6fb-0403-44c7-9c29-6a4c8aef54bb",
   "metadata": {},
   "outputs": [
    {
     "name": "stdout",
     "output_type": "stream",
     "text": [
      "blue is sky the\n",
      "world hello\n"
     ]
    }
   ],
   "source": [
    "def reverse_words(s):\n",
    "    return ' '.join(reversed(s.split()))\n",
    "\n",
    "print(reverse_words(\"  the sky is blue  \"))  # Output: \"blue is sky the\"\n",
    "print(reverse_words(\"hello world\"))          # Output: \"world hello\"\n"
   ]
  },
  {
   "cell_type": "markdown",
   "id": "dd3e88fa-5bb3-4fe7-8c56-6d35b7e1481a",
   "metadata": {},
   "source": [
    "15. Check if a String is a Rotation of Another\n",
    "Problem:\n",
    "Check if one string is a rotation of another using a single substring operation.\n",
    "\n",
    "Example:\n",
    "Input: s1 = \"waterbottle\", s2 = \"erbottlewat\"\n",
    "Output: True\n",
    "\n",
    "Solution:"
   ]
  },
  {
   "cell_type": "code",
   "execution_count": 45,
   "id": "57ba5feb-699b-46df-b5c1-0025e93ce5aa",
   "metadata": {},
   "outputs": [
    {
     "name": "stdout",
     "output_type": "stream",
     "text": [
      "True\n",
      "False\n"
     ]
    }
   ],
   "source": [
    "def is_rotation(s1, s2):\n",
    "    if len(s1) != len(s2):\n",
    "        return False\n",
    "    return s2 in (s1 + s1)\n",
    "\n",
    "print(is_rotation(\"waterbottle\", \"erbottlewat\"))  # Output: True\n",
    "print(is_rotation(\"hello\", \"lloeh\"))             # Output: False\n"
   ]
  },
  {
   "cell_type": "markdown",
   "id": "7caf6f24-c720-41d2-bf07-0c2cd5aaf84b",
   "metadata": {},
   "source": [
    "16. Count and Replace Vowels\n",
    "Problem:\n",
    "Count the number of vowels in a string and replace each vowel with its uppercase form.\n",
    "\n",
    "Example:\n",
    "Input: \"hello world\"\n",
    "Output: (3, \"hEllO wOrld\")\n",
    "\n",
    "Solution:"
   ]
  },
  {
   "cell_type": "code",
   "execution_count": 47,
   "id": "8d98aa67-3960-4ab7-bd34-9cdcef6f6420",
   "metadata": {},
   "outputs": [
    {
     "name": "stdout",
     "output_type": "stream",
     "text": [
      "(3, 'hEllO wOrld')\n"
     ]
    }
   ],
   "source": [
    "def count_and_replace_vowels(s):\n",
    "    vowels = \"aeiouAEIOU\"\n",
    "    count = 0\n",
    "    result = []\n",
    "\n",
    "    for char in s:\n",
    "        if char in vowels:\n",
    "            count += 1\n",
    "            result.append(char.upper())\n",
    "        else:\n",
    "            result.append(char)\n",
    "    \n",
    "    return count, ''.join(result)\n",
    "\n",
    "print(count_and_replace_vowels(\"hello world\"))  # Output: (3, \"hEllO wOrld\")\n"
   ]
  },
  {
   "cell_type": "markdown",
   "id": "72b9ea75-e27f-4126-994c-6fe19112e1b3",
   "metadata": {},
   "source": [
    "17. Find All Occurrences of a Substring\n",
    "Problem:\n",
    "Find all start indices of a substring in a larger string.\n",
    "\n",
    "Example:\n",
    "Input: s = \"barfoofoobarthefoobarman\", sub = \"foo\"\n",
    "Output: [3, 9, 15]\n",
    "\n",
    "Solution:"
   ]
  },
  {
   "cell_type": "code",
   "execution_count": 49,
   "id": "e609115c-5363-4549-abb2-b5594dd62646",
   "metadata": {},
   "outputs": [
    {
     "name": "stdout",
     "output_type": "stream",
     "text": [
      "[3, 6, 15]\n"
     ]
    }
   ],
   "source": [
    "def find_substring_occurrences(s, sub):\n",
    "    indices = []\n",
    "    start = 0\n",
    "    while start < len(s):\n",
    "        start = s.find(sub, start)\n",
    "        if start == -1:\n",
    "            break\n",
    "        indices.append(start)\n",
    "        start += len(sub)\n",
    "    return indices\n",
    "\n",
    "print(find_substring_occurrences(\"barfoofoobarthefoobarman\", \"foo\"))  # Output: [3, 9, 15]\n"
   ]
  },
  {
   "cell_type": "markdown",
   "id": "8723b9c5-ddf9-4b50-bac1-ad98eb8a410c",
   "metadata": {},
   "source": [
    "18. Find Longest Common Prefix\n",
    "Problem:\n",
    "Find the longest common prefix among a list of strings.\n",
    "\n",
    "Example:\n",
    "Input: [\"flower\", \"flow\", \"flight\"]\n",
    "Output: \"fl\"\n",
    "\n",
    "Solution:"
   ]
  },
  {
   "cell_type": "code",
   "execution_count": 50,
   "id": "449f7dec-c376-4f5b-b164-7874cf7273ec",
   "metadata": {},
   "outputs": [
    {
     "name": "stdout",
     "output_type": "stream",
     "text": [
      "fl\n",
      "\n"
     ]
    }
   ],
   "source": [
    "def longest_common_prefix(strs):\n",
    "    if not strs:\n",
    "        return \"\"\n",
    "\n",
    "    prefix = strs[0]\n",
    "    for string in strs[1:]:\n",
    "        while string[:len(prefix)] != prefix:\n",
    "            prefix = prefix[:-1]\n",
    "            if not prefix:\n",
    "                return \"\"\n",
    "    return prefix\n",
    "\n",
    "print(longest_common_prefix([\"flower\", \"flow\", \"flight\"]))  # Output: \"fl\"\n",
    "print(longest_common_prefix([\"dog\", \"racecar\", \"car\"]))     # Output: \"\"\n"
   ]
  },
  {
   "cell_type": "markdown",
   "id": "0857207f-2c14-4633-affc-a6593eee4a1e",
   "metadata": {},
   "source": [
    "# Boolean"
   ]
  },
  {
   "cell_type": "markdown",
   "id": "de5fa84a-c4f1-4094-8913-14b566816e48",
   "metadata": {},
   "source": [
    "The Boolean data type in Python is one of the most fundamental types, representing two values: True and False. It is used extensively in conditions, loops, and logical operations.\n",
    "Let’s explore Boolean data types, their operations, use cases, and real-world applications."
   ]
  },
  {
   "cell_type": "markdown",
   "id": "37849928-9abd-4140-92a4-c4c4d7da1bec",
   "metadata": {},
   "source": [
    "1. Basic Characteristics of Boolean Data Type\n",
    "Values: True or False.\n",
    "Internally, Python treats True as 1 and False as 0.\n",
    "Booleans often arise from comparison operations or logical expressions."
   ]
  },
  {
   "cell_type": "code",
   "execution_count": 53,
   "id": "1dd331f5-d95f-4063-a032-c1a1bc351d66",
   "metadata": {},
   "outputs": [
    {
     "name": "stdout",
     "output_type": "stream",
     "text": [
      "True\n",
      "False\n",
      "2\n",
      "0\n"
     ]
    }
   ],
   "source": [
    "print(True)  # Output: True\n",
    "print(False)  # Output: False\n",
    "\n",
    "# Booleans behave like integers\n",
    "print(True + 1)  # Output: 2\n",
    "print(False * 5)  # Output: 0\n"
   ]
  },
  {
   "cell_type": "markdown",
   "id": "30bf45c0-6e5b-4967-a88b-3f400bbad864",
   "metadata": {},
   "source": [
    "2. Boolean Conversion\n",
    "Python provides the bool() function to convert other types into a Boolean.\n",
    "\n",
    "Non-zero numbers, non-empty strings, and non-empty containers are True.\n",
    "Zero, empty strings, None, and empty containers are False."
   ]
  },
  {
   "cell_type": "code",
   "execution_count": 54,
   "id": "60013f45-b365-445c-8887-10b4e33198a4",
   "metadata": {},
   "outputs": [
    {
     "name": "stdout",
     "output_type": "stream",
     "text": [
      "True\n",
      "False\n",
      "True\n",
      "False\n",
      "False\n"
     ]
    }
   ],
   "source": [
    "print(bool(1))  # Output: True\n",
    "print(bool(0))  # Output: False\n",
    "print(bool(\"Hello\"))  # Output: True\n",
    "print(bool(\"\"))  # Output: False\n",
    "print(bool([]))  # Output: False\n"
   ]
  },
  {
   "cell_type": "markdown",
   "id": "9867d8df-9f63-4bf0-83cc-ee0b0d632ad6",
   "metadata": {},
   "source": [
    "3. Logical Operators\n",
    "Logical operators are used to combine Boolean expressions.\n",
    "\n",
    "            Operator\tDescription\tExample\n",
    "            and\tLogical AND\tTrue and False → False\n",
    "            or\tLogical OR\tTrue or False → True\n",
    "            not\tLogical NOT\tnot True → False"
   ]
  },
  {
   "cell_type": "code",
   "execution_count": 55,
   "id": "d9941049-ab93-4dca-93c9-ee283cccfd27",
   "metadata": {},
   "outputs": [
    {
     "name": "stdout",
     "output_type": "stream",
     "text": [
      "False\n",
      "True\n",
      "False\n"
     ]
    }
   ],
   "source": [
    "print(True and False)  # Output: False\n",
    "print(True or False)   # Output: True\n",
    "print(not True)        # Output: False\n"
   ]
  },
  {
   "cell_type": "markdown",
   "id": "72a0571c-6e04-4bfa-8f26-be6ea9cbadb7",
   "metadata": {},
   "source": [
    "4. Comparison Operators\n",
    "Comparison operators return Boolean values.\n",
    "\n",
    "\n",
    "                Operator\tDescription\tExample\n",
    "                ==\tEqual to\t5 == 5 → True\n",
    "                !=\tNot equal to\t5 != 3 → True\n",
    "                <\tLess than\t3 < 5 → True\n",
    "                <=\tLess than or equal to\t5 <= 5 → True\n",
    "                >\tGreater than\t7 > 3 → True\n",
    "                >=\tGreater than or equal to\t8 >= 8 → True"
   ]
  },
  {
   "cell_type": "code",
   "execution_count": 56,
   "id": "c45c05c1-4f44-4bde-bd03-553953d0fa24",
   "metadata": {},
   "outputs": [
    {
     "name": "stdout",
     "output_type": "stream",
     "text": [
      "True\n",
      "True\n",
      "False\n"
     ]
    }
   ],
   "source": [
    "x = 10\n",
    "print(x == 10)  # Output: True\n",
    "print(x != 5)   # Output: True\n",
    "print(x > 15)   # Output: False\n"
   ]
  },
  {
   "cell_type": "markdown",
   "id": "b126ecf5-05cf-4286-8e97-203c1b3b07f6",
   "metadata": {},
   "source": [
    "5. Boolean in Conditional Statements\n",
    "Booleans are essential in decision-making constructs like if, elif, and else."
   ]
  },
  {
   "cell_type": "code",
   "execution_count": 57,
   "id": "fc28da55-609a-449e-828a-69480826e9f3",
   "metadata": {},
   "outputs": [
    {
     "name": "stdout",
     "output_type": "stream",
     "text": [
      "Positive number\n"
     ]
    }
   ],
   "source": [
    "x = 5\n",
    "if x > 0:\n",
    "    print(\"Positive number\")  # Output: Positive number\n",
    "else:\n",
    "    print(\"Non-positive number\")\n"
   ]
  },
  {
   "cell_type": "markdown",
   "id": "e539cd9f-f2e7-4495-b7a7-1786d2a61758",
   "metadata": {},
   "source": [
    "6. Short-Circuit Evaluation\n",
    "Logical operators in Python use short-circuit evaluation, meaning:\n",
    "\n",
    "For and, if the first value is False, the rest are not evaluated.\n",
    "For or, if the first value is True, the rest are not evaluated."
   ]
  },
  {
   "cell_type": "code",
   "execution_count": 58,
   "id": "cad50a80-a759-4639-8795-68ce17aef095",
   "metadata": {},
   "outputs": [
    {
     "name": "stdout",
     "output_type": "stream",
     "text": [
      "False\n",
      "True\n"
     ]
    }
   ],
   "source": [
    "print(False and 1 / 0)  # Output: False (1 / 0 is not evaluated)\n",
    "print(True or 1 / 0)    # Output: True (1 / 0 is not evaluated)\n"
   ]
  },
  {
   "cell_type": "markdown",
   "id": "09d0977f-3395-45de-a73e-ab195997b023",
   "metadata": {},
   "source": [
    "7. Boolean in Loops\n",
    "Boolean values control loops. They are often used with break and continue."
   ]
  },
  {
   "cell_type": "code",
   "execution_count": 60,
   "id": "15295fd3-0188-4143-bfd4-fdf4b75fc928",
   "metadata": {},
   "outputs": [
    {
     "name": "stdout",
     "output_type": "stream",
     "text": [
      "0\n",
      "1\n",
      "2\n"
     ]
    }
   ],
   "source": [
    "i = 0\n",
    "while True:\n",
    "    if i == 3:\n",
    "        break\n",
    "    print(i)  # Output: 0 1 2\n",
    "    i += 1\n"
   ]
  },
  {
   "cell_type": "markdown",
   "id": "e1607015-1570-4707-9883-99a921ee8ef3",
   "metadata": {},
   "source": [
    "## 8. Real-World Problems Using Booleans\n",
    "1. User Authentication\n",
    "Problem: Check if a user is authenticated based on username and password."
   ]
  },
  {
   "cell_type": "code",
   "execution_count": 61,
   "id": "13017990-09c4-4609-8104-b407d337f55c",
   "metadata": {},
   "outputs": [
    {
     "name": "stdout",
     "output_type": "stream",
     "text": [
      "True\n",
      "False\n"
     ]
    }
   ],
   "source": [
    "def authenticate(username, password):\n",
    "    return username == \"admin\" and password == \"1234\"\n",
    "\n",
    "print(authenticate(\"admin\", \"1234\"))  # Output: True\n",
    "print(authenticate(\"user\", \"abcd\"))  # Output: False\n"
   ]
  },
  {
   "cell_type": "markdown",
   "id": "9d683010-7c31-4ea4-a94f-096024b83aff",
   "metadata": {},
   "source": [
    "2. Validate Input\n",
    "Problem: Validate if an input is a positive integer."
   ]
  },
  {
   "cell_type": "code",
   "execution_count": 62,
   "id": "acce8b66-3788-445b-b761-9ef5103d9d0d",
   "metadata": {},
   "outputs": [
    {
     "name": "stdout",
     "output_type": "stream",
     "text": [
      "True\n",
      "False\n",
      "False\n"
     ]
    }
   ],
   "source": [
    "def is_positive_integer(num):\n",
    "    return isinstance(num, int) and num > 0\n",
    "\n",
    "print(is_positive_integer(5))   # Output: True\n",
    "print(is_positive_integer(-1))  # Output: False\n",
    "print(is_positive_integer(0))   # Output: False\n"
   ]
  },
  {
   "cell_type": "markdown",
   "id": "068a1733-de16-40ed-b2d4-c2f8e28f4821",
   "metadata": {},
   "source": [
    "3. Filter Data\n",
    "Problem: Filter a list to get only the even numbers."
   ]
  },
  {
   "cell_type": "code",
   "execution_count": 63,
   "id": "43bfc952-5f99-45e1-95c9-52c058a73a4e",
   "metadata": {},
   "outputs": [
    {
     "name": "stdout",
     "output_type": "stream",
     "text": [
      "[2, 4, 6]\n"
     ]
    }
   ],
   "source": [
    "nums = [1, 2, 3, 4, 5, 6]\n",
    "even_nums = [num for num in nums if num % 2 == 0]\n",
    "print(even_nums)  # Output: [2, 4, 6]\n"
   ]
  },
  {
   "cell_type": "markdown",
   "id": "c45a14b7-d0bd-4171-a7c4-0a3d760b0c8f",
   "metadata": {},
   "source": [
    "4. Alarm System\n",
    "Problem: Trigger an alarm if a room temperature exceeds 35°C."
   ]
  },
  {
   "cell_type": "code",
   "execution_count": 65,
   "id": "ee290cde-0c6c-48ee-95a4-32b8b91dd643",
   "metadata": {},
   "outputs": [
    {
     "name": "stdout",
     "output_type": "stream",
     "text": [
      "Alarm triggered!\n"
     ]
    }
   ],
   "source": [
    "def check_alarm(temp):\n",
    "    return temp > 35\n",
    "\n",
    "temperature = 40\n",
    "if check_alarm(temperature):\n",
    "    print(\"Alarm triggered!\")  # Output: Alarm triggered!\n"
   ]
  },
  {
   "cell_type": "markdown",
   "id": "27a6097e-8df6-408c-a000-cfe00c87a555",
   "metadata": {},
   "source": [
    "5. Decision-Making System\n",
    "Problem: Determine if a student has passed based on grades."
   ]
  },
  {
   "cell_type": "code",
   "execution_count": 66,
   "id": "b524bf18-78ab-4dbe-ae5c-4fefc165b3fb",
   "metadata": {},
   "outputs": [
    {
     "name": "stdout",
     "output_type": "stream",
     "text": [
      "True\n",
      "False\n"
     ]
    }
   ],
   "source": [
    "def has_passed(marks):\n",
    "    return marks >= 40\n",
    "\n",
    "print(has_passed(45))  # Output: True\n",
    "print(has_passed(35))  # Output: False\n"
   ]
  },
  {
   "cell_type": "markdown",
   "id": "2ab34c22-889b-435d-855f-a0822ac3fda8",
   "metadata": {},
   "source": [
    "6. Game Logic\n",
    "Problem: Check if a player has won a tic-tac-toe game."
   ]
  },
  {
   "cell_type": "code",
   "execution_count": 67,
   "id": "4c92c0c0-2859-4ee4-bbce-24d0040914fd",
   "metadata": {},
   "outputs": [
    {
     "name": "stdout",
     "output_type": "stream",
     "text": [
      "True\n"
     ]
    }
   ],
   "source": [
    "def check_winner(board):\n",
    "    # Check rows, columns, and diagonals\n",
    "    return (\n",
    "        board[0] == board[1] == board[2] or\n",
    "        board[3] == board[4] == board[5] or\n",
    "        board[6] == board[7] == board[8]\n",
    "    )\n",
    "\n",
    "tic_tac_toe_board = [\"X\", \"X\", \"X\", \"O\", \"O\", \"-\", \"-\", \"-\", \"-\"]\n",
    "print(check_winner(tic_tac_toe_board))  # Output: True\n"
   ]
  },
  {
   "cell_type": "markdown",
   "id": "b48386b1-a812-4629-ae20-53f87620f175",
   "metadata": {},
   "source": [
    "9. Boolean with Functions\n",
    "Return True or False based on conditions.\n",
    "Use to encapsulate logic in reusable ways."
   ]
  },
  {
   "cell_type": "code",
   "execution_count": 68,
   "id": "9360cb79-df59-4fd1-b0d1-3a53f97f0fd7",
   "metadata": {},
   "outputs": [
    {
     "name": "stdout",
     "output_type": "stream",
     "text": [
      "True\n",
      "False\n"
     ]
    }
   ],
   "source": [
    "def is_even(num):\n",
    "    return num % 2 == 0\n",
    "\n",
    "print(is_even(4))  # Output: True\n",
    "print(is_even(5))  # Output: False\n"
   ]
  },
  {
   "cell_type": "markdown",
   "id": "779b1f4e-5b8d-48b6-abb3-2f42af8bf7ee",
   "metadata": {},
   "source": [
    "## Advanced Use Cases of Boolean Data Types\n",
    "7. Advanced Filtering in Datasets\n",
    "Boolean values are crucial in filtering data in libraries like pandas."
   ]
  },
  {
   "cell_type": "code",
   "execution_count": 69,
   "id": "3cc8ddb7-e552-494a-addb-53868e25d806",
   "metadata": {},
   "outputs": [
    {
     "name": "stdout",
     "output_type": "stream",
     "text": [
      "    Name  Age  Score\n",
      "0  Alice   25     85\n"
     ]
    }
   ],
   "source": [
    "import pandas as pd\n",
    "\n",
    "# Create a sample DataFrame\n",
    "data = {\n",
    "    \"Name\": [\"Alice\", \"Bob\", \"Charlie\", \"David\"],\n",
    "    \"Age\": [25, 17, 30, 16],\n",
    "    \"Score\": [85, 90, 75, 88]\n",
    "}\n",
    "\n",
    "df = pd.DataFrame(data)\n",
    "\n",
    "# Filter rows where age is above 18 and score is above 80\n",
    "filtered_df = df[(df[\"Age\"] > 18) & (df[\"Score\"] > 80)]\n",
    "print(filtered_df)\n",
    "\n",
    "# Output:\n",
    "#     Name  Age  Score\n",
    "# 0  Alice   25     85\n"
   ]
  },
  {
   "cell_type": "markdown",
   "id": "a72a9a30-7491-46cf-a616-b89ef64f92a9",
   "metadata": {},
   "source": [
    "## 8. Simulating Circuit Logic\n",
    "Boolean data types can simulate circuit logic gates (AND, OR, NOT)."
   ]
  },
  {
   "cell_type": "code",
   "execution_count": 70,
   "id": "21e962ae-bbf8-4eaa-8b0d-5b3bc26bb021",
   "metadata": {},
   "outputs": [
    {
     "name": "stdout",
     "output_type": "stream",
     "text": [
      "AND: False\n",
      "OR: True\n",
      "NOT: False\n"
     ]
    }
   ],
   "source": [
    "def AND_gate(a, b):\n",
    "    return a and b\n",
    "\n",
    "def OR_gate(a, b):\n",
    "    return a or b\n",
    "\n",
    "def NOT_gate(a):\n",
    "    return not a\n",
    "\n",
    "# Simulate\n",
    "print(\"AND:\", AND_gate(True, False))  # Output: False\n",
    "print(\"OR:\", OR_gate(True, False))    # Output: True\n",
    "print(\"NOT:\", NOT_gate(True))         # Output: False\n"
   ]
  },
  {
   "cell_type": "markdown",
   "id": "217953a8-9298-4a55-97f1-42568e71df15",
   "metadata": {},
   "source": [
    "9. Validating Password Strength\n",
    "Problem: Ensure a password contains at least one uppercase letter, one lowercase letter, one digit, and one special character."
   ]
  },
  {
   "cell_type": "code",
   "execution_count": 71,
   "id": "417c06eb-00aa-467e-8253-16fbf003b6b4",
   "metadata": {},
   "outputs": [
    {
     "name": "stdout",
     "output_type": "stream",
     "text": [
      "True\n",
      "False\n"
     ]
    }
   ],
   "source": [
    "import re\n",
    "\n",
    "def is_strong_password(password):\n",
    "    has_upper = any(char.isupper() for char in password)\n",
    "    has_lower = any(char.islower() for char in password)\n",
    "    has_digit = any(char.isdigit() for char in password)\n",
    "    has_special = any(char in \"!@#$%^&*()-_+=\" for char in password)\n",
    "    return has_upper and has_lower and has_digit and has_special\n",
    "\n",
    "# Test\n",
    "print(is_strong_password(\"P@ssw0rd\"))  # Output: True\n",
    "print(is_strong_password(\"password\"))  # Output: False\n"
   ]
  },
  {
   "cell_type": "markdown",
   "id": "9d1afcdd-3a53-4998-b422-435d664a20a9",
   "metadata": {},
   "source": [
    "10. Conditional Execution with Boolean Flags\n",
    "Problem: Use Boolean flags to control execution in multi-stage processes."
   ]
  },
  {
   "cell_type": "code",
   "execution_count": 72,
   "id": "4a3f5122-753e-43c6-afb2-78fc65575d38",
   "metadata": {},
   "outputs": [
    {
     "name": "stdout",
     "output_type": "stream",
     "text": [
      "Out of stock\n"
     ]
    }
   ],
   "source": [
    "def process_order(order_confirmed, payment_received, stock_available):\n",
    "    if order_confirmed and payment_received and stock_available:\n",
    "        return \"Order Processed\"\n",
    "    elif not order_confirmed:\n",
    "        return \"Order not confirmed\"\n",
    "    elif not payment_received:\n",
    "        return \"Payment not received\"\n",
    "    elif not stock_available:\n",
    "        return \"Out of stock\"\n",
    "\n",
    "# Example\n",
    "print(process_order(True, True, False))  # Output: Out of stock\n"
   ]
  },
  {
   "cell_type": "markdown",
   "id": "c22e949b-f091-4fee-b95a-0b7b755428bd",
   "metadata": {},
   "source": [
    "11. Monitoring IoT Sensors\n",
    "Problem: Check sensor values to determine whether an alarm should be triggered."
   ]
  },
  {
   "cell_type": "code",
   "execution_count": 74,
   "id": "69f5e226-87bd-4b08-becb-94d0168d42b6",
   "metadata": {},
   "outputs": [
    {
     "name": "stdout",
     "output_type": "stream",
     "text": [
      "Trigger Alarm\n"
     ]
    }
   ],
   "source": [
    "def check_sensors(temp, smoke, motion):\n",
    "    temp_alarm = temp > 50\n",
    "    smoke_alarm = smoke > 75\n",
    "    motion_alarm = motion > 30\n",
    "\n",
    "    if temp_alarm or smoke_alarm or motion_alarm:\n",
    "        return \"Trigger Alarm\"\n",
    "    return \"All Normal\"\n",
    "\n",
    "print(check_sensors(60, 40, 20))  # Output: Trigger Alarm\n"
   ]
  },
  {
   "cell_type": "markdown",
   "id": "a1b489c8-ff31-4054-8cc4-6d8160124ba7",
   "metadata": {},
   "source": [
    "12. Optimized Pathfinding (Dynamic Programming)\n",
    "Boolean states can optimize decision-making in pathfinding algorithms like maze-solving."
   ]
  },
  {
   "cell_type": "code",
   "execution_count": 75,
   "id": "47ec58fb-c456-4379-a096-498e3a2a7f12",
   "metadata": {},
   "outputs": [
    {
     "name": "stdout",
     "output_type": "stream",
     "text": [
      "True\n"
     ]
    }
   ],
   "source": [
    "def is_path_exists(maze, row, col, visited):\n",
    "    # Base case: Out of bounds or wall\n",
    "    if row < 0 or col < 0 or row >= len(maze) or col >= len(maze[0]) or maze[row][col] == 0 or visited[row][col]:\n",
    "        return False\n",
    "\n",
    "    # Target reached\n",
    "    if maze[row][col] == 9:\n",
    "        return True\n",
    "\n",
    "    # Mark as visited\n",
    "    visited[row][col] = True\n",
    "\n",
    "    # Check all directions\n",
    "    return (\n",
    "        is_path_exists(maze, row + 1, col, visited) or\n",
    "        is_path_exists(maze, row - 1, col, visited) or\n",
    "        is_path_exists(maze, row, col + 1, visited) or\n",
    "        is_path_exists(maze, row, col - 1, visited)\n",
    "    )\n",
    "\n",
    "# Maze: 1=Path, 0=Wall, 9=Target\n",
    "maze = [\n",
    "    [1, 1, 0, 0],\n",
    "    [0, 1, 1, 0],\n",
    "    [0, 0, 1, 9],\n",
    "    [0, 0, 0, 0]\n",
    "]\n",
    "\n",
    "visited = [[False for _ in range(len(maze[0]))] for _ in range(len(maze))]\n",
    "print(is_path_exists(maze, 0, 0, visited))  # Output: True\n"
   ]
  },
  {
   "cell_type": "markdown",
   "id": "4c96f480-fbbb-4c9f-a4d9-fe60c366fa83",
   "metadata": {},
   "source": [
    "13. Handling Multiple Conditions in Form Validation\n",
    "Problem: Validate multiple fields in a user registration form."
   ]
  },
  {
   "cell_type": "code",
   "execution_count": 76,
   "id": "53b992d5-d252-4af9-96e8-d70c2b8281df",
   "metadata": {},
   "outputs": [
    {
     "name": "stdout",
     "output_type": "stream",
     "text": [
      "True\n",
      "False\n"
     ]
    }
   ],
   "source": [
    "def validate_form(username, email, password):\n",
    "    is_username_valid = len(username) > 3\n",
    "    is_email_valid = \"@\" in email and \".\" in email\n",
    "    is_password_valid = len(password) >= 8\n",
    "    return is_username_valid and is_email_valid and is_password_valid\n",
    "\n",
    "print(validate_form(\"user123\", \"user@example.com\", \"pass1234\"))  # Output: True\n",
    "print(validate_form(\"u\", \"invalidemail\", \"pass\"))              # Output: False\n"
   ]
  },
  {
   "cell_type": "markdown",
   "id": "f5c8a079-062f-4cfe-8a08-a6a049e7f068",
   "metadata": {},
   "source": [
    "14. Boolean in Game Logic\n",
    "Problem: Check winning conditions in a Connect Four game."
   ]
  },
  {
   "cell_type": "code",
   "execution_count": 77,
   "id": "42bfe842-ff70-4ae1-9ca8-35dac51642d5",
   "metadata": {},
   "outputs": [
    {
     "name": "stdout",
     "output_type": "stream",
     "text": [
      "True\n"
     ]
    }
   ],
   "source": [
    "def check_winner(board, player):\n",
    "    # Check rows\n",
    "    for row in board:\n",
    "        if row.count(player) == 4:\n",
    "            return True\n",
    "\n",
    "    # Check columns\n",
    "    for col in range(len(board[0])):\n",
    "        if all(board[row][col] == player for row in range(len(board))):\n",
    "            return True\n",
    "\n",
    "    # Check diagonals (simplified for demonstration)\n",
    "    return False\n",
    "\n",
    "board = [\n",
    "    [\"X\", \"O\", \"X\", \"X\"],\n",
    "    [\"O\", \"X\", \"O\", \"X\"],\n",
    "    [\"X\", \"X\", \"X\", \"X\"],\n",
    "    [\"O\", \"O\", \"X\", \"O\"]\n",
    "]\n",
    "\n",
    "print(check_winner(board, \"X\"))  # Output: True\n"
   ]
  },
  {
   "cell_type": "markdown",
   "id": "c67b64e0-fc10-4e84-8c4f-85012a4375a8",
   "metadata": {},
   "source": [
    "15. Boolean for Caching Computations\n",
    "Problem: Use Boolean flags to optimize expensive computations."
   ]
  },
  {
   "cell_type": "code",
   "execution_count": 79,
   "id": "afd0a79b-bac1-4277-b142-af13062537ec",
   "metadata": {},
   "outputs": [
    {
     "name": "stdout",
     "output_type": "stream",
     "text": [
      "120\n",
      "120\n"
     ]
    }
   ],
   "source": [
    "cached_results = {}\n",
    "\n",
    "def compute_factorial(n):\n",
    "    if n in cached_results:\n",
    "        return cached_results[n]\n",
    "\n",
    "    result = 1\n",
    "    for i in range(1, n + 1):\n",
    "        result *= i\n",
    "\n",
    "    cached_results[n] = result\n",
    "    return result\n",
    "\n",
    "print(compute_factorial(5))  # Output: 120\n",
    "print(compute_factorial(5))  # Cached output: 120\n"
   ]
  },
  {
   "cell_type": "code",
   "execution_count": null,
   "id": "5a205d48-8ec3-415e-a7a8-f6f4ffc9a635",
   "metadata": {},
   "outputs": [],
   "source": []
  }
 ],
 "metadata": {
  "kernelspec": {
   "display_name": "Python 3 (ipykernel)",
   "language": "python",
   "name": "python3"
  },
  "language_info": {
   "codemirror_mode": {
    "name": "ipython",
    "version": 3
   },
   "file_extension": ".py",
   "mimetype": "text/x-python",
   "name": "python",
   "nbconvert_exporter": "python",
   "pygments_lexer": "ipython3",
   "version": "3.12.1"
  }
 },
 "nbformat": 4,
 "nbformat_minor": 5
}

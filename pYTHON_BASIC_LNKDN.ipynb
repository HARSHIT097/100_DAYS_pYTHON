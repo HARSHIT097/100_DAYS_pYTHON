{
  "nbformat": 4,
  "nbformat_minor": 0,
  "metadata": {
    "colab": {
      "name": "pYTHON_BASIC_LNKDN.ipynb",
      "provenance": [],
      "authorship_tag": "ABX9TyNPRqh7/UCoOWrRXF4mLPUE",
      "include_colab_link": true
    },
    "kernelspec": {
      "name": "python3",
      "display_name": "Python 3"
    },
    "language_info": {
      "name": "python"
    }
  },
  "cells": [
    {
      "cell_type": "markdown",
      "metadata": {
        "id": "view-in-github",
        "colab_type": "text"
      },
      "source": [
        "<a href=\"https://colab.research.google.com/github/HARSHIT097/100_DAYS_pYTHON/blob/main/pYTHON_BASIC_LNKDN.ipynb\" target=\"_parent\"><img src=\"https://colab.research.google.com/assets/colab-badge.svg\" alt=\"Open In Colab\"/></a>"
      ]
    },
    {
      "cell_type": "markdown",
      "metadata": {
        "id": "p8PypiH0KdCB"
      },
      "source": [
        "A tuple is an \n",
        "\n",
        "-- immutable Python list with heterogeneous elements.\n",
        "\n",
        " Although this is different than a traditional\n",
        "Python list, we can use many of the same built-in Python functions"
      ]
    },
    {
      "cell_type": "code",
      "metadata": {
        "colab": {
          "base_uri": "https://localhost:8080/"
        },
        "id": "fcWoVIMxH8LY",
        "outputId": "9cd4743b-6312-4e68-f427-2d0936d26ab6"
      },
      "source": [
        "#INPUT\n",
        "N = 3\n",
        "my_tuple = (2, 'my_string', 4, 3, 3, 3, 2, 3)\n",
        "#OUTPUT == 4\n",
        "\n",
        "#cOUNTING UNIQUE ELEMENTS OF TUPLE\n",
        "set1 = set(my_tuple)\n",
        "print(set1)\n",
        "print(len(set1))"
      ],
      "execution_count": 2,
      "outputs": [
        {
          "output_type": "stream",
          "text": [
            "{3, 2, 'my_string', 4}\n",
            "4\n"
          ],
          "name": "stdout"
        }
      ]
    },
    {
      "cell_type": "code",
      "metadata": {
        "colab": {
          "base_uri": "https://localhost:8080/"
        },
        "id": "qHf-QKHzJkab",
        "outputId": "632ac50b-ac89-4756-f59f-455acd1bcc79"
      },
      "source": [
        "my_tuple.count(N)"
      ],
      "execution_count": 3,
      "outputs": [
        {
          "output_type": "execute_result",
          "data": {
            "text/plain": [
              "4"
            ]
          },
          "metadata": {
            "tags": []
          },
          "execution_count": 3
        }
      ]
    },
    {
      "cell_type": "markdown",
      "metadata": {
        "id": "MhGTpH86Ltxn"
      },
      "source": [
        "Count the no. of capital letters in text"
      ]
    },
    {
      "cell_type": "code",
      "metadata": {
        "colab": {
          "base_uri": "https://localhost:8080/"
        },
        "id": "zhkFwzr8KDAp",
        "outputId": "e43f0bed-7242-4b12-f755-c81cb364b6d9"
      },
      "source": [
        "Txt = \"\"\"A tuple is an immutable Python list with heterogeneous elements. Although this is different than a traditional\n",
        "Python list, we can use many of the same built-in Python functions\"\"\"\n",
        "\n",
        "count =0 \n",
        "for char in Txt:\n",
        "  if char.isupper():\n",
        "    print(char)\n",
        "    count+=1\n",
        "\n",
        "print(count)"
      ],
      "execution_count": 6,
      "outputs": [
        {
          "output_type": "stream",
          "text": [
            "A\n",
            "P\n",
            "A\n",
            "P\n",
            "P\n",
            "5\n"
          ],
          "name": "stdout"
        }
      ]
    },
    {
      "cell_type": "code",
      "metadata": {
        "colab": {
          "base_uri": "https://localhost:8080/"
        },
        "id": "aac0U7aWLNoU",
        "outputId": "1c129bd7-3cab-466e-f3a9-48d7ba8bdde9"
      },
      "source": [
        "count = sum(1 if character.isupper() else 0 for character in Txt)\n",
        "count"
      ],
      "execution_count": 8,
      "outputs": [
        {
          "output_type": "execute_result",
          "data": {
            "text/plain": [
              "5"
            ]
          },
          "metadata": {
            "tags": []
          },
          "execution_count": 8
        }
      ]
    },
    {
      "cell_type": "code",
      "metadata": {
        "colab": {
          "base_uri": "https://localhost:8080/"
        },
        "id": "-VbHyKMpLphR",
        "outputId": "adb5bf6d-aeae-4feb-d4f0-e902c84ab562"
      },
      "source": [
        "def version2_SellProfit(n):\n",
        "  if len(n) <= 1:\n",
        "    return 0;\n",
        "\n",
        "  #dividing the array in to two parts\n",
        "  left  = n[ : len(n) // 2]\n",
        "  right = n[len(n) // 2 : ]\n",
        "  \n",
        "  leftMax  = version2_SellProfit(left)\n",
        "  rightMax = version2_SellProfit(right)\n",
        "  \n",
        "  crossMax = max(right) - min(left)\n",
        "  \n",
        "  return max(leftMax, rightMax, crossMax)\n",
        "\n",
        "#driver code\n",
        "n = [2, 7, 1, 8, 2, 8, 14, 25, 14, 0, 4, 5]\n",
        "version2_SellProfit(n)\n",
        "\n",
        "##Alternatively\n",
        "def version1_SellProfit(n):\n",
        "    max_profit = 0;\n",
        "    for i in range(0, len(n)):\n",
        "         for j in range (i + 1, len(n)):\n",
        "            max_profit = max(max_profit, n[j] - n[i])\n",
        "    return max_profit\n",
        "\n",
        "#driver code\n",
        "n = [2, 7, 1, 8, 2, 8, 14, 25, 14, 0, 4, 5]\n",
        "version1_SellProfit(n)"
      ],
      "execution_count": 10,
      "outputs": [
        {
          "output_type": "execute_result",
          "data": {
            "text/plain": [
              "24"
            ]
          },
          "metadata": {
            "tags": []
          },
          "execution_count": 10
        }
      ]
    },
    {
      "cell_type": "markdown",
      "metadata": {
        "id": "wps6UcnAVatJ"
      },
      "source": [
        "You are given the following dataframe and are asked to cateogrize each food into 1 of 3 categories: meat, fruit, or other.\n",
        "\n",
        "Can you add a new column containing the foods' categories to this dataframe using python?"
      ]
    },
    {
      "cell_type": "code",
      "metadata": {
        "colab": {
          "base_uri": "https://localhost:8080/",
          "height": 297
        },
        "id": "Yv6gwfonNBEL",
        "outputId": "ebeb784c-c09c-489a-fae6-15e13ed6e8d0"
      },
      "source": [
        "#code to generate example dataframe\n",
        "import pandas as pd\n",
        "raw_data = {'food': ['bacon', 'STRAWBERRIES', 'Bacon', 'STRAWBERRIES', 'BACON', 'strawberries', 'Strawberries', 'pecans'], \n",
        "            'pounds': [4, 3.5, 7, 3, 6, 8, 1, 3]}\n",
        "data = pd.DataFrame(raw_data, columns = ['food', 'pounds'])\n",
        "data"
      ],
      "execution_count": 11,
      "outputs": [
        {
          "output_type": "execute_result",
          "data": {
            "text/html": [
              "<div>\n",
              "<style scoped>\n",
              "    .dataframe tbody tr th:only-of-type {\n",
              "        vertical-align: middle;\n",
              "    }\n",
              "\n",
              "    .dataframe tbody tr th {\n",
              "        vertical-align: top;\n",
              "    }\n",
              "\n",
              "    .dataframe thead th {\n",
              "        text-align: right;\n",
              "    }\n",
              "</style>\n",
              "<table border=\"1\" class=\"dataframe\">\n",
              "  <thead>\n",
              "    <tr style=\"text-align: right;\">\n",
              "      <th></th>\n",
              "      <th>food</th>\n",
              "      <th>pounds</th>\n",
              "    </tr>\n",
              "  </thead>\n",
              "  <tbody>\n",
              "    <tr>\n",
              "      <th>0</th>\n",
              "      <td>bacon</td>\n",
              "      <td>4.0</td>\n",
              "    </tr>\n",
              "    <tr>\n",
              "      <th>1</th>\n",
              "      <td>STRAWBERRIES</td>\n",
              "      <td>3.5</td>\n",
              "    </tr>\n",
              "    <tr>\n",
              "      <th>2</th>\n",
              "      <td>Bacon</td>\n",
              "      <td>7.0</td>\n",
              "    </tr>\n",
              "    <tr>\n",
              "      <th>3</th>\n",
              "      <td>STRAWBERRIES</td>\n",
              "      <td>3.0</td>\n",
              "    </tr>\n",
              "    <tr>\n",
              "      <th>4</th>\n",
              "      <td>BACON</td>\n",
              "      <td>6.0</td>\n",
              "    </tr>\n",
              "    <tr>\n",
              "      <th>5</th>\n",
              "      <td>strawberries</td>\n",
              "      <td>8.0</td>\n",
              "    </tr>\n",
              "    <tr>\n",
              "      <th>6</th>\n",
              "      <td>Strawberries</td>\n",
              "      <td>1.0</td>\n",
              "    </tr>\n",
              "    <tr>\n",
              "      <th>7</th>\n",
              "      <td>pecans</td>\n",
              "      <td>3.0</td>\n",
              "    </tr>\n",
              "  </tbody>\n",
              "</table>\n",
              "</div>"
            ],
            "text/plain": [
              "           food  pounds\n",
              "0         bacon     4.0\n",
              "1  STRAWBERRIES     3.5\n",
              "2         Bacon     7.0\n",
              "3  STRAWBERRIES     3.0\n",
              "4         BACON     6.0\n",
              "5  strawberries     8.0\n",
              "6  Strawberries     1.0\n",
              "7        pecans     3.0"
            ]
          },
          "metadata": {
            "tags": []
          },
          "execution_count": 11
        }
      ]
    },
    {
      "cell_type": "code",
      "metadata": {
        "id": "CGNaGm_mVpw5"
      },
      "source": [
        "lower = lambda x: x.lower()\n",
        "data['food'] = data['food'].apply(lower)\n",
        "\n",
        "def food_category(series):\n",
        "    if series['food'] == 'bacon':\n",
        "        return 'meat'\n",
        "    elif series['food'] == 'strawberries':\n",
        "        return 'fruit'\n",
        "    elif series['food'] == 'turkey':\n",
        "         return 'meat'\n",
        "    else:\n",
        "         return 'other'\n",
        "\n",
        "         "
      ],
      "execution_count": 12,
      "outputs": []
    },
    {
      "cell_type": "code",
      "metadata": {
        "colab": {
          "base_uri": "https://localhost:8080/",
          "height": 297
        },
        "id": "3FJgGI2kVy2O",
        "outputId": "cf5c723c-2755-4575-b974-6f746e02e3ae"
      },
      "source": [
        "data['category'] = data.apply(food_category, axis='columns')\n",
        "data"
      ],
      "execution_count": 13,
      "outputs": [
        {
          "output_type": "execute_result",
          "data": {
            "text/html": [
              "<div>\n",
              "<style scoped>\n",
              "    .dataframe tbody tr th:only-of-type {\n",
              "        vertical-align: middle;\n",
              "    }\n",
              "\n",
              "    .dataframe tbody tr th {\n",
              "        vertical-align: top;\n",
              "    }\n",
              "\n",
              "    .dataframe thead th {\n",
              "        text-align: right;\n",
              "    }\n",
              "</style>\n",
              "<table border=\"1\" class=\"dataframe\">\n",
              "  <thead>\n",
              "    <tr style=\"text-align: right;\">\n",
              "      <th></th>\n",
              "      <th>food</th>\n",
              "      <th>pounds</th>\n",
              "      <th>category</th>\n",
              "    </tr>\n",
              "  </thead>\n",
              "  <tbody>\n",
              "    <tr>\n",
              "      <th>0</th>\n",
              "      <td>bacon</td>\n",
              "      <td>4.0</td>\n",
              "      <td>meat</td>\n",
              "    </tr>\n",
              "    <tr>\n",
              "      <th>1</th>\n",
              "      <td>strawberries</td>\n",
              "      <td>3.5</td>\n",
              "      <td>fruit</td>\n",
              "    </tr>\n",
              "    <tr>\n",
              "      <th>2</th>\n",
              "      <td>bacon</td>\n",
              "      <td>7.0</td>\n",
              "      <td>meat</td>\n",
              "    </tr>\n",
              "    <tr>\n",
              "      <th>3</th>\n",
              "      <td>strawberries</td>\n",
              "      <td>3.0</td>\n",
              "      <td>fruit</td>\n",
              "    </tr>\n",
              "    <tr>\n",
              "      <th>4</th>\n",
              "      <td>bacon</td>\n",
              "      <td>6.0</td>\n",
              "      <td>meat</td>\n",
              "    </tr>\n",
              "    <tr>\n",
              "      <th>5</th>\n",
              "      <td>strawberries</td>\n",
              "      <td>8.0</td>\n",
              "      <td>fruit</td>\n",
              "    </tr>\n",
              "    <tr>\n",
              "      <th>6</th>\n",
              "      <td>strawberries</td>\n",
              "      <td>1.0</td>\n",
              "      <td>fruit</td>\n",
              "    </tr>\n",
              "    <tr>\n",
              "      <th>7</th>\n",
              "      <td>pecans</td>\n",
              "      <td>3.0</td>\n",
              "      <td>other</td>\n",
              "    </tr>\n",
              "  </tbody>\n",
              "</table>\n",
              "</div>"
            ],
            "text/plain": [
              "           food  pounds category\n",
              "0         bacon     4.0     meat\n",
              "1  strawberries     3.5    fruit\n",
              "2         bacon     7.0     meat\n",
              "3  strawberries     3.0    fruit\n",
              "4         bacon     6.0     meat\n",
              "5  strawberries     8.0    fruit\n",
              "6  strawberries     1.0    fruit\n",
              "7        pecans     3.0    other"
            ]
          },
          "metadata": {
            "tags": []
          },
          "execution_count": 13
        }
      ]
    },
    {
      "cell_type": "markdown",
      "metadata": {
        "id": "H3ywsNErWDg-"
      },
      "source": [
        "Longest Palindrome"
      ]
    },
    {
      "cell_type": "markdown",
      "metadata": {
        "id": "y8WyR5A5WXlm"
      },
      "source": [
        "We're going to go through the code below step-by-step. Note that within the for loop there are 2 while loops with similar logic that we'll evaluate in parallel.\n",
        "\n",
        "Line 1: Define the function longestPalindrome that takes in a string.\n",
        "Lines 2-8: Declare variables to keep track of where we are while parsing through the input. maxLength will keep track of our longest palindrome found, and start will keep track of which index of the string the palindrome starts.\n",
        "Line 10: Declare a loop that will start a 1 and iterate through the length of the string.\n",
        "Lines 11-18/Lines 20-27: Even/odd length palindrome check, respectively.\n",
        "Lines 11-12/Lines 20-21: We're going to set 2 value, high and low, which will represent the center of our palindrome if we find it to be an even length.\n",
        "Line 13/Line 22: While the low and high are within the boundaries of the string, and if the value of the string at the low character equals the value of the string at the high character, we're going to continue to evaluate the potential palindrome.\n",
        "Lines 14-16/Lines 23-25: If the current palindrome string length is greater than the current length of the palindrome, we're going to reset the start of our palindrome to be the low index, and the maxLength to represent the new max length.\n",
        "Lines 17-18/Lines 26-27: We'll reduce the low by 1 and increase the high by one, and if the condition in line 13 is still valid, we'll expand our palindrome to the next set of 2 characters.\n",
        "Line 29: Once all of the characters within the string have been evaluated, we are going to return the string's portion between the start and the end of the palindrome."
      ]
    },
    {
      "cell_type": "code",
      "metadata": {
        "colab": {
          "base_uri": "https://localhost:8080/",
          "height": 35
        },
        "id": "Djf1WBsvVzh_",
        "outputId": "647f4a8d-93a7-4a08-9c32-60e1596224cd"
      },
      "source": [
        "def longestPalindrome(string):\n",
        "  maxLength = 1\n",
        "\n",
        "  start = 0\n",
        "  length = len(string)\n",
        "\n",
        "  low = 0\n",
        "  high = 0\n",
        "    \n",
        "  for i in range(1, length):\n",
        "      low = i - 1\n",
        "      high = i\n",
        "      while low >= 0 and high < length and string[low] == string[high]:\n",
        "          if high - low + 1 > maxLength:\n",
        "              start = low\n",
        "              maxLength = high - low + 1\n",
        "          low -= 1\n",
        "          high += 1\n",
        "\n",
        "      low = i - 1\n",
        "      high = i + 1\n",
        "      while low >= 0 and high < length and string[low] == string[high]:\n",
        "          if high - low + 1 > maxLength:\n",
        "              start = low\n",
        "              maxLength = high - low + 1\n",
        "          low -= 1\n",
        "          high += 1\n",
        " \n",
        "  return string[start:start + maxLength]\n",
        "\n",
        "#driver code\n",
        "string = 'racecar'\n",
        "longestPalindrome(string)"
      ],
      "execution_count": 14,
      "outputs": [
        {
          "output_type": "execute_result",
          "data": {
            "application/vnd.google.colaboratory.intrinsic+json": {
              "type": "string"
            },
            "text/plain": [
              "'racecar'"
            ]
          },
          "metadata": {
            "tags": []
          },
          "execution_count": 14
        }
      ]
    },
    {
      "cell_type": "markdown",
      "metadata": {
        "id": "8kpXcn26Wgm0"
      },
      "source": [
        "You are given a data set of Chipotle orders. You're asked to figure out the average order price and the average price per item ordered. Can you describe how you would do this using Python Pandas?"
      ]
    },
    {
      "cell_type": "code",
      "metadata": {
        "id": "Rab2EwjAWHKO"
      },
      "source": [
        "#Importing packages.\n",
        "import pandas as pd\n",
        "import matplotlib.pyplot as plt\n",
        "import numpy as np\n",
        "\n",
        "%matplotlib inline\n",
        "\n",
        "# get the data from the url and put it into a dataframe\n",
        "url = 'https://raw.githubusercontent.com/justmarkham/DAT8/master/data/chipotle.tsv'\n",
        "chipotle_orders = pd.read_csv(url, sep = '\\t')"
      ],
      "execution_count": 15,
      "outputs": []
    },
    {
      "cell_type": "code",
      "metadata": {
        "colab": {
          "base_uri": "https://localhost:8080/",
          "height": 204
        },
        "id": "J9BIVMUEWmNA",
        "outputId": "ca0713a1-96b8-4d24-cc88-1890efeb3d46"
      },
      "source": [
        "# clean the item_price column and transform it in a float and reassign the column with the cleaned prices\n",
        "chipotle_orders.item_price = [float(value[1 : -1]) for value in chipotle_orders.item_price]\n",
        "chipotle_orders.head()"
      ],
      "execution_count": 16,
      "outputs": [
        {
          "output_type": "execute_result",
          "data": {
            "text/html": [
              "<div>\n",
              "<style scoped>\n",
              "    .dataframe tbody tr th:only-of-type {\n",
              "        vertical-align: middle;\n",
              "    }\n",
              "\n",
              "    .dataframe tbody tr th {\n",
              "        vertical-align: top;\n",
              "    }\n",
              "\n",
              "    .dataframe thead th {\n",
              "        text-align: right;\n",
              "    }\n",
              "</style>\n",
              "<table border=\"1\" class=\"dataframe\">\n",
              "  <thead>\n",
              "    <tr style=\"text-align: right;\">\n",
              "      <th></th>\n",
              "      <th>order_id</th>\n",
              "      <th>quantity</th>\n",
              "      <th>item_name</th>\n",
              "      <th>choice_description</th>\n",
              "      <th>item_price</th>\n",
              "    </tr>\n",
              "  </thead>\n",
              "  <tbody>\n",
              "    <tr>\n",
              "      <th>0</th>\n",
              "      <td>1</td>\n",
              "      <td>1</td>\n",
              "      <td>Chips and Fresh Tomato Salsa</td>\n",
              "      <td>NaN</td>\n",
              "      <td>2.39</td>\n",
              "    </tr>\n",
              "    <tr>\n",
              "      <th>1</th>\n",
              "      <td>1</td>\n",
              "      <td>1</td>\n",
              "      <td>Izze</td>\n",
              "      <td>[Clementine]</td>\n",
              "      <td>3.39</td>\n",
              "    </tr>\n",
              "    <tr>\n",
              "      <th>2</th>\n",
              "      <td>1</td>\n",
              "      <td>1</td>\n",
              "      <td>Nantucket Nectar</td>\n",
              "      <td>[Apple]</td>\n",
              "      <td>3.39</td>\n",
              "    </tr>\n",
              "    <tr>\n",
              "      <th>3</th>\n",
              "      <td>1</td>\n",
              "      <td>1</td>\n",
              "      <td>Chips and Tomatillo-Green Chili Salsa</td>\n",
              "      <td>NaN</td>\n",
              "      <td>2.39</td>\n",
              "    </tr>\n",
              "    <tr>\n",
              "      <th>4</th>\n",
              "      <td>2</td>\n",
              "      <td>2</td>\n",
              "      <td>Chicken Bowl</td>\n",
              "      <td>[Tomatillo-Red Chili Salsa (Hot), [Black Beans...</td>\n",
              "      <td>16.98</td>\n",
              "    </tr>\n",
              "  </tbody>\n",
              "</table>\n",
              "</div>"
            ],
            "text/plain": [
              "   order_id  ...  item_price\n",
              "0         1  ...        2.39\n",
              "1         1  ...        3.39\n",
              "2         1  ...        3.39\n",
              "3         1  ...        2.39\n",
              "4         2  ...       16.98\n",
              "\n",
              "[5 rows x 5 columns]"
            ]
          },
          "metadata": {
            "tags": []
          },
          "execution_count": 16
        }
      ]
    },
    {
      "cell_type": "code",
      "metadata": {
        "id": "ZVkytMPwWo__"
      },
      "source": [
        "# getting total price per item (which is item_price * quanitity )\n",
        "chipotle_orders['total_price_per_item'] = chipotle_orders['item_price'] * chipotle_orders['quantity']\n",
        "\n",
        "# aggregating the number of items ordered and the total price for each item (which is the price per order)\n",
        "total_price_per_order = chipotle_orders.groupby(['order_id'])[[\"total_price_per_item\", \"quantity\"]].sum().reset_index()"
      ],
      "execution_count": 17,
      "outputs": []
    },
    {
      "cell_type": "code",
      "metadata": {
        "colab": {
          "base_uri": "https://localhost:8080/"
        },
        "id": "enZb0v-gWtuO",
        "outputId": "47fb3eed-3d44-4bdb-aed1-b37553ef1fc8"
      },
      "source": [
        "# calculating the average price per order\n",
        "average_order_price = total_price_per_order['total_price_per_item'].mean()\n",
        "average_order_price"
      ],
      "execution_count": 18,
      "outputs": [
        {
          "output_type": "execute_result",
          "data": {
            "text/plain": [
              "21.394231188658654"
            ]
          },
          "metadata": {
            "tags": []
          },
          "execution_count": 18
        }
      ]
    },
    {
      "cell_type": "code",
      "metadata": {
        "colab": {
          "base_uri": "https://localhost:8080/"
        },
        "id": "HWJRmpv7WwhS",
        "outputId": "1dd5483e-34d0-4293-9231-7c2f05f4d44f"
      },
      "source": [
        "# calculating the average price per item ordered\n",
        "average_price_per_item = chipotle_orders['item_price'].mean()\n",
        "average_price_per_item"
      ],
      "execution_count": 19,
      "outputs": [
        {
          "output_type": "execute_result",
          "data": {
            "text/plain": [
              "7.464335785374397"
            ]
          },
          "metadata": {
            "tags": []
          },
          "execution_count": 19
        }
      ]
    },
    {
      "cell_type": "code",
      "metadata": {
        "id": "ZlGICdlnWzU4"
      },
      "source": [
        ""
      ],
      "execution_count": null,
      "outputs": []
    }
  ]
}